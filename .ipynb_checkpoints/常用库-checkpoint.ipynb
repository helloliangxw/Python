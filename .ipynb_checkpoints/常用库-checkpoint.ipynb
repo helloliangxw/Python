{
 "cells": [
  {
   "cell_type": "markdown",
   "metadata": {},
   "source": [
    "# math库"
   ]
  },
  {
   "cell_type": "markdown",
   "metadata": {},
   "source": [
    "|函数或属性名|说明|\n",
    "|:---:|:---:|\n",
    "|pi|\\\\(\\pi\\\\)的近似值，15位小数|\n",
    "|e|自然常数e的近似值，15位小数|\n",
    "|ceil(x)|向上去整|\n",
    "|floor(x)|向下去整|\n",
    "|pow(x, y)|\\\\(x^y\\\\)|\n",
    "|log(x)|\\\\(ln(x)\\\\)|\n",
    "|log10(x)|\\\\({log_{10}}^x\\\\)|\n",
    "|sqrt(x)|\\\\(\\sqrt{x}\\\\)|\n",
    "|exp(x)|\\\\(e^x\\\\)|\n",
    "|degrees(x)|弧度\\\\(\\rightarrow\\\\)角度|\n",
    "|radians(x)|角度\\\\(\\rightarrow\\\\)弧度|\n",
    "|sin(x) cos(x) tan(x)|三角函数|\n",
    "|asin(x) acos(x) atan(x)|反三角函数|"
   ]
  },
  {
   "cell_type": "markdown",
   "metadata": {},
   "source": [
    "# random库\n",
    "\n",
    "|函数名|说明|\n",
    "|:---:|:---:|\n",
    "|seed(x)|给随机数一个种子值，默认种子为系统时间戳|\n",
    "|random()|生成一个[0, 1.0)的随机小数|\n",
    "|uniform(a, b)|生成一个a到b的随机小数\n",
    "|randint(a, b)|生成一个a到b的随机整数|\n",
    "|randrange(a,b,c)|生成一个区间为[a,b)、步长为c的列表，然后从列表中随机取一个数|\n",
    "|choice(list)|从列表中随机取一个元素|\n",
    "|shuffle(list)|将列表的元素随机打乱|\n",
    "|sample(list, k)|从列表随机获取k个元素|\n"
   ]
  },
  {
   "cell_type": "markdown",
   "metadata": {},
   "source": [
    "随机种子的作用：设定相同的种子后，每次调用随即函数获得的随机数相同。  \n",
    "因为计算机是一个确定设备，无法生成真正的随机数。所以，由计算机产生的随机数都是由一个种子开始的伪随机序列。相同的种子产生相同的伪随机序列，也有利于程序的验证执行。"
   ]
  },
  {
   "cell_type": "code",
   "execution_count": null,
   "metadata": {
    "collapsed": true
   },
   "outputs": [],
   "source": []
  },
  {
   "cell_type": "code",
   "execution_count": null,
   "metadata": {
    "collapsed": true
   },
   "outputs": [],
   "source": []
  }
 ],
 "metadata": {
  "kernelspec": {
   "display_name": "Python 3",
   "language": "python",
   "name": "python3"
  },
  "language_info": {
   "codemirror_mode": {
    "name": "ipython",
    "version": 3
   },
   "file_extension": ".py",
   "mimetype": "text/x-python",
   "name": "python",
   "nbconvert_exporter": "python",
   "pygments_lexer": "ipython3",
   "version": "3.6.0"
  },
  "toc": {
   "colors": {
    "hover_highlight": "#DAA520",
    "running_highlight": "#FF0000",
    "selected_highlight": "#FFD700"
   },
   "moveMenuLeft": true,
   "nav_menu": {
    "height": "48px",
    "width": "252px"
   },
   "navigate_menu": true,
   "number_sections": true,
   "sideBar": true,
   "threshold": 4,
   "toc_cell": false,
   "toc_section_display": "block",
   "toc_window_display": false
  }
 },
 "nbformat": 4,
 "nbformat_minor": 2
}

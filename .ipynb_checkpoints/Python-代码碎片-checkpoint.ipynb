{
 "cells": [
  {
   "cell_type": "markdown",
   "metadata": {},
   "source": [
    "---\n",
    "title: Python-代码碎片\n",
    "date: 2017-04-20 09:19:00\n",
    "mathjax: true\n",
    "categories: \"Python-代码碎片\"\n",
    "---"
   ]
  },
  {
   "cell_type": "markdown",
   "metadata": {},
   "source": [
    "# 字符串反转"
   ]
  },
  {
   "cell_type": "code",
   "execution_count": 16,
   "metadata": {
    "collapsed": false
   },
   "outputs": [
    {
     "name": "stdout",
     "output_type": "stream",
     "text": [
      "  .eniF !uoy era woh !olleh   \n"
     ]
    }
   ],
   "source": [
    "def reverse(lst, start, end):\n",
    "    '''\n",
    "    实现列表反转\n",
    "    '''\n",
    "    while start < end:\n",
    "        lst[start], lst[end] = lst[end], lst[start]\n",
    "        start += 1\n",
    "        end -= 1\n",
    "\n",
    "sentence = '   hello! how are you! Fine.  '\n",
    "reverse(list(sentence), 0, len(strList)-1)\n",
    "\n",
    "print ''.join(strList)"
   ]
  },
  {
   "cell_type": "markdown",
   "metadata": {},
   "source": [
    "# 快速判断一个数是否为2的幂"
   ]
  },
  {
   "cell_type": "code",
   "execution_count": 15,
   "metadata": {
    "collapsed": false
   },
   "outputs": [
    {
     "name": "stdout",
     "output_type": "stream",
     "text": [
      "False\n"
     ]
    }
   ],
   "source": [
    "def is_pow2(n):\n",
    "    return (n & (n-1))==0\n",
    "\n",
    "print is_pow2(31)"
   ]
  },
  {
   "cell_type": "markdown",
   "metadata": {},
   "source": [
    "# 螺旋矩阵\n",
    "给定一个\\\\((m×n)\\\\)的矩阵，按照螺旋顺序，返回该矩阵的所有要素。\n",
    "\n",
    "如：\n",
    "\\\\(\\textbf{A}=\\begin{bmatrix}\n",
    "1 & 2 & 3 \\\\\\\\ \n",
    "4 & 5 & 6\\\\\\\\ \n",
    "7 & 8 & 9\n",
    "\\end{bmatrix}\\\\)，返回：\\\\([1, 2, 3, 6, 9, 8, 7, 4, 5]\\\\)。\n",
    "\n",
    "思路：\n",
    "1. 首先打印第一行，去掉第一行后剩余的矩阵记为temp\n",
    "2. 将temp逆时针翻转\\\\(90^o\\\\)，打印第一行\n",
    "3. 重复1-2步骤，直到矩阵temp的元素个数为0\n"
   ]
  },
  {
   "cell_type": "code",
   "execution_count": 86,
   "metadata": {
    "collapsed": false
   },
   "outputs": [
    {
     "name": "stdout",
     "output_type": "stream",
     "text": [
      "[0, 1, 2]\n",
      "[3, 4, 5]\n",
      "[6, 7, 8]\n",
      "[9, 10, 11]\n",
      "----------------------------------------------\n",
      "[0, 1, 2, 5, 8, 11, 10, 9, 6, 3, 4, 7]\n"
     ]
    }
   ],
   "source": [
    "# 构造矩阵A，方便测试\n",
    "ROW, COL = 4, 3 # 行数，列数\n",
    "listA = [[ i for i in range(0 + j * COL, COL + j * COL)] for j in range(ROW)]\n",
    "# 打印A\n",
    "for i in listA:\n",
    "    print i\n",
    "\n",
    "print \"----------------------------------------------\"\n",
    "\n",
    "\n",
    "listB=[]\n",
    "\n",
    "listTemp = listA\n",
    "    \n",
    "while len(listTemp) > 0:\n",
    "    # 首先加入第一行\n",
    "    listB.extend(listA[0])\n",
    "    \n",
    "    # 去掉第一行后，剩余矩阵的行数和列数\n",
    "    m = len(listA) - 1\n",
    "    n = len(listA[0])\n",
    "\n",
    "    listTemp = [[0] for i in range(n)]\n",
    "    \n",
    "    # 对剩余的矩阵进行逆时针旋转\n",
    "    for l in range(n - 1, -1, -1):\n",
    "        t = []\n",
    "        for r in range(1, m + 1):\n",
    "            t.append(listA[r][l])\n",
    "        listTemp[n-l-1]=t\n",
    "    \n",
    "    listA = listTemp\n",
    "\n",
    "    \n",
    "print listB"
   ]
  },
  {
   "cell_type": "markdown",
   "metadata": {},
   "source": [
    "# 矩阵转换\n",
    "给定矩阵\\\\(\\textbf{A}\\\\)，令矩阵\\\\(\\textbf{B}\\\\)（与\\\\(\\textbf{A}\\\\)同型）里每个元素\\\\(\\textbf{B}\\_{i,j}\\\\)的值等于\\\\(\\textbf{A}\\_{1,1}\\\\)到\\\\(\\textbf{A}\\_{i,j}\\\\)子矩阵元素的和。\n",
    "\n",
    "思路：\n",
    "1. \\\\(\\textbf{B}\\_{1,1} = \\textbf{A}\\_{1,1}\\\\)\n",
    "2. 第一行：\\\\(\\textbf{B}\\_{1,j} = \\textbf{B}\\_{1,j-1} + \\textbf{A}\\_{1,j}\\\\)\n",
    "3. 第一列：\\\\(\\textbf{B}\\_{i,1} = \\textbf{B}\\_{i-1,1} + \\textbf{A}\\_{i,1}\\\\)\n",
    "4. 其他：\\\\(\\textbf{B}\\_{i,j} = \\textbf{B}\\_{i-1,j} + \\textbf{B}\\_{i,j-1} - \\textbf{B}\\_{i-1,j-1} + \\textbf{A}\\_{i,j}\\\\)"
   ]
  },
  {
   "cell_type": "code",
   "execution_count": 108,
   "metadata": {
    "collapsed": false
   },
   "outputs": [
    {
     "name": "stdout",
     "output_type": "stream",
     "text": [
      "[0, 1]\n",
      "[2, 3]\n",
      "[4, 5]\n",
      "[6, 7]\n",
      "[8, 9]\n",
      "[10, 11]\n",
      "[12, 13]\n",
      "[14, 15]\n",
      "----------------------------------------------\n",
      "[0, 1]\n",
      "[2, 6]\n",
      "[6, 15]\n",
      "[12, 28]\n",
      "[20, 45]\n",
      "[30, 66]\n",
      "[42, 91]\n",
      "[56, 120]\n"
     ]
    }
   ],
   "source": [
    "# 构造矩阵A，方便测试\n",
    "ROW, COL = 8, 2 # 行数，列数\n",
    "listA = [[ i for i in range(0 + j * COL, COL + j * COL)] for j in range(ROW)]\n",
    "# 打印A\n",
    "for i in listA:\n",
    "    print i\n",
    "\n",
    "print \"----------------------------------------------\"\n",
    "\n",
    "\n",
    "m, n = len(listA), len(listA[0])\n",
    "\n",
    "listB = listA\n",
    "\n",
    "\n",
    "for i in range(m):\n",
    "    for j in range(n):\n",
    "        # 第0行\n",
    "        if (i == 0) & (j > 0):\n",
    "            listB[0][j] = listB[0][j - 1] + listA[0][j]\n",
    "        # 第0列\n",
    "        if (j == 0) & (i > 0):\n",
    "            listB[i][0] = listB[i - 1][0] + listA[i][0]\n",
    "        # 其他\n",
    "        if (i > 0) & (j > 0):\n",
    "            listB[i][j] = listB[i - 1][j] + listB[i][j - 1] - listB[i - 1][j - 1] + listA[i][j]\n",
    "\n",
    "for i in listB:\n",
    "    print i\n",
    "\n"
   ]
  }
 ],
 "metadata": {
  "anaconda-cloud": {},
  "kernelspec": {
   "display_name": "Python 3",
   "language": "python",
   "name": "python3"
  },
  "language_info": {
   "codemirror_mode": {
    "name": "ipython",
    "version": 3
   },
   "file_extension": ".py",
   "mimetype": "text/x-python",
   "name": "python",
   "nbconvert_exporter": "python",
   "pygments_lexer": "ipython3",
   "version": "3.6.0"
  },
  "toc": {
   "colors": {
    "hover_highlight": "#DAA520",
    "running_highlight": "#FF0000",
    "selected_highlight": "#FFD700"
   },
   "moveMenuLeft": true,
   "nav_menu": {
    "height": "104px",
    "width": "252px"
   },
   "navigate_menu": true,
   "number_sections": true,
   "sideBar": true,
   "threshold": 4,
   "toc_cell": false,
   "toc_section_display": "block",
   "toc_window_display": true
  }
 },
 "nbformat": 4,
 "nbformat_minor": 1
}

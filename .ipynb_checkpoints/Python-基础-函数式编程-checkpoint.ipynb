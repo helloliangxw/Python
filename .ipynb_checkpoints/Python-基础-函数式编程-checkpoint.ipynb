{
 "cells": [
  {
   "cell_type": "markdown",
   "metadata": {},
   "source": [
    "---\n",
    "title: Python-基础-函数进阶\n",
    "date: 2017-04-19 17:40:00\n",
    "mathjax: true\n",
    "categories: \"Python-基础\"\n",
    "---"
   ]
  },
  {
   "cell_type": "markdown",
   "metadata": {},
   "source": [
    "# 高阶函数"
   ]
  },
  {
   "cell_type": "markdown",
   "metadata": {},
   "source": [
    "将其他函数作为参数传入的函数叫**高阶函数**。"
   ]
  },
  {
   "cell_type": "code",
   "execution_count": 3,
   "metadata": {
    "collapsed": false
   },
   "outputs": [
    {
     "name": "stdout",
     "output_type": "stream",
     "text": [
      "10\n",
      "<built-in function abs>\n",
      "9\n"
     ]
    }
   ],
   "source": [
    "# 如绝对值函数\n",
    "print abs(-10)\n",
    "\n",
    "# 在Python中一切都是对象\n",
    "print abs\n",
    "\n",
    "# 因此该函数也可以赋值给其他变量\n",
    "myAbs = abs\n",
    "print myAbs(-9)"
   ]
  },
  {
   "cell_type": "markdown",
   "metadata": {},
   "source": [
    "既然函数本身就可以作为一个变量，那函数也可以作为另一个函数的参数。"
   ]
  },
  {
   "cell_type": "code",
   "execution_count": 4,
   "metadata": {
    "collapsed": false
   },
   "outputs": [
    {
     "name": "stdout",
     "output_type": "stream",
     "text": [
      "19\n"
     ]
    }
   ],
   "source": [
    "def MyAdd(x, y, op):\n",
    "    return op(x) + op(y)\n",
    "\n",
    "print MyAdd(-10, 9, abs)"
   ]
  },
  {
   "cell_type": "markdown",
   "metadata": {},
   "source": [
    "# 匿名函数"
   ]
  },
  {
   "cell_type": "markdown",
   "metadata": {},
   "source": [
    "Python使用`lambda`来创建匿名函数。\n",
    "\n",
    "- lambda只是一个表达式，函数体比def简单很多。\n",
    "- lambda的主体是一个表达式，而不是一个代码块。仅仅能在lambda表达式中封装有限的逻辑进去。\n",
    "- lambda函数拥有自己的命名空间，且不能访问自有参数列表之外或全局命名空间里的参数。\n",
    "- 虽然lambda函数看起来只能写一行，却不等同于C或C++的内联函数，后者的目的是调用小函数时不占用栈内存从而增加运行效率。\n",
    "- 最重要的一点，lambda表达式可以体现你的逼格。\n",
    "    华尔街和伦敦银行高街最逼的一群人都是自诩**用且只用函数式编程**的。什么是函数式编程？就是类似于全篇程序都用Python中lambda这样的一行代码来解决问题。为什么他们逼？因为数学家们学编程的时候，脑子还在数学公式这条线上；他们不会写面对对象编程，只会死想出一条条公式来解决问题；其实这是智商堪忧的体现；但是因为投行基金们很倾向于聘用这群数学家转型的半吊子程序员；他们的使用习惯于是成了圈内高逼的体现；恩，葡萄就是这么酸。\n",
    "\n",
    "## 语法\n",
    "\n",
    "```python\n",
    "lambda [arg1 [,arg2,.....argn]]:expression\n",
    "```"
   ]
  },
  {
   "cell_type": "code",
   "execution_count": 8,
   "metadata": {
    "collapsed": false
   },
   "outputs": [
    {
     "name": "stdout",
     "output_type": "stream",
     "text": [
      "30\n"
     ]
    }
   ],
   "source": [
    "mySum = lambda arg1, arg2: arg1 + arg2\n",
    "print (mySum(10, 20))"
   ]
  },
  {
   "cell_type": "code",
   "execution_count": 9,
   "metadata": {
    "collapsed": true
   },
   "outputs": [],
   "source": [
    "# 楼上这个，实际上等同于\n",
    "def mySum(arg1, arg2):\n",
    "    return arg1 + arg2"
   ]
  },
  {
   "cell_type": "markdown",
   "metadata": {},
   "source": [
    "## reduce"
   ]
  },
  {
   "cell_type": "markdown",
   "metadata": {},
   "source": [
    "Python中的`reduce()`内建函数是一个二元操作函数，他用来将一个数据集合(列表，元组等)中的所有数据进行如下操作：传给reduce()中的函数func() (必须是一个二元操作函数)，先对集合中的第1，2个数据进行操作，得到的结果再与第3个数据用func()函数运算，以此类推，最后得到一个结果。\n",
    "顾名思义，`reduce()`就是要把一个list给缩成一个值。所以你必须用二元操作函数。"
   ]
  },
  {
   "cell_type": "code",
   "execution_count": 22,
   "metadata": {
    "collapsed": false
   },
   "outputs": [
    {
     "name": "stdout",
     "output_type": "stream",
     "text": [
      "15\n",
      "25\n"
     ]
    }
   ],
   "source": [
    "from functools import reduce\n",
    "\n",
    "lst = [1,2,3,4,5]\n",
    "print(reduce(lambda x,y: x + y, lst))\n",
    "# 这里代表着，把list中的值，一个个放进lamda的x,y中\n",
    "\n",
    "# 如果你给出一个初始值，可以放在list后面\n",
    "print(reduce(lambda x,y: x + y, lst, 10))\n",
    "# 这样，x开始的时候被赋值为10，然后依次"
   ]
  },
  {
   "cell_type": "markdown",
   "metadata": {},
   "source": [
    "## map\n",
    "\n",
    "`map()`函数应用于每一个可迭代的项，返回的是一个结果list。如果有其他的可迭代参数传进来，map函数则会把每一个参数都以相应的处理函数进行迭代处理。\n",
    "`map()`可以使用任何的lambda函数操作，本质上是把原有的list根据lambda法则变成另外一个list"
   ]
  },
  {
   "cell_type": "code",
   "execution_count": 18,
   "metadata": {
    "collapsed": false
   },
   "outputs": [
    {
     "name": "stdout",
     "output_type": "stream",
     "text": [
      "[2, 3, 4]\n",
      "[5, 7, 9]\n"
     ]
    }
   ],
   "source": [
    "# Py3里，外面需要套个list：\n",
    "# 这是为了让里面的值给显示出来，要不然你会得到这是个map函数\n",
    "# 而不是里面的值。\n",
    "# Py2不需要\n",
    "lst = [1, 2, 3]\n",
    "new_list = list(map(lambda i: i+1, lst))\n",
    "print(new_list)\n",
    "\n",
    "# 我们也可以把两个数组搞成一个单独的数组\n",
    "lst0 = [4,5,6]\n",
    "new_list = list(map(lambda x,y: x+y, lst, lst0))\n",
    "print(new_list)"
   ]
  },
  {
   "cell_type": "markdown",
   "metadata": {},
   "source": [
    "## filter\n",
    "\n",
    "`filter()`函数可以对序列做过滤处理，就是说可以使用一个自定的函数过滤一个序列。 \n",
    "和map()类似，`filter()`也接收一个函数和一个序列。和map()不同的时，filter()把传入的函数依次作用于每个元素，然后根据返回值是True还是False决定保留还是丢弃该元素。"
   ]
  },
  {
   "cell_type": "code",
   "execution_count": 20,
   "metadata": {
    "collapsed": false
   },
   "outputs": [
    {
     "name": "stdout",
     "output_type": "stream",
     "text": [
      "[20, 24]\n"
     ]
    }
   ],
   "source": [
    "lst = [100, 20, 24, 50, 110]\n",
    "new_list = list(filter(lambda x: x < 50, lst))\n",
    "# 同理，py3得套个list来转化成list函数，便于打印出来\n",
    "print(new_list)"
   ]
  },
  {
   "cell_type": "markdown",
   "metadata": {},
   "source": [
    "# 装饰器"
   ]
  },
  {
   "cell_type": "markdown",
   "metadata": {},
   "source": [
    "装饰器就是函数的`包装`。直接上🌰。\n",
    "\n",
    "## 函数装饰器\n",
    "\n",
    "博主有个小项目，项目中有个很简单很简单的函数："
   ]
  },
  {
   "cell_type": "code",
   "execution_count": 112,
   "metadata": {
    "collapsed": false
   },
   "outputs": [
    {
     "name": "stdout",
     "output_type": "stream",
     "text": [
      "call foo()\n"
     ]
    }
   ],
   "source": [
    "def foo():\n",
    "    print 'call foo()'\n",
    "\n",
    "foo()"
   ]
  },
  {
   "cell_type": "markdown",
   "metadata": {},
   "source": [
    "没错，就是这么简单！\n",
    "\n",
    "现在博主想看这个函数的运行时间："
   ]
  },
  {
   "cell_type": "code",
   "execution_count": 113,
   "metadata": {
    "collapsed": false
   },
   "outputs": [
    {
     "name": "stdout",
     "output_type": "stream",
     "text": [
      "call foo()\n",
      "time used: 0.000371863878172\n"
     ]
    }
   ],
   "source": [
    "import time\n",
    "def foo():\n",
    "    start = time.clock()\n",
    "    print 'call foo()'\n",
    "    end = time.clock()\n",
    "    print 'time used:', end - start\n",
    "\n",
    "foo()"
   ]
  },
  {
   "cell_type": "markdown",
   "metadata": {},
   "source": [
    "很好，功能看起来无懈可击。\n",
    "\n",
    "可是DT的博主第二天对`foo()`不感兴趣了，想看另外一个函数`foo2()`的运行时间。第三天想看`foo3()`函数的运行时间。。。\n",
    "\n",
    "怎么办呢？如果把`foo()`的函数体（第6行）换成`foo2()`或者`foo3()`的函数体，就犯了大忌了。修改、复制什么的难道不是最讨厌了么！而且，如果博主某天脑抽想看其他100个函数的运行时间呢？要修改复制100次吗？\n",
    "\n",
    "**以不变应万变！**"
   ]
  },
  {
   "cell_type": "code",
   "execution_count": 114,
   "metadata": {
    "collapsed": false
   },
   "outputs": [
    {
     "name": "stdout",
     "output_type": "stream",
     "text": [
      "call foo()\n",
      "time used: 0.000322124124068\n",
      "call foo2()\n",
      "time used: 1.81589575732e-05\n"
     ]
    }
   ],
   "source": [
    "import time\n",
    " \n",
    "def foo():\n",
    "    print 'call foo()'\n",
    "    \n",
    "def foo2():\n",
    "    print 'call foo2()'       \n",
    "\n",
    "def timeit(func):\n",
    "    start = time.clock()\n",
    "    func()\n",
    "    end =time.clock()\n",
    "    print 'time used:', end - start\n",
    "    \n",
    "timeit(foo)    \n",
    "timeit(foo2)"
   ]
  },
  {
   "cell_type": "markdown",
   "metadata": {},
   "source": [
    "看起来逻辑上并没有问题，一切都很美好并且运作正常！\n",
    "\n",
    "但是，我们似乎修改了调用部分的代码。原本我们是这样调用的：`foo()`，修改以后变成了：`timeit(foo)`。这样的话，会出现以下的问题：如果项目中`foo()`在N处都被调用了，就不得不去修改这N处的代码（更极端的，其中某处调用的代码是交给别人写的，无法修改）。\n",
    "\n",
    "**最大限度的少改动！**"
   ]
  },
  {
   "cell_type": "code",
   "execution_count": 116,
   "metadata": {
    "collapsed": false
   },
   "outputs": [
    {
     "name": "stdout",
     "output_type": "stream",
     "text": [
      "call foo()\n",
      "time used: 0.000342651641404\n"
     ]
    }
   ],
   "source": [
    "import time\n",
    " \n",
    "def foo():\n",
    "    print 'call foo()'\n",
    "\n",
    "# 定义一个计时器，传入一个，并返回另一个附加了计时功能的方法\n",
    "def timeit(func):\n",
    "     \n",
    "    # 定义一个内嵌的包装函数，给传入的函数加上计时功能的包装\n",
    "    def wrapper():\n",
    "        start = time.clock()\n",
    "        func()\n",
    "        end =time.clock()\n",
    "        print 'time used:', end - start\n",
    "     \n",
    "    # 将包装后的函数返回\n",
    "    return wrapper\n",
    " \n",
    "foo = timeit(foo)\n",
    "foo()"
   ]
  },
  {
   "cell_type": "markdown",
   "metadata": {},
   "source": [
    "这样，一个简易的计时器就做好了！我们只需要在调用`foo()`之前，加上`foo = timeit(foo)`，就可以达到计时的目的，这也就是**装饰器**的概念，看起来像是`foo()`被`timeit()`装饰了。\n",
    "\n",
    "上面这段代码看起来似乎已经不能再精简了，Python提供了一个语法糖来降低字符输入量。"
   ]
  },
  {
   "cell_type": "code",
   "execution_count": 117,
   "metadata": {
    "collapsed": false
   },
   "outputs": [
    {
     "name": "stdout",
     "output_type": "stream",
     "text": [
      "call foo()\n",
      "used: 0.000329624563165\n"
     ]
    }
   ],
   "source": [
    "import time\n",
    " \n",
    "def timeit(func):\n",
    "    def wrapper():\n",
    "        start = time.clock()\n",
    "        func()\n",
    "        end =time.clock()\n",
    "        print 'used:', end - start\n",
    "    return wrapper\n",
    " \n",
    "@timeit\n",
    "def foo():\n",
    "    print 'call foo()'\n",
    "\n",
    "foo()"
   ]
  },
  {
   "cell_type": "markdown",
   "metadata": {},
   "source": [
    "重点关注第11行的`@timeit`，在定义上加上这一行与另外写`foo = timeit(foo)`完全等价，千万不要以为`@`有另外的魔力。\n",
    "\n",
    "这样除了字符输入少了一些，还有一个额外的好处：看上去更有装饰器的感觉。"
   ]
  },
  {
   "cell_type": "markdown",
   "metadata": {},
   "source": [
    "所以，本质上来讲，用装饰器`@decorator`来装饰某个函数时，其实是做了下面这件事儿：\n",
    "\n",
    "```python\n",
    "@decorator\n",
    "def func():\n",
    "    pass\n",
    "```\n",
    "\n",
    "变成了：\n",
    "\n",
    "```python\n",
    "func = decorator(func)\n",
    "```\n",
    "\n",
    "再简单点说，就是**把一个函数传到另外一个函数中，再返回给自己**。"
   ]
  },
  {
   "cell_type": "markdown",
   "metadata": {},
   "source": [
    "可以给装饰器带参数：\n",
    "```python\n",
    "@decorator(arg1, arg2)\n",
    "def func():\n",
    "    pass\n",
    "```\n",
    "\n",
    "相当于：\n",
    "\n",
    "```python\n",
    "func = decorator(arg1,arg2)(func)\n",
    "```"
   ]
  },
  {
   "cell_type": "code",
   "execution_count": 123,
   "metadata": {
    "collapsed": false
   },
   "outputs": [
    {
     "name": "stdout",
     "output_type": "stream",
     "text": [
      "Good + hello world + Nice\n"
     ]
    }
   ],
   "source": [
    "def addWords(**kwds):\n",
    "\n",
    "    # 对参数进行解析\n",
    "    pre = \"{0}\".format(kwds[\"prefix\"]) if \"prefix\" in kwds else \"\"\n",
    "    suf = \"{0}\".format(kwds[\"suffix\"]) if \"suffix\" in kwds else \"\"\n",
    "    \n",
    "    # 真实的装饰器\n",
    "    def real_decorator(func):\n",
    "        def wrapper():\n",
    "            return pre + \" + \" + func() + \" + \" + suf\n",
    "        return wrapper\n",
    "    return real_decorator\n",
    "\n",
    "@addWords(prefix = 'Good', suffix = \"Nice\")\n",
    "def foo():\n",
    "    return \"hello world\"\n",
    "\n",
    "print foo()"
   ]
  },
  {
   "cell_type": "markdown",
   "metadata": {},
   "source": [
    "`foo()`就是一个简单的打印\"hello world\"的函数。\n",
    "装饰器的功能是在\"hello world\"的前后各加一个单词，而加什么单词由装饰起的参数而定。"
   ]
  },
  {
   "cell_type": "code",
   "execution_count": 121,
   "metadata": {
    "collapsed": false
   },
   "outputs": [
    {
     "name": "stdout",
     "output_type": "stream",
     "text": [
      "LOL + hello world + SALA\n"
     ]
    }
   ],
   "source": [
    "@addWords(prefix = 'LOL', suffix = \"SALA\")\n",
    "def foo():\n",
    "    return \"hello world\"\n",
    "\n",
    "print foo()"
   ]
  },
  {
   "cell_type": "markdown",
   "metadata": {},
   "source": [
    "我们也可以搞多个装饰：\n",
    "\n",
    "```python\n",
    "@decorator_one\n",
    "@decorator_two\n",
    "def func():\n",
    "    pass\n",
    "```\n",
    "\n",
    "相当于：\n",
    "\n",
    "```python\n",
    "func = decorator_one(decorator_two(func))\n",
    "```"
   ]
  },
  {
   "cell_type": "code",
   "execution_count": 122,
   "metadata": {
    "collapsed": false
   },
   "outputs": [
    {
     "name": "stdout",
     "output_type": "stream",
     "text": [
      "LOL + DOTA + hello world + SOLO + SALA\n"
     ]
    }
   ],
   "source": [
    "@addWords(prefix = 'LOL', suffix = \"SALA\")\n",
    "@addWords(prefix = 'DOTA', suffix = \"SOLO\")\n",
    "def foo():\n",
    "    return \"hello world\"\n",
    "\n",
    "print foo()"
   ]
  },
  {
   "cell_type": "markdown",
   "metadata": {},
   "source": [
    "我们来看个实用的网页编程的case:"
   ]
  },
  {
   "cell_type": "code",
   "execution_count": 125,
   "metadata": {
    "collapsed": false
   },
   "outputs": [
    {
     "name": "stdout",
     "output_type": "stream",
     "text": [
      "<b class='bold_css'><i class='italic_css'>hello world</i></b>\n"
     ]
    }
   ],
   "source": [
    "def makeHtmlTag(tag, **kwds):\n",
    "    \n",
    "    css_class = \" class='{0}'\".format(kwds[\"css_class\"]) if \"css_class\" in kwds else \"\"\n",
    "    \n",
    "    def real_decorator(fn):\n",
    "        def wrapped():\n",
    "            return \"<\" + tag + css_class + \">\" + fn() + \"</\" + tag + \">\"\n",
    "        return wrapped\n",
    "    return real_decorator\n",
    " \n",
    "@makeHtmlTag(tag=\"b\", css_class=\"bold_css\")\n",
    "@makeHtmlTag(tag=\"i\", css_class=\"italic_css\")\n",
    "def hello():\n",
    "    return \"hello world\"\n",
    " \n",
    "print(hello())"
   ]
  },
  {
   "cell_type": "markdown",
   "metadata": {},
   "source": [
    "## 类装饰器"
   ]
  },
  {
   "cell_type": "markdown",
   "metadata": {},
   "source": [
    "类装饰器相比函数装饰器，具有灵活度大，高内聚、封装性等优点。其实现起来主要是靠类内部的`__call__`方法，当使用`@`形式将装饰器附加到函数上时，就会调用此方法，下面时一个实例:"
   ]
  },
  {
   "cell_type": "code",
   "execution_count": 130,
   "metadata": {
    "collapsed": false
   },
   "outputs": [
    {
     "name": "stdout",
     "output_type": "stream",
     "text": [
      "1. inside decorator.__init__()\n",
      "2. Finished decorating foo()\n",
      "3. inside decorator.__call__()\n",
      "4. inside foo()\n"
     ]
    }
   ],
   "source": [
    "class decorator(object):\n",
    " \n",
    "    def __init__(self, fn):\n",
    "        print(\"1. inside decorator.__init__()\")\n",
    "        self.fn = fn\n",
    " \n",
    "    def __call__(self):\n",
    "        print(\"3. inside decorator.__call__()\")\n",
    "        self.fn()\n",
    "\n",
    "@decorator\n",
    "def foo():\n",
    "    print(\"4. inside foo()\")\n",
    "\n",
    "print(\"2. Finished decorating foo()\")\n",
    " \n",
    "foo()"
   ]
  },
  {
   "cell_type": "markdown",
   "metadata": {},
   "source": [
    "上面的例子也展示了程序运行的流程。\n",
    "\n",
    "类装饰器比函数装饰器看着清楚点儿，这样我们再把刚刚的网页编程那段改一下，就得到："
   ]
  },
  {
   "cell_type": "code",
   "execution_count": 143,
   "metadata": {
    "collapsed": false
   },
   "outputs": [
    {
     "name": "stdout",
     "output_type": "stream",
     "text": [
      "<b class='bold_css'><i class='italic_css'>Hello, Baby</i></b>\n"
     ]
    }
   ],
   "source": [
    "class makeHtmlTagClass(object):\n",
    " \n",
    "    def __init__(self, tag, css_class=\"\"):\n",
    "        self._tag = tag\n",
    "        self._css_class = \" class='{0}'\".format(css_class) if css_class !=\"\" else \"\"\n",
    " \n",
    "    def __call__(self, fn):\n",
    "        def wrapped(*args):\n",
    "            return \"<\" + self._tag + self._css_class + \">\"  + fn(*args) + \"</\" + self._tag + \">\"\n",
    "        return wrapped\n",
    "\n",
    "@makeHtmlTagClass(tag=\"b\", css_class=\"bold_css\")\n",
    "@makeHtmlTagClass(tag=\"i\", css_class=\"italic_css\")\n",
    "def hello(name):\n",
    "    return \"Hello, {}\".format(name)\n",
    " \n",
    "print(hello(\"Baby\"))"
   ]
  },
  {
   "cell_type": "markdown",
   "metadata": {},
   "source": [
    "装饰器的副作用：\n",
    "\n",
    "因为装饰起的因素，我们原本的`hello()`函数其实已经变成了一个叫`wrapper()`函数。\n",
    "\n",
    "比如，你再调用`__name__`的时候，他会告诉你，这是`wrapper`, 而不是`hello`:"
   ]
  },
  {
   "cell_type": "code",
   "execution_count": 138,
   "metadata": {
    "collapsed": false
   },
   "outputs": [
    {
     "name": "stdout",
     "output_type": "stream",
     "text": [
      "wrapped\n"
     ]
    }
   ],
   "source": [
    "print hello.__name__"
   ]
  },
  {
   "cell_type": "markdown",
   "metadata": {},
   "source": [
    "当然，虽然功能效果不变，但是有些处女座的童鞋会觉得很不爽。\n",
    "所以，Python的`functool`包中提供了一个叫`wrap`的装饰起来消除这样的副作用："
   ]
  },
  {
   "cell_type": "code",
   "execution_count": 141,
   "metadata": {
    "collapsed": false
   },
   "outputs": [
    {
     "name": "stdout",
     "output_type": "stream",
     "text": [
      "hello, foo\n",
      "i am foo\n",
      "goodby, foo\n",
      "----------------------\n",
      "foo\n",
      "foo help doc\n"
     ]
    }
   ],
   "source": [
    "from functools import wraps\n",
    "\n",
    "def hello(fn):\n",
    "    @wraps(fn)\n",
    "    def wrapper():\n",
    "        print(\"hello, %s\" % fn.__name__)\n",
    "        fn()\n",
    "        print(\"goodby, %s\" % fn.__name__)\n",
    "    return wrapper\n",
    " \n",
    "@hello\n",
    "def foo():\n",
    "    '''foo help doc'''\n",
    "    print(\"i am foo\")\n",
    "    pass\n",
    " \n",
    "foo()\n",
    "\n",
    "print '----------------------'\n",
    "\n",
    "print(foo.__name__)\n",
    "print(foo.__doc__)"
   ]
  },
  {
   "cell_type": "markdown",
   "metadata": {},
   "source": [
    "## 经典案例\n",
    "\n",
    "最后，看一个经典的例子，斐波那契数列："
   ]
  },
  {
   "cell_type": "code",
   "execution_count": 149,
   "metadata": {
    "collapsed": false
   },
   "outputs": [
    {
     "name": "stdout",
     "output_type": "stream",
     "text": [
      "55\n"
     ]
    }
   ],
   "source": [
    "from functools import wraps\n",
    "\n",
    "cache = {}\n",
    "miss = object()\n",
    "\n",
    "def memory(fn):\n",
    "\n",
    "    @wraps(fn)\n",
    "    def wrapper(*args):\n",
    "        result = cache.get(args, miss)\n",
    "        if result is miss:\n",
    "            result = fn(*args)\n",
    "            cache[args] = result\n",
    "        return result\n",
    " \n",
    "    return wrapper\n",
    " \n",
    "@memory\n",
    "def fib(n):\n",
    "    if n < 2:\n",
    "        return n\n",
    "    return fib(n - 1) + fib(n - 2)\n",
    "\n",
    "print fib(10)"
   ]
  },
  {
   "cell_type": "markdown",
   "metadata": {},
   "source": [
    "我们知道，这个递归是相当没有效率的，因为会重复调用。比如：我们要计算fib(5)，于是其分解成fib(4) + fib(3)，而fib(4)分解成fib(3)+fib(2)，fib(3)又分解成fib(2)+fib(1)…… 你可看到，基本上来说，fib(3), fib(2), fib(1)在整个递归过程中被调用了两次。\n",
    "而我们用装饰器，在调用函数前查询一下缓存，如果没有再调用，如果有就从缓存中返回值。\n",
    "这样，这个递归从二叉树式的递归成了线性的递归。"
   ]
  },
  {
   "cell_type": "markdown",
   "metadata": {},
   "source": [
    "# 偏函数"
   ]
  },
  {
   "cell_type": "markdown",
   "metadata": {},
   "source": [
    "Python的`functools`模块提供了很多有用的功能，其中一个就是偏函数（`Partial function`）。要注意，这里的偏函数和数学意义上的偏函数不一样。\n",
    "\n",
    "在介绍函数参数的时候，我们讲到，通过设定参数的默认值，可以降低函数调用的难度。而偏函数也可以做到这一点。举例如下：\n",
    "\n",
    "`int()`函数可以把字符串转换为整数，当仅传入字符串时，`int()`函数默认按十进制转换："
   ]
  },
  {
   "cell_type": "code",
   "execution_count": 205,
   "metadata": {
    "collapsed": false
   },
   "outputs": [
    {
     "name": "stdout",
     "output_type": "stream",
     "text": [
      "110\n"
     ]
    }
   ],
   "source": [
    "print int('110')"
   ]
  },
  {
   "cell_type": "markdown",
   "metadata": {},
   "source": [
    "但`int()`函数还提供额外的`base`参数，默认值为10。如果传入`base`参数，就可以做N进制的转换："
   ]
  },
  {
   "cell_type": "code",
   "execution_count": 207,
   "metadata": {
    "collapsed": false
   },
   "outputs": [
    {
     "name": "stdout",
     "output_type": "stream",
     "text": [
      "6\n"
     ]
    }
   ],
   "source": [
    "print int('110', base = 2)"
   ]
  },
  {
   "cell_type": "markdown",
   "metadata": {},
   "source": [
    "假设要转换大量的二进制字符串，每次都传入`int(x, base=2)`非常麻烦，于是，我们想到，可以定义一个`int2()`的函数，默认把`base=2`传进去："
   ]
  },
  {
   "cell_type": "code",
   "execution_count": 208,
   "metadata": {
    "collapsed": false
   },
   "outputs": [
    {
     "name": "stdout",
     "output_type": "stream",
     "text": [
      "8\n",
      "15\n"
     ]
    }
   ],
   "source": [
    "def int2(x, base=2):\n",
    "    return int(x, base)\n",
    "\n",
    "print int2('1000')\n",
    "print int2('1111')"
   ]
  },
  {
   "cell_type": "markdown",
   "metadata": {},
   "source": [
    "`functools.partial`就是帮助我们创建一个偏函数的，不需要我们自己定义`int2()`，可以直接使用下面的代码创建一个新的函数`int2`："
   ]
  },
  {
   "cell_type": "code",
   "execution_count": 210,
   "metadata": {
    "collapsed": false
   },
   "outputs": [
    {
     "name": "stdout",
     "output_type": "stream",
     "text": [
      "64\n",
      "85\n"
     ]
    }
   ],
   "source": [
    "import functools\n",
    "int2 = functools.partial(int, base=2)\n",
    "print int2('1000000')\n",
    "print int2('1010101')"
   ]
  },
  {
   "cell_type": "markdown",
   "metadata": {},
   "source": [
    "所以，简单总结`functools.partial`的作用就是，把一个函数的某些参数给固定住（也就是设置默认值），返回一个新的函数，调用这个新函数会更简单。\n",
    "\n",
    "注意到上面的新的`int2`函数，仅仅是把`base`参数重新设定默认值为2，但也可以在函数调用时传入其他值："
   ]
  },
  {
   "cell_type": "code",
   "execution_count": 215,
   "metadata": {
    "collapsed": false
   },
   "outputs": [
    {
     "name": "stdout",
     "output_type": "stream",
     "text": [
      "1000000\n"
     ]
    }
   ],
   "source": [
    "print int2('1000000', base=10)"
   ]
  },
  {
   "cell_type": "markdown",
   "metadata": {},
   "source": [
    "最后，创建偏函数时，实际上可以接收3个参数：\n",
    "1. 函数对象\n",
    "2. `*args`\n",
    "3. `**kwds`"
   ]
  },
  {
   "cell_type": "code",
   "execution_count": 214,
   "metadata": {
    "collapsed": false
   },
   "outputs": [
    {
     "name": "stdout",
     "output_type": "stream",
     "text": [
      "10\n"
     ]
    }
   ],
   "source": [
    "int2 = functools.partial(int, base=2) # 接收的是**kwds\n",
    "max10 = functools.partial(max, 10) # 接收的是*args\n",
    "\n",
    "print max10(5, 7, 6)"
   ]
  }
 ],
 "metadata": {
  "anaconda-cloud": {},
  "kernelspec": {
   "display_name": "Python 3",
   "language": "python",
   "name": "python3"
  },
  "language_info": {
   "codemirror_mode": {
    "name": "ipython",
    "version": 3
   },
   "file_extension": ".py",
   "mimetype": "text/x-python",
   "name": "python",
   "nbconvert_exporter": "python",
   "pygments_lexer": "ipython3",
   "version": "3.6.0"
  },
  "toc": {
   "colors": {
    "hover_highlight": "#DAA520",
    "running_highlight": "#FF0000",
    "selected_highlight": "#FFD700"
   },
   "moveMenuLeft": true,
   "nav_menu": {
    "height": "138px",
    "width": "252px"
   },
   "navigate_menu": true,
   "number_sections": true,
   "sideBar": true,
   "threshold": 4,
   "toc_cell": false,
   "toc_section_display": "block",
   "toc_window_display": true
  }
 },
 "nbformat": 4,
 "nbformat_minor": 1
}

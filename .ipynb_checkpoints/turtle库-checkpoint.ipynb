{
 "cells": [
  {
   "cell_type": "markdown",
   "metadata": {},
   "source": [
    "# turtle库初识"
   ]
  },
  {
   "cell_type": "markdown",
   "metadata": {},
   "source": [
    "## 绘制蟒蛇"
   ]
  },
  {
   "cell_type": "code",
   "execution_count": 3,
   "metadata": {
    "collapsed": false
   },
   "outputs": [],
   "source": [
    "import turtle as t\n",
    "\n",
    "def drawSnake(rad, angle, len, neckrad):\n",
    "    for i in range(len):\n",
    "        t.circle(rad, angle)\n",
    "        t.circle(-rad, angle)\n",
    "    t.circle(rad, angle/2)\n",
    "    t.fd(rad)\n",
    "    t.circle(neckrad+1, 180)\n",
    "    t.fd(rad*2/3)\n",
    "\n",
    "\n",
    "t.setup(1000, 500, 0, 0)\n",
    "t.up()\n",
    "t.goto(-400, 0)\n",
    "t.down()\n",
    "t.pensize(30)\n",
    "t.pencolor('blue')\n",
    "t.seth(-40)\n",
    "drawSnake(40, 80, 5, 15)"
   ]
  },
  {
   "cell_type": "markdown",
   "metadata": {},
   "source": [
    "![蟒蛇](http://static.zybuluo.com/liangxw/gsq7pi4m980n504z25662eg4/image_1bdgci4l11pkhfdomnd1s6g1e6g13.png)"
   ]
  },
  {
   "cell_type": "markdown",
   "metadata": {},
   "source": [
    "## 函数解析"
   ]
  },
  {
   "cell_type": "markdown",
   "metadata": {},
   "source": [
    "- turtle.setup()  \n",
    "turtle中的turtle.setup()函数用于启动一个图形窗口，它有四个参数`turtle.setup(width, height, startx, starty)`  \n",
    "分别是：启动窗口的宽度，高度，以及窗口左上角在屏幕中的坐标位置。  \n",
    "我们所使用的显示屏幕也是一个坐标系，该坐标系以**左上角**为原点，向右和向下分别是x轴和y轴：  \n",
    "![屏幕坐标系统](http://static.zybuluo.com/liangxw/cumx458dw2fnaxgxeef3tfm7/image_1bdd4030bge1nh81b1d1j7213q9.png)"
   ]
  },
  {
   "cell_type": "markdown",
   "metadata": {},
   "source": [
    "- turtle.up()和turtle.down()   \n",
    "turtle.up()为提起画笔  \n",
    "turtle.down()为放下画笔"
   ]
  },
  {
   "cell_type": "markdown",
   "metadata": {},
   "source": [
    "- turtle.goto()  \n",
    "初始时刻，小乌龟在启动窗口的正中央，坐标为(0, 0)（此为画图窗口的原点，而不是屏幕的原点），向右和向上为正方向。  \n",
    "通过turtle.goto(x, y)可以将小乌龟移动到(x, y)坐标处。"
   ]
  },
  {
   "cell_type": "markdown",
   "metadata": {},
   "source": [
    "- turtle.pensize()  \n",
    "turtle.pensize(size)函数表示小乌龟**运动轨迹的宽度**，单位为像素。\n",
    "- turtle.pencolor()  \n",
    "turtle.pencolor(color)函数表示小乌龟运动轨迹的**颜色**。  \n",
    "turtle采用RGB方式来定义颜色，如turtle.pencolor(\"#3B9909\")。"
   ]
  },
  {
   "cell_type": "markdown",
   "metadata": {},
   "source": [
    "- turtle.seth()  \n",
    "turtle.seth(angle)函数表示小乌龟**初始时运动方向**。  \n",
    "输入参数是一个角度值，其中0表示向东，90度向北，180度向西，270度向南；负值表示的方向与正值表示的方向关于方向0对称：  \n",
    "![angle表示方向](http://static.zybuluo.com/liangxw/u7hcs8d5zncanffjmz5qfa67/image_1bde3j2cd1k0av1qth81lqs63n1g.png)"
   ]
  },
  {
   "cell_type": "markdown",
   "metadata": {},
   "source": [
    "- turtle.circle()  \n",
    "turtle.circle(rad, angle)函数让小乌龟沿着一个**圆形**爬行。  \n",
    "参数rad描述圆形轨迹**圆心**的位置，rad>0时，圆心在当前速度方向的左侧；当rad<0时，圆心在当前速度方向的右侧；  \n",
    "参数angle表示小乌龟沿着圆形爬行的角度值，angle>0表示逆时针运动，angle<0表示顺时针运动。  \n",
    "> 如下图所示，此时rad>0，angle<0  \n",
    "![](http://static.zybuluo.com/liangxw/l1u4axw8apujrcowd961bxx3/image_1bdgbqdij1fkfkt512e03fh2bk9.png)"
   ]
  },
  {
   "cell_type": "markdown",
   "metadata": {},
   "source": [
    "- turtle.fd()  \n",
    "turtle.fd(distance)或者turtle.forward()表示乌龟沿当前方向**直线**爬行，爬行距离为distance"
   ]
  },
  {
   "cell_type": "markdown",
   "metadata": {},
   "source": [
    "## 彩色蟒蛇"
   ]
  },
  {
   "cell_type": "code",
   "execution_count": 1,
   "metadata": {
    "collapsed": false
   },
   "outputs": [],
   "source": [
    "import turtle as t\n",
    "\n",
    "def drawSnake(rad, angle, len, neckrad):\n",
    "    color = ['red', 'yellow', 'green', 'black', 'blue']\n",
    "    for i in range(len):\n",
    "        # 更改画笔颜色\n",
    "        t.pencolor(color[i])\n",
    "        t.circle(rad, angle)\n",
    "        t.circle(-rad, angle)\n",
    "    t.pencolor('purple')\n",
    "    t.circle(rad, angle/2)\n",
    "    t.fd(rad)\n",
    "    t.circle(neckrad+1, 180)\n",
    "    t.fd(rad*2/3)\n",
    "\n",
    "\n",
    "t.setup(1000, 500, 0, 0)\n",
    "t.up()\n",
    "t.goto(-400, 0)\n",
    "t.down()\n",
    "t.pensize(30)\n",
    "\n",
    "t.seth(-40)\n",
    "drawSnake(40, 80, 5, 15)"
   ]
  },
  {
   "cell_type": "markdown",
   "metadata": {
    "collapsed": true
   },
   "source": [
    "![彩色蟒蛇](http://static.zybuluo.com/liangxw/08toglbs7p9gmwalrrp0bzpn/image_1bdgcfkgaq7u1vmv1o91jlp1rerm.png)"
   ]
  },
  {
   "cell_type": "markdown",
   "metadata": {},
   "source": [
    "# 常用函数"
   ]
  },
  {
   "cell_type": "markdown",
   "metadata": {},
   "source": [
    "## 控制画笔绘制状态的函数\n",
    "\n",
    "```python\n",
    "pendown() | pd() | down()\n",
    "penup() | pu() | up()\n",
    "pensize(wid ) | width(wid)\n",
    "```\n",
    "\n",
    "## 控制画笔颜色和字体函数\n",
    "\n",
    "```python\n",
    "color()  reset()\n",
    "begin_fill()  end_fill()\n",
    "filling()  clear()\n",
    "screensize()\n",
    "## 显示或隐藏小乌龟\n",
    "showturtle() | st()\n",
    "hideturtle() | ht()\n",
    "isvisible()\n",
    "write(arg, move=False, align=\"left\", font =(\"Arial\",8,\"normal\") )\n",
    "```\n",
    "\n",
    "## 控制画笔运动的函数\n",
    "\n",
    "```python\n",
    "forward(distance) | fd(distance)\n",
    "backward(distance)| bk(distance) | back(distance)\n",
    "## 小乌龟向右侧转动一定的角度\n",
    "right(angle) | rt(angle)\n",
    "left(angle) | lt(angle)\n",
    "setheading(to_angle)\n",
    "position() | pos()\n",
    "goto(x,y )\n",
    "setposition(x,y ) | setpos(x,y )\n",
    "circle(radius,extent ,steps )\n",
    "dot(size ,*color) radians()\n",
    "stamp() speed(speed )\n",
    "clearstamp(stamp_id)\n",
    "clearstamps(n ) undo()\n",
    "speed(speed ) heading()\n",
    "towards(x,y ) distance(x,y )\n",
    "xcor() ycor()\n",
    "setx(x) sety(y)\n",
    "home() undo()\n",
    "degrees(fullcircle = 360.0)\n",
    "```\n",
    "\n",
    "## TurtleScreen/Screen类的函数\n",
    "\n",
    "```python\n",
    "bgcolor(*args)\n",
    "bgpic(picname)\n",
    "clearscreen()\n",
    "resetscreen()\n",
    "screensize(cwid ,canvh,bg )\n",
    "tracer(n ,delay )\n",
    "listen(xdummy ,ydummy )\n",
    "onkey((fun,key)\n",
    "onkeyrelease((fun,key)\n",
    "onkeypress(fun,key )\n",
    "onscreenclick(fun,btn=1,add)\n",
    "getcanvas()\n",
    "getshapes()\n",
    "turtles()\n",
    "window_height()\n",
    "window_width()\n",
    "bye()\n",
    "exitonclick()\n",
    "title(titlestring)\n",
    "setup(wid = _CFG[\"wid\"], h = _CFG[\"h\"], startx = _CFG[\"leftright\"], starty = _CFG[\"topbottom\"])\n",
    "```"
   ]
  },
  {
   "cell_type": "markdown",
   "metadata": {},
   "source": [
    "# 应用举例"
   ]
  },
  {
   "cell_type": "markdown",
   "metadata": {},
   "source": [
    "## 绘制等边三角形"
   ]
  },
  {
   "cell_type": "code",
   "execution_count": 1,
   "metadata": {
    "collapsed": true
   },
   "outputs": [],
   "source": [
    "import turtle as t\n",
    "\n",
    "t.seth(60)\n",
    "t.fd(200)\n",
    "t.seth(-60)\n",
    "t.fd(200)\n",
    "t.seth(-180)\n",
    "t.fd(200)\n",
    "t.ht()"
   ]
  },
  {
   "cell_type": "markdown",
   "metadata": {},
   "source": [
    "![等边三角形](http://static.zybuluo.com/liangxw/6ma6z5beohy4nllngih0ujll/image_1bdgcooht1gdo1nvvtab9eq1vvg1g.png)"
   ]
  },
  {
   "cell_type": "markdown",
   "metadata": {},
   "source": [
    "## 绘制红色五角星"
   ]
  },
  {
   "cell_type": "code",
   "execution_count": 1,
   "metadata": {
    "collapsed": false
   },
   "outputs": [],
   "source": [
    "from turtle import *\n",
    "\n",
    "fillcolor(\"red\")\n",
    "pencolor(\"red\")\n",
    "begin_fill()\n",
    "while True:\n",
    "    forward(200)\n",
    "    right(144)\n",
    "    # abs()是求当前位置离原点的距离\n",
    "    if abs(pos()) < 1:\n",
    "        break\n",
    "end_fill()\n",
    "ht()"
   ]
  },
  {
   "cell_type": "markdown",
   "metadata": {},
   "source": [
    "![五角星](http://static.zybuluo.com/liangxw/d8ofm5oyxxaw4hn8nlrsffjc/image_1bdgeoc4i1r6f1etg1m6g5n1mju1t.png)"
   ]
  },
  {
   "cell_type": "markdown",
   "metadata": {},
   "source": [
    "## 绘制太阳花"
   ]
  },
  {
   "cell_type": "code",
   "execution_count": 3,
   "metadata": {
    "collapsed": false
   },
   "outputs": [],
   "source": [
    "from turtle import *\n",
    "## 第一个为画笔颜色，第二个为填充颜色\n",
    "color('red', 'yellow')\n",
    "\n",
    "begin_fill()\n",
    "while True:\n",
    "    forward(200)\n",
    "    left(170)\n",
    "    if abs(pos()) < 1:\n",
    "        break\n",
    "end_fill()\n",
    "done()"
   ]
  },
  {
   "cell_type": "markdown",
   "metadata": {},
   "source": [
    "![太阳花](http://static.zybuluo.com/liangxw/papoae4sr19f1xvrpeayzd19/image_1bdgetuki1r3n180tgfi1bg9k022a.png)"
   ]
  },
  {
   "cell_type": "markdown",
   "metadata": {},
   "source": [
    "## 绘制螺旋线"
   ]
  },
  {
   "cell_type": "code",
   "execution_count": 1,
   "metadata": {
    "collapsed": false
   },
   "outputs": [],
   "source": [
    "import turtle\n",
    "\n",
    "turtle.speed(\"fastest\")\n",
    "turtle.pensize(2)\n",
    "## 左侧\n",
    "turtle.up()\n",
    "turtle.goto(-100, 0)\n",
    "turtle.down()\n",
    "for x in range(100):\n",
    "    turtle.forward(2 * x)\n",
    "    turtle.left(90)\n",
    "## 右侧\n",
    "turtle.up()\n",
    "turtle.goto(100, 0)\n",
    "turtle.down()  \n",
    "turtle.seth(90)\n",
    "for x in range(20):\n",
    "    turtle.circle(5 * x, 180)"
   ]
  },
  {
   "cell_type": "markdown",
   "metadata": {},
   "source": [
    "![螺旋线](http://static.zybuluo.com/liangxw/45d33fuhv0wq65ks8kh95wzi/image_1bdgfh2ftjiu123ia7p1lk7qdk2n.png)\n",
    "    \n"
   ]
  },
  {
   "cell_type": "markdown",
   "metadata": {},
   "source": [
    "## 彩色螺旋线"
   ]
  },
  {
   "cell_type": "code",
   "execution_count": 1,
   "metadata": {
    "collapsed": true
   },
   "outputs": [],
   "source": [
    "import turtle\n",
    "import time\n",
    "turtle.pensize(2)\n",
    "turtle.bgcolor(\"black\")\n",
    "colors = [\"red\", \"yellow\", 'purple', 'blue']\n",
    "## 延迟更新图纸，可用于加速绘制复杂图形\n",
    "turtle.tracer(False)\n",
    "for x in range(400):\n",
    "    turtle.forward(2*x)\n",
    "    turtle.color(colors[x % 4])\n",
    "    turtle.left(91)\n",
    "turtle.tracer(True)"
   ]
  },
  {
   "cell_type": "markdown",
   "metadata": {},
   "source": [
    "![彩色螺旋线](http://static.zybuluo.com/liangxw/3rl7nq4mlhnztjz11ymm40m8/image_1bdgfvonh1qbe1r0krptcn5rt34.png)"
   ]
  }
 ],
 "metadata": {
  "kernelspec": {
   "display_name": "Python 3",
   "language": "python",
   "name": "python3"
  },
  "language_info": {
   "codemirror_mode": {
    "name": "ipython",
    "version": 3
   },
   "file_extension": ".py",
   "mimetype": "text/x-python",
   "name": "python",
   "nbconvert_exporter": "python",
   "pygments_lexer": "ipython3",
   "version": "3.6.0"
  },
  "toc": {
   "colors": {
    "hover_highlight": "#DAA520",
    "running_highlight": "#FF0000",
    "selected_highlight": "#FFD700"
   },
   "moveMenuLeft": true,
   "nav_menu": {
    "height": "48px",
    "width": "252px"
   },
   "navigate_menu": true,
   "number_sections": true,
   "sideBar": true,
   "threshold": 4,
   "toc_cell": false,
   "toc_section_display": "block",
   "toc_window_display": true
  }
 },
 "nbformat": 4,
 "nbformat_minor": 2
}

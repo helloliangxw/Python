{
 "cells": [
  {
   "cell_type": "markdown",
   "metadata": {},
   "source": [
    "---\n",
    "title: Python-基础-面向对象-1\n",
    "date: 2017-04-20 09:19:00\n",
    "mathjax: true\n",
    "categories: \"Python-基础\"\n",
    "\n",
    "---"
   ]
  },
  {
   "cell_type": "markdown",
   "metadata": {},
   "source": [
    "# **类和对象**\n",
    " \n",
    "按照Python通用规则：\n",
    "- 类名用驼峰式表示，如`HelloWorld`\n",
    "- 其他的属性、方法等，用`_`隔开，如`this_is_object`\n",
    "\n",
    "> 类中方法的第一个参数必须是`self` "
   ]
  },
  {
   "cell_type": "code",
   "execution_count": 44,
   "metadata": {
    "collapsed": false
   },
   "outputs": [
    {
     "name": "stdout",
     "output_type": "stream",
     "text": [
      "my name is liangxw\n",
      "i live in china\n"
     ]
    }
   ],
   "source": [
    "#创建类\n",
    "class Person:\n",
    "    \n",
    "    # 类的公共属性\n",
    "    name = 'liangxw'\n",
    "    \n",
    "    # 类中的方法\n",
    "    def show(self, city):\n",
    "        print ('my name is %s' %self.name)\n",
    "        print (\"i live in {0}\".format(city))\n",
    "\n",
    "#根据Person创建对象,记得后面加个括号\n",
    "p = Person()\n",
    "p.show('china')"
   ]
  },
  {
   "cell_type": "markdown",
   "metadata": {},
   "source": [
    "`self`相当于Java中的`this`关键字。`self`作为一个代词，并不一定要叫`self`。可以用其他单词来代替。\n",
    "但是必须得是这个类的所有方法的第一个参数。"
   ]
  },
  {
   "cell_type": "code",
   "execution_count": 46,
   "metadata": {
    "collapsed": false
   },
   "outputs": [
    {
     "name": "stdout",
     "output_type": "stream",
     "text": [
      "my name is liangxw\n",
      "i live in china\n"
     ]
    }
   ],
   "source": [
    "#创建类\n",
    "class Person:\n",
    "    \n",
    "    name = 'liangxw'\n",
    "    \n",
    "    # 类中的方法\n",
    "    def show(this, city): # self改为this\n",
    "        print ('my name is %s' %this.name)\n",
    "        print (\"i live in {0}\".format(city))\n",
    "\n",
    "#根据Person创建对象,记得后面加个括号\n",
    "lxw = Person()\n",
    "lxw.show('china')"
   ]
  },
  {
   "cell_type": "markdown",
   "metadata": {},
   "source": [
    "## 构造函数\n",
    "构造函数，是一种特殊的方法。主要用来在创建对象时初始化对象， 即为对象成员变量赋初始值。\n",
    "跟所有OOP语言一样，Python也有构造函数。"
   ]
  },
  {
   "cell_type": "code",
   "execution_count": 52,
   "metadata": {
    "collapsed": false
   },
   "outputs": [
    {
     "name": "stdout",
     "output_type": "stream",
     "text": [
      "i have 2 eyes\n"
     ]
    }
   ],
   "source": [
    "# 创建类\n",
    "class Person:\n",
    "    \n",
    "    def __init__(self):#这就是构造函数，它的职责是在模型创建的初期，就完成一些动作\n",
    "        #简单的说就是，自定义的初始化步骤：\n",
    "        #同样，它需要self来指代本身这个class\n",
    "        self.eyeNumber = 2\n",
    " \n",
    "    def show(self): \n",
    "        print (\"i have {0} eyes\".format(self.eyeNumber))\n",
    "\n",
    "\n",
    "#当你创建一个Foo类的时候，init会自动执行\n",
    "lxw = Person()\n",
    "lxw.show()"
   ]
  },
  {
   "cell_type": "markdown",
   "metadata": {},
   "source": [
    "构造函数可以带更多的参数，用以初始化类本身。"
   ]
  },
  {
   "cell_type": "code",
   "execution_count": 53,
   "metadata": {
    "collapsed": false
   },
   "outputs": [
    {
     "name": "stdout",
     "output_type": "stream",
     "text": [
      "my name is liangxw\n",
      "i am liangxw\n",
      "i live in china\n"
     ]
    }
   ],
   "source": [
    "# 创建类\n",
    "class Person:\n",
    "    \n",
    "    def __init__(self, name, age):\n",
    "        self.name = name\n",
    "        self.age = age \n",
    " \n",
    "    def show(self, city):\n",
    "        print ('my name is %s' %self.name)\n",
    "        print ('i am %s' %self.name)\n",
    "        print (\"i live in {0}\".format(city))\n",
    "        \n",
    "lxw = Person('liangxw', 19)\n",
    "lxw.show('china')"
   ]
  },
  {
   "cell_type": "markdown",
   "metadata": {},
   "source": [
    "## 访问限制\n",
    "\n",
    "在Class内部，可以有属性和方法，而外部代码可以通过直接调用实例变量的方法来操作数据，这样，就隐藏了内部的复杂逻辑。\n",
    "在Python中，属性如果以`__`开头，就变成了一个`私有变量（private）`，只有内部可以访问，外部不能访问。"
   ]
  },
  {
   "cell_type": "code",
   "execution_count": 40,
   "metadata": {
    "collapsed": false
   },
   "outputs": [
    {
     "name": "stdout",
     "output_type": "stream",
     "text": [
      "name: LiLei\n",
      "age: 12\n"
     ]
    }
   ],
   "source": [
    "class Student:\n",
    "    \n",
    "    def __init__(self, name, age):\n",
    "        # 只有在类的内部可以访问\n",
    "        self.__name = name\n",
    "        self.__age = age\n",
    "    \n",
    "    def show_details(self):\n",
    "        print('name: %s' %self.__name)\n",
    "        print('age: %s' %self.__age)\n",
    "\n",
    "LiLei = Student('LiLei', 12)\n",
    "# 修改年龄无效\n",
    "LiLei.__age = 20\n",
    "LiLei.show_details()"
   ]
  },
  {
   "cell_type": "markdown",
   "metadata": {},
   "source": [
    "如此一来，年龄就不会被更改了。\n",
    "那么如何既保证安全，又能被外部修改呢？（总是有那么多变态的要求）\n",
    "Python使用OOP家族的传统思想：`Getter+Setter`"
   ]
  },
  {
   "cell_type": "code",
   "execution_count": 55,
   "metadata": {
    "collapsed": false
   },
   "outputs": [
    {
     "name": "stdout",
     "output_type": "stream",
     "text": [
      "name: LiLei\n",
      "age: 12\n",
      "12\n",
      "-------------------------------------\n",
      "name: LiLei\n",
      "age: 20\n"
     ]
    }
   ],
   "source": [
    "class Student:\n",
    "    \n",
    "    def __init__(self, name, age):\n",
    "        # 只有在类的内部可以访问\n",
    "        self.__name = name\n",
    "        self.__age = age\n",
    "    \n",
    "    def show_details(self):\n",
    "        print('name: %s' %self.__name)\n",
    "        print('age: %s' %self.__age)\n",
    "\n",
    "    def get_name(self):\n",
    "        return self.__name\n",
    "\n",
    "    def get_age(self):\n",
    "        return self.__age\n",
    "\n",
    "    def set_name(self, name):\n",
    "        self.__name = name\n",
    "        \n",
    "    def set_age(self, age):\n",
    "        self.__age = age\n",
    "\n",
    "LiLei = Student('LiLei', 12)\n",
    "LiLei.show_details()\n",
    "print LiLei.get_age()\n",
    "print \"-------------------------------------\"\n",
    "LiLei.set_age(20)\n",
    "LiLei.show_details()"
   ]
  },
  {
   "cell_type": "markdown",
   "metadata": {},
   "source": [
    "# **Python中面向对象的三大特性**\n",
    "\n",
    "面向对象的三大特性是指：封装、继承和多态。\n",
    "\n",
    "## 封装\n",
    "\n",
    "\n",
    "- 把内容封装在某处，即类中\n",
    "- 从另一处调用被封装的内容\n",
    "    1. 在类外使用对象进行调用\n",
    "    2. 在类中使用`self`进行调用"
   ]
  },
  {
   "cell_type": "markdown",
   "metadata": {},
   "source": [
    "## 继承\n",
    "\n",
    "继承，面向对象中的继承和现实生活中的继承相同，即：子可以继承父的内容（爸爸有的儿子都有）。\n",
    "例如，每个学生都有名字和年龄，木有问题。我们可以把`Student`作为父类。\n",
    "但是，每个学生自己，可能有自己不同的方法。比如，每个人有每个人不同的外号，不同的饮食习惯等等。"
   ]
  },
  {
   "cell_type": "code",
   "execution_count": 73,
   "metadata": {
    "collapsed": false
   },
   "outputs": [
    {
     "name": "stdout",
     "output_type": "stream",
     "text": [
      "name:小王\n",
      "age:7\n",
      "my motto:不服？sala！\n",
      "-------------------------------------------\n",
      "name:王思聪\n",
      "age:29\n",
      "my gf:张雨馨\n"
     ]
    }
   ],
   "source": [
    "# 我们首先创建一个学生类，这个类是所有学生的父类\n",
    "class Student:\n",
    "    \n",
    "    def __init__(self, name, age):\n",
    "        self.name = name\n",
    "        self.age = age  \n",
    "    \n",
    "    def show(self):\n",
    "        print('name:%s' %self.name)\n",
    "        print('age:%d' %self.age)\n",
    "\n",
    "# 然后，我们创建一个小学生类，小学生特点是，LOL sala无敌\n",
    "class PrimaryStudent(Student):# 因为是继承于学生类，所以我们写在括号内\n",
    "    # 这里我们可以不写构造函数，于是我们就是直接沿用Student类的构造函数\n",
    "    def show_motto(self): # 我们有一些新的独有的方法，会被叠加起来\n",
    "        print('my motto:不服？sala！')\n",
    "    \n",
    "# 接下来，我们创建一个大学生类，大学生特点是，每个人都有个妹子。。\n",
    "class CollegeStudent(Student):\n",
    "    def __init__(self, name, age, gf): #这里，我们改写一下构造函数\n",
    "        # 于是父类的__init__会被直接overwrite\n",
    "        self.name = name\n",
    "        self.age = age\n",
    "        self.gf = gf\n",
    "    def show_gf(self):\n",
    "        print(\"my gf:%s\" %self.gf)\n",
    "\n",
    "# 来，创建一个小学生\n",
    "pStu = PrimaryStudent('小王', 7)\n",
    "pStu.show()#继承与爸爸的方法\n",
    "pStu.show_motto() # 独有的方法\n",
    "\n",
    "print \"-------------------------------------------\"\n",
    "\n",
    "cStu = CollegeStudent('王思聪', 29, '张雨馨')\n",
    "cStu.show()\n",
    "cStu.show_gf()"
   ]
  },
  {
   "cell_type": "markdown",
   "metadata": {},
   "source": [
    "所以，对于面向对象的继承来说，其实就是将多个类共有的方法提取到父类中，子类仅需继承父类而不必一一实现每个方法。\n",
    "这样可以极大的提高效率，减少代码的重复。"
   ]
  },
  {
   "cell_type": "markdown",
   "metadata": {},
   "source": [
    "**问题来了，如果想认多个干爹呢？**\n",
    "Python和Java/C#的不同就是，Python可以**多重继承**，也就是，可以认很多干爹。\n",
    "但是干爹多了，就出了问题了。继承的时候，从谁先开始？\n",
    "有两种方式，分别是`深度优先`和`广度优先`。\n",
    "\n",
    "- 经典类，按照深度优先的方式查找（即，找到一个爸爸，继续找这个爸爸的爸爸，再找爸爸的爸爸的爸爸，直到找到该方法为止。）\n",
    "- 新式类，按照广度优先的方式查找（即，找到一个爸爸，然后在平辈之间查找另一个爸爸，找不到的话再找下一个爸爸。）\n",
    "\n",
    "> 为什么有经典类和新类之分呢？\n",
    "这是个历史遗留问题，新类统一了类(`class`)和类型(`type`)，所以其实也是社区推荐的写法，只不过很多程序员都很懒。。\n",
    "在Python 2中，类和类型是不同的，如对象`a`是类`A`的一个实例，那么`a.__class__`返回`__main__.A`，`type(a)`返回总是`<type 'instance'>`。而引入新类后，对象`b`是新类`B`的实例，`b.__class__`和`type(b)`都是返回`__main__.B`，这样就统一了。\n",
    "于是乎，在新版的Python中，这个经典类和新类的区别已经不存在，都统一使用广度优先。"
   ]
  },
  {
   "cell_type": "code",
   "execution_count": 79,
   "metadata": {
    "collapsed": false
   },
   "outputs": [],
   "source": [
    "class D:\n",
    "    def bar(self):\n",
    "        print('D.bar')\n",
    "\n",
    "class C(D):\n",
    "    def bar(self):\n",
    "        print('C.bar')\n",
    "\n",
    "class B(D):\n",
    "    pass\n",
    "\n",
    "class A(B, C):\n",
    "    pass\n",
    "\n",
    "a = A()\n",
    "a.bar()\n",
    "\n",
    "# python 2.x，深度优先\n",
    "# 执行bar方法时\n",
    "# 首先去A类中查找，如果A类中没有，则继续去B类中找，如果B类中么有，则继续去D类中找，如果D类中么有，则继续去C类中找，如果还是未找到，则报错\n",
    "# 所以，查找顺序：A --> B --> D --> C\n",
    "# 在上述查找bar方法的过程中，一旦找到，则寻找过程立即中断，便不会再继续找了\n",
    "# 输出为D.bar\n",
    "\n",
    "# python 3.x，广度优先\n",
    "# 执行bar方法时\n",
    "# 首先去A类中查找，如果A类中没有，则继续去B类中找，如果B类中么有，则继续去C类中找，如果C类中么有，则继续去D类中找，如果还是未找到，则报错\n",
    "# 所以，查找顺序：A --> B --> C --> D\n",
    "# 在上述查找bar方法的过程中，一旦找到，则寻找过程立即中断，便不会再继续找了\n",
    "# 输出为C.bar"
   ]
  },
  {
   "cell_type": "markdown",
   "metadata": {},
   "source": [
    "## 多态\n",
    "\n",
    "Python不支持多态并且也用不到多态，多态的概念是应用于Java和C#这一类强类型语言中，而Python崇尚“鸭子类型（Duck Typing）”。\n",
    "什么是鸭子类型？只要看起来像鸭子、走起来像鸭子、吃起来像鸭子，那么你就是鸭子（也可能是天鹅……）。其实翻译成中文最好是叫：好猫类型。也就是引用了小平同志的一句话，**不管白猫黑猫，抓到老鼠就是好猫**。\n",
    "\n",
    "在Python中，只要是能“不报错运行”的类型，都可以塞进参数中去："
   ]
  },
  {
   "cell_type": "code",
   "execution_count": 81,
   "metadata": {
    "collapsed": false
   },
   "outputs": [
    {
     "name": "stdout",
     "output_type": "stream",
     "text": [
      "S1.show\n",
      "S2.show\n"
     ]
    }
   ],
   "source": [
    "class F1:\n",
    "    pass\n",
    "\n",
    "# 假设，S1是我们的正统类，它继承于根正苗红的F1，是我们的正统类\n",
    "class S1(F1):\n",
    "    def show(self):\n",
    "        print('S1.show')\n",
    "\n",
    "# S2是路人甲，是个歪瓜裂枣，但是他自己也有一个叫show的方法。\n",
    "class S2:\n",
    "    def show(self):\n",
    "        print('S2.show')\n",
    "        \n",
    "        \n",
    "# 在Java或C#中定义函数参数时，必须指定参数的类型，也即是说，我们如果用\n",
    "# Java写下面的Func，需要告知，obj是F1类还是其他什么东西。\n",
    "# 如果限定了F1，那么S2是不可以被采纳的。\n",
    "# 然而，在Python中，一切都是Obj，它不care你到底是什么类，直接塞进去就可以\n",
    "\n",
    "def Func(obj):\n",
    "    \"\"\"Func函数需要接收一个F1类型或者F1子类的类型\"\"\"\n",
    "    obj.show()\n",
    "    \n",
    "s1_obj = S1()\n",
    "Func(s1_obj) # 在Func函数中传入S1类的对象 s1_obj，执行 S1 的show方法，结果：S1.show\n",
    "\n",
    "s2_obj = S2()\n",
    "Func(s2_obj) # 在Func函数中传入Ss类的对象 ss_obj，执行 Ss 的show方法，结果：S2.show"
   ]
  },
  {
   "cell_type": "markdown",
   "metadata": {},
   "source": [
    "# **获取对象信息**\n",
    "\n",
    "当我们拿到一个对象的引用时，如何知道这个对象是什么类型、有哪些方法呢？\n",
    "\n",
    "## type"
   ]
  },
  {
   "cell_type": "code",
   "execution_count": 87,
   "metadata": {
    "collapsed": false
   },
   "outputs": [
    {
     "name": "stdout",
     "output_type": "stream",
     "text": [
      "<type 'int'>\n",
      "<type 'str'>\n",
      "<type 'NoneType'>\n",
      "<type 'builtin_function_or_method'>\n",
      "<type 'classobj'>\n",
      "<type 'instance'>\n"
     ]
    }
   ],
   "source": [
    "print type(123)\n",
    "print type('str')\n",
    "print type(None)\n",
    "print type(abs)\n",
    "\n",
    "class A:\n",
    "    pass \n",
    "a = A()\n",
    "print type(A)\n",
    "print type(a)"
   ]
  },
  {
   "cell_type": "code",
   "execution_count": 89,
   "metadata": {
    "collapsed": false
   },
   "outputs": [
    {
     "name": "stdout",
     "output_type": "stream",
     "text": [
      "True\n",
      "True\n",
      "False\n",
      "True\n",
      "True\n"
     ]
    }
   ],
   "source": [
    "print type(123)==type(456)\n",
    "print type('abc')==type('123')\n",
    "print type('abc')==type(123)\n",
    "print type('abc')==str\n",
    "print type([])==list"
   ]
  },
  {
   "cell_type": "markdown",
   "metadata": {},
   "source": [
    "## isinstance()\n",
    "\n",
    "`isinstance()`可以告诉我们，一个对象是否是某种类型（包括继承关系）。"
   ]
  },
  {
   "cell_type": "code",
   "execution_count": 95,
   "metadata": {
    "collapsed": false
   },
   "outputs": [
    {
     "name": "stdout",
     "output_type": "stream",
     "text": [
      "True\n"
     ]
    }
   ],
   "source": [
    "print isinstance('a', str) # 等同于type"
   ]
  },
  {
   "cell_type": "code",
   "execution_count": 94,
   "metadata": {
    "collapsed": false
   },
   "outputs": [
    {
     "name": "stdout",
     "output_type": "stream",
     "text": [
      "True\n",
      "True\n"
     ]
    }
   ],
   "source": [
    "class A:\n",
    "    pass\n",
    "class B(A):\n",
    "    pass\n",
    "class C(B):\n",
    "    pass\n",
    "\n",
    "a=A()\n",
    "b=B()\n",
    "c=C()\n",
    "\n",
    "print isinstance(c, C)\n",
    "print isinstance(c, B)"
   ]
  },
  {
   "cell_type": "markdown",
   "metadata": {},
   "source": [
    "## dir()\n",
    "\n",
    "如果要获得一个对象的所有属性和方法，可以使用`dir()`函数，它返回一个包含字符串的列表，"
   ]
  },
  {
   "cell_type": "code",
   "execution_count": 137,
   "metadata": {
    "collapsed": false
   },
   "outputs": [
    {
     "name": "stdout",
     "output_type": "stream",
     "text": [
      "__add__\n",
      "__class__\n",
      "__contains__\n",
      "__delattr__\n",
      "__doc__\n",
      "__eq__\n",
      "__format__\n",
      "__ge__\n",
      "__getattribute__\n",
      "__getitem__\n",
      "__getnewargs__\n",
      "__getslice__\n",
      "__gt__\n",
      "__hash__\n",
      "__init__\n",
      "__le__\n",
      "__len__\n",
      "__lt__\n",
      "__mod__\n",
      "__mul__\n",
      "__ne__\n",
      "__new__\n",
      "__reduce__\n",
      "__reduce_ex__\n",
      "__repr__\n",
      "__rmod__\n",
      "__rmul__\n",
      "__setattr__\n",
      "__sizeof__\n",
      "__str__\n",
      "__subclasshook__\n",
      "_formatter_field_name_split\n",
      "_formatter_parser\n",
      "capitalize\n",
      "center\n",
      "count\n",
      "decode\n",
      "encode\n",
      "endswith\n",
      "expandtabs\n",
      "find\n",
      "format\n",
      "index\n",
      "isalnum\n",
      "isalpha\n",
      "isdigit\n",
      "islower\n",
      "isspace\n",
      "istitle\n",
      "isupper\n",
      "join\n",
      "ljust\n",
      "lower\n",
      "lstrip\n",
      "partition\n",
      "replace\n",
      "rfind\n",
      "rindex\n",
      "rjust\n",
      "rpartition\n",
      "rsplit\n",
      "rstrip\n",
      "split\n",
      "splitlines\n",
      "startswith\n",
      "strip\n",
      "swapcase\n",
      "title\n",
      "translate\n",
      "upper\n",
      "zfill\n"
     ]
    }
   ],
   "source": [
    "for i in dir('ABC'):\n",
    "    print i"
   ]
  },
  {
   "cell_type": "code",
   "execution_count": 99,
   "metadata": {
    "collapsed": false
   },
   "outputs": [
    {
     "name": "stdout",
     "output_type": "stream",
     "text": [
      "3\n",
      "3\n"
     ]
    }
   ],
   "source": [
    "# 类似__xxx__的属性和方法在Python中都是有特殊用途的，比如__len__方法返回长度。\n",
    "# 当调用len()函数试图获取一个对象的长度，实际上，在len()函数内部，它自动去调用该对象的__len__()方法\n",
    "# 以下两种方法等效\n",
    "print 'ABC'.__len__()\n",
    "print len('ABC')"
   ]
  },
  {
   "cell_type": "markdown",
   "metadata": {},
   "source": [
    "## getattr()、setattr()以及hasattr()\n",
    "\n",
    "仅仅把属性和方法列出来是不够的，配合`getattr()`、`setattr()`以及`hasattr()`，我们可以直接操作一个对象的状态。"
   ]
  },
  {
   "cell_type": "code",
   "execution_count": 3,
   "metadata": {
    "collapsed": false
   },
   "outputs": [],
   "source": [
    "class MyObject:\n",
    "    def __init__(self):\n",
    "        self.x = 9\n",
    "    def power(self):\n",
    "        return self.x * self.x\n",
    "\n",
    "obj = MyObject()"
   ]
  },
  {
   "cell_type": "code",
   "execution_count": 117,
   "metadata": {
    "collapsed": false
   },
   "outputs": [
    {
     "name": "stdout",
     "output_type": "stream",
     "text": [
      "True\n",
      "9\n",
      "True\n"
     ]
    }
   ],
   "source": [
    "# 紧接着，可以测试该对象的属性：\n",
    "print hasattr(obj, 'x') #有木有属性'x'\n",
    "print getattr(obj, 'x') # 获取属性'x'\n",
    "print hasattr(obj, 'y') # 有属性'y'吗？"
   ]
  },
  {
   "cell_type": "code",
   "execution_count": 116,
   "metadata": {
    "collapsed": false
   },
   "outputs": [
    {
     "name": "stdout",
     "output_type": "stream",
     "text": [
      "True\n",
      "19\n",
      "19\n"
     ]
    }
   ],
   "source": [
    "setattr(obj, 'y', 19) # 设置一个属性'y'\n",
    "print hasattr(obj, 'y') # 有属性'y'吗？\n",
    "print getattr(obj, 'y') # 获取属性'y'\n",
    "print obj.y # 获取属性'y'"
   ]
  },
  {
   "cell_type": "code",
   "execution_count": 4,
   "metadata": {
    "collapsed": false
   },
   "outputs": [
    {
     "name": "stdout",
     "output_type": "stream",
     "text": [
      "404\n"
     ]
    }
   ],
   "source": [
    "# 可以传入一个default参数，如果属性不存在，就返回默认值：\n",
    "print getattr(obj, 'z', 404) # 获取属性'z'，如果不存在，返回默认值404"
   ]
  },
  {
   "cell_type": "code",
   "execution_count": null,
   "metadata": {
    "collapsed": true
   },
   "outputs": [],
   "source": [
    "# 也可以获得对象的方法：\n",
    "print hasattr(obj, 'power') # 有属性'power'吗？\n",
    "print getattr(obj, 'power') # 获取属性'power'\n",
    "\n",
    "fn = getattr(obj, 'power') # 获取属性'power'并赋值到变量fn\n",
    "print fn # fn指向obj.power\n",
    "print fn() # 调用fn()与调用obj.power()是一样的"
   ]
  },
  {
   "cell_type": "markdown",
   "metadata": {},
   "source": [
    "# **实例属性和类属性**\n",
    "\n",
    "Python是动态语言，根据类创建的实例可以任意绑定属性。\n",
    "给实例绑定属性的方法是通过实例变量，或者通过self变量"
   ]
  },
  {
   "cell_type": "code",
   "execution_count": 133,
   "metadata": {
    "collapsed": false
   },
   "outputs": [],
   "source": [
    "class Student(object):\n",
    "    # sex为类属性，规Student所有\n",
    "    name = 'Jim'\n",
    "\n",
    "stu = Student()\n",
    "# 给实例stu绑定一个score属性，归stu所有\n",
    "stu.score = 90"
   ]
  },
  {
   "cell_type": "code",
   "execution_count": 134,
   "metadata": {
    "collapsed": false
   },
   "outputs": [
    {
     "name": "stdout",
     "output_type": "stream",
     "text": [
      "Jim\n",
      "Jim\n"
     ]
    }
   ],
   "source": [
    "# 打印类的name属性\n",
    "print(Student.name) \n",
    "\n",
    "# 打印name属性，因为实例并没有name属性，所以会继续查找class的name属性\n",
    "print stu.name"
   ]
  },
  {
   "cell_type": "code",
   "execution_count": 135,
   "metadata": {
    "collapsed": false
   },
   "outputs": [
    {
     "name": "stdout",
     "output_type": "stream",
     "text": [
      "Michael\n"
     ]
    }
   ],
   "source": [
    "stu.name = 'Michael' # 给实例绑定name属性\n",
    "print(stu.name) # 由于实例属性优先级比类属性高，因此，它会屏蔽掉类的name属性"
   ]
  },
  {
   "cell_type": "code",
   "execution_count": 136,
   "metadata": {
    "collapsed": false
   },
   "outputs": [
    {
     "name": "stdout",
     "output_type": "stream",
     "text": [
      "Jim\n"
     ]
    }
   ],
   "source": [
    "del stu.name # 如果删除实例的name属性\n",
    "\n",
    "print(stu.name) # 再次调用stu.name，由于实例的name属性没有找到，类的name属性就显示出来了"
   ]
  },
  {
   "cell_type": "markdown",
   "metadata": {},
   "source": [
    "从上面的例子可以看出，在编写程序的时候，千万不要把实例属性和类属性使用相同的名字，因为相同名称的实例属性将屏蔽掉类属性，但是当你删除实例属性后，再使用相同的名称，访问到的将是类属性。"
   ]
  },
  {
   "cell_type": "markdown",
   "metadata": {},
   "source": [
    "# **模块和包**\n",
    "\n",
    "Python的程序由包（`package`）、模块（`module`）和函数组成。包是由一系列模块组成的集合。模块是处理某一类问题的函数和类的集合。\n",
    "包就是一个完成特定任务的工具箱，Python提供了许多有用的工具包，如字符串处理、图形用户接口、Web应用、图形图像处理等。这些自带的工具包和模块安装在Python的安装目录下的Lib子目录中。\n",
    "\n",
    "\n",
    "## 模块\n",
    "\n",
    "在Python中一个文件可以被看成一个独立模块，模块把Python代码分成一些有组织的代码段，通过导入的方式实现代码重用。\n",
    "导入模块时，是按照`sys.path`变量的值搜索模块，`sys.path`的值是包含每一个独立路径的列表，包含当前目录、python安装目录、PYTHONPATH环境变量，搜索顺序按照路径在列表中的顺序（一般当前目录优先级最高）。\n",
    "\n",
    "查看自己的Python路径:\n",
    "\n",
    "```python\n",
    "import sys\n",
    "print(sys.path)\n",
    "```\n",
    "\n",
    "如果发现你在某个地方写的文件（包）import错误，你就可以看看这个sys.path是否囊括了你那批文件的根目录。\n",
    "\n",
    "### 导入模块\n",
    "\n",
    "使用`import`语句:\n",
    "\n",
    "\n",
    "```python\n",
    "import module1\n",
    "import module2\n",
    "import module3\n",
    "```\n",
    "\n",
    "或者：\n",
    "\n",
    "```python\n",
    "import module1,module2,module3\n",
    "```\n",
    "\n",
    "这两种方式的效果是一样的，但是第一种可读性比第二种好。\n",
    "\n",
    "在导入时推荐按照下面的顺序导入模块，并且一般在文件首部导入所有的模块：\n",
    "1. python标准库\n",
    "2. 第三方模块\n",
    "3. 应用程序自定义模块\n",
    "\n",
    "使用`from-import`语句导入模块的属性：\n",
    "\n",
    "```python\n",
    "from module import name1,name2,name3\n",
    "# 导入全部属性（由于容易覆盖当前名称空间中现有的名字，所以一般不推荐使用，适合模块中变量名很长并且变量很多的情况）\n",
    "from module import *\n",
    "# 自定义导入模块名称，就是为了用的时候方便好记。\n",
    "import simplejson as json\n",
    "```\n",
    "\n",
    "## 包\n",
    "\n",
    "\n",
    "包将有联系的模块组织在一起，有效避免模块名称冲突问题，让应用组织结构更加清晰。 一个普通的Python应用程序目录结构：\n",
    "\n",
    "**注意：**包必须至少含有一个`__int__.py`文件，该文件的内容可以为空。`__int__.py`用于标识当前文件夹是一个包。\n",
    "\n",
    "```\n",
    "app/\n",
    "|---- __init__.py\n",
    "|---- A/\n",
    "    |---- __init__.py\n",
    "    |---- a.py (a.py中有个名为testA的函数)\n",
    "|---- B/\n",
    "    |---- __init__.py\n",
    "    |---- b.py (b.py中有个名为testB的函数)\n",
    "```\n",
    "\n",
    "app是最顶层的包，a和b是它的子包，可以这样导入：\n",
    "\n",
    "```python\n",
    "from app.A import a\n",
    "from app.B.b import testB\n",
    "\n",
    "# 调用\n",
    "a.testA()\n",
    "testB()\n",
    "```\n",
    "\n",
    "每个目录下都有__init__.py文件，这个是初始化模块，from-import语句导入子包时需要它，可以在里面做一些初始化工作，也可以是空文件。\n",
    "\n",
    "> `__init__.py`定义的属性直接使用`顶层包.子包`的方式导入，如在目录a的`__init__.py`文件中定义`init_db()`方法，调用如下：\n",
    "```\n",
    "from app import A\n",
    "A.init_db()\n",
    "```"
   ]
  },
  {
   "cell_type": "code",
   "execution_count": null,
   "metadata": {
    "collapsed": true
   },
   "outputs": [],
   "source": []
  }
 ],
 "metadata": {
  "anaconda-cloud": {},
  "kernelspec": {
   "display_name": "Python 3",
   "language": "python",
   "name": "python3"
  },
  "language_info": {
   "codemirror_mode": {
    "name": "ipython",
    "version": 3
   },
   "file_extension": ".py",
   "mimetype": "text/x-python",
   "name": "python",
   "nbconvert_exporter": "python",
   "pygments_lexer": "ipython3",
   "version": "3.6.0"
  },
  "toc": {
   "colors": {
    "hover_highlight": "#DAA520",
    "running_highlight": "#FF0000",
    "selected_highlight": "#FFD700"
   },
   "moveMenuLeft": true,
   "nav_menu": {
    "height": "321px",
    "width": "252px"
   },
   "navigate_menu": true,
   "number_sections": true,
   "sideBar": true,
   "threshold": 4,
   "toc_cell": false,
   "toc_section_display": "block",
   "toc_window_display": true
  }
 },
 "nbformat": 4,
 "nbformat_minor": 1
}

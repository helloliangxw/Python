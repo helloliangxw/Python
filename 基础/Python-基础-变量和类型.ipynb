{
 "cells": [
  {
   "cell_type": "markdown",
   "metadata": {},
   "source": [
    "---\n",
    "title: Python-基础-变量与类型\n",
    "date: 2017-04-19 17:30:00\n",
    "mathjax: true\n",
    "categories: \"Python-基础\"\n",
    "\n",
    "---"
   ]
  },
  {
   "cell_type": "markdown",
   "metadata": {},
   "source": [
    "# 变量命名规则\n",
    "\n",
    "- 大小写字母、数字和下划线的组合，但首字母只能是**大小写字母或下划线**，不能使用空格。\n",
    "- **中文**等非字母符号也可以作为名字。\n",
    "\n",
    "以下是合法命名的标识符：\n",
    "```python\n",
    "python_is_good\n",
    "python_is_not_good\n",
    "_is_it_a_question_ \n",
    "python语言\n",
    "```"
   ]
  },
  {
   "cell_type": "markdown",
   "metadata": {},
   "source": [
    "# 赋值\n",
    "\n",
    "同步赋值：\n",
    "```python\n",
    "# 先运算右侧Ｎ个表达式，然后同时将表达式结果赋给左侧\n",
    "a, b, c = 1, 2, 3\n",
    "# 交换a和b的值\n",
    "x = 0\n",
    "y = 1\n",
    "x, y = y, x\n",
    "```\n",
    "\n",
    "连续赋值：\n",
    "```python\n",
    "# 从右到左依次赋值\n",
    "a = b = c = 2\n",
    "```"
   ]
  },
  {
   "cell_type": "markdown",
   "metadata": {},
   "source": [
    "# 类型"
   ]
  },
  {
   "cell_type": "markdown",
   "metadata": {},
   "source": [
    "## 数字\n",
    "\n",
    "三种基本的数字类型：\n",
    "1. 整数\n",
    "2. 浮点数\n",
    "3. 复数"
   ]
  },
  {
   "cell_type": "markdown",
   "metadata": {},
   "source": [
    "### 整数\n",
    "\n",
    "Python中整数**没有取值范围的限制**。  \n",
    "\n",
    "2进制：0b 0B开头  \n",
    "8进制：0o 0O  \n",
    "16进制：0x 0X  "
   ]
  },
  {
   "cell_type": "markdown",
   "metadata": {},
   "source": [
    "### 浮点数\n",
    "\n",
    "产看当前计算机浮点数的精度："
   ]
  },
  {
   "cell_type": "code",
   "execution_count": 7,
   "metadata": {
    "collapsed": false
   },
   "outputs": [
    {
     "name": "stdout",
     "output_type": "stream",
     "text": [
      "sys.float_info(max=1.7976931348623157e+308, max_exp=1024, max_10_exp=308, min=2.2250738585072014e-308, min_exp=-1021, min_10_exp=-307, dig=15, mant_dig=53, epsilon=2.220446049250313e-16, radix=2, rounds=1)\n"
     ]
    }
   ],
   "source": [
    "import sys\n",
    "print(sys.float_info)"
   ]
  },
  {
   "cell_type": "markdown",
   "metadata": {},
   "source": [
    "### 复数\n",
    "\n",
    "a+bj，虚数部分用j或J表示  "
   ]
  },
  {
   "cell_type": "code",
   "execution_count": 8,
   "metadata": {
    "collapsed": false
   },
   "outputs": [
    {
     "name": "stdout",
     "output_type": "stream",
     "text": [
      "实数部分： 2.0\n",
      "虚数部分： 3.5\n"
     ]
    }
   ],
   "source": [
    "z = 2 + 3.5j\n",
    "print(\"实数部分：\", z.real)\n",
    "print(\"虚数部分：\", z.imag)"
   ]
  },
  {
   "cell_type": "markdown",
   "metadata": {},
   "source": [
    "### 三种类型的转换\n",
    "\n",
    "使用int(), float(), complex()进行三者的转换  \n",
    "整数和浮点数可以相互转换，而**复数不能转换成整数或者浮点数**   "
   ]
  },
  {
   "cell_type": "code",
   "execution_count": 10,
   "metadata": {
    "collapsed": false
   },
   "outputs": [
    {
     "name": "stdout",
     "output_type": "stream",
     "text": [
      "4.0    (4+0j)\n",
      "3    (3.5+0j)\n"
     ]
    }
   ],
   "source": [
    "n = 4\n",
    "f = 3.5\n",
    "z = 1 + 5J\n",
    "\n",
    "print(float(n), '  ', complex(n))\n",
    "print(int(f), '  ', complex(f))"
   ]
  },
  {
   "cell_type": "code",
   "execution_count": 2,
   "metadata": {
    "collapsed": false
   },
   "outputs": [],
   "source": [
    "# 出错\n",
    "# print(int(z))\n",
    "# print(float(z))"
   ]
  },
  {
   "cell_type": "markdown",
   "metadata": {},
   "source": [
    "### 常用运算\n",
    "\n",
    "|运算符|说明|\n",
    "|:---:|:---:|\n",
    "|+ - * /|加 减 乘 除|\n",
    "|//|向下取整|\n",
    "|%|求余|\n",
    "|x\\*\\*y, pow(x, y)|幂运算|\n",
    "|divmod(x, y)|(x//y, x%y)|"
   ]
  },
  {
   "cell_type": "markdown",
   "metadata": {},
   "source": [
    "## 字符串"
   ]
  },
  {
   "cell_type": "markdown",
   "metadata": {},
   "source": [
    "字符串就是一个字符序列，索引从0开始，支持负数索引。  "
   ]
  },
  {
   "cell_type": "code",
   "execution_count": 1,
   "metadata": {
    "collapsed": false
   },
   "outputs": [
    {
     "name": "stdout",
     "output_type": "stream",
     "text": [
      "Stop!\n"
     ]
    }
   ],
   "source": [
    "# 字符串不能被修改\n",
    "s='abc'\n",
    "try :\n",
    "    s[0]='x'\n",
    "except TypeError:\n",
    "    print(\"Stop!\")"
   ]
  },
  {
   "cell_type": "code",
   "execution_count": 2,
   "metadata": {
    "collapsed": false
   },
   "outputs": [
    {
     "name": "stdout",
     "output_type": "stream",
     "text": [
      "a'b'c\n",
      "a'b'c\n"
     ]
    }
   ],
   "source": [
    "# 关于单引号和双引号\n",
    "s0=\"a'b'c\"\n",
    "s1='a\\'b\\'c'\n",
    "print(s0)\n",
    "print(s1)"
   ]
  },
  {
   "cell_type": "code",
   "execution_count": 6,
   "metadata": {
    "collapsed": false
   },
   "outputs": [
    {
     "name": "stdout",
     "output_type": "stream",
     "text": [
      "hello+world\n",
      "--------------------------------------\n",
      "hello+\n",
      "world\n"
     ]
    }
   ],
   "source": [
    "# 多行字符\n",
    "s0=\"hello+\" \\\n",
    "\"world\"\n",
    "s1=\"\"\"hello+\n",
    "world\"\"\"\n",
    "print(s0)\n",
    "print(\"--------------------------------------\")\n",
    "print(s1)"
   ]
  },
  {
   "cell_type": "code",
   "execution_count": 8,
   "metadata": {
    "collapsed": false
   },
   "outputs": [
    {
     "name": "stdout",
     "output_type": "stream",
     "text": [
      "False\n"
     ]
    }
   ],
   "source": [
    "# 比较大小\n",
    "print('abc' < 'ab')"
   ]
  },
  {
   "cell_type": "code",
   "execution_count": 10,
   "metadata": {
    "collapsed": false
   },
   "outputs": [
    {
     "name": "stdout",
     "output_type": "stream",
     "text": [
      "is empty\n"
     ]
    }
   ],
   "source": [
    "# 判断空字符串\n",
    "# None是空指针，空字符串在内存中是分配了空间的\n",
    "# 空字符串等价于False\n",
    "if not '':\n",
    "    print ('is empty')"
   ]
  },
  {
   "cell_type": "code",
   "execution_count": 11,
   "metadata": {
    "collapsed": false
   },
   "outputs": [
    {
     "name": "stdout",
     "output_type": "stream",
     "text": [
      "True\n",
      "True\n",
      "True\n",
      "True\n",
      "True\n",
      "True\n",
      "True\n",
      "True\n",
      "True\n"
     ]
    }
   ],
   "source": [
    "# 常用判断\n",
    "print('abc'.startswith('a')) # 判断字符串开头\n",
    "print('def'.endswith('ef')) # 判断字符串结尾\n",
    "print('123abc'.isalnum()) # 是否全是字母和数字，并至少有一个字符。\n",
    "print('abc'.isalpha()) # 是否全是字母，并至少有一个字符。\n",
    "print('123'.isdigit()) # 是否全是数字，并至少有一个字符。\n",
    "print(' '.isspace()) # 是否全是空白字符，并至少有一个字符。\n",
    "print('abc'.islower()) # 字母是否全是小写\n",
    "print('ABC'.isupper()) # 字母是否全是大写\n",
    "print('Abc'.istitle()) # 首字母是否大写"
   ]
  },
  {
   "cell_type": "markdown",
   "metadata": {},
   "source": [
    "常用方法：\n",
    "\n",
    "|方法|说明|\n",
    "|:---:|:---:|\n",
    "|s+t|字符串拼接|\n",
    "|s\\*\\*n|字符串重复n倍|\n",
    "|len(s)|字符串s的长度|\n",
    "|str(n)|数字n转字符串|\n",
    "|int(s[, base])|将字符串s转换为base进制的整数（默认为10进制）|\n",
    "|s.upper()|小写转大写|\n",
    "|s.lower()|大写转小写|\n",
    "|s.capitalize()|首字母大写|\n",
    "|s.find('t')|在字符串s中找到字符串t第一次出现的位置|\n",
    "|s.strip() s.lstrip() s.rstrip()|去掉字符串s两端/左端/右端的空格|\n",
    "|s.replace('a', 'A')|将s中的字符a替换为A|\n",
    "|s.split('t')|将s按照字符t分割|\n",
    "|s.splitlines()|将s按行分割，等同于s.split('\\n')|\n",
    "|s.join(list)|在列表元素之间以字符串s拼接|\n",
    "|list(s)|将字符串s转换为字符列表|\n",
    "|for i in s:|字符串迭代|"
   ]
  },
  {
   "cell_type": "markdown",
   "metadata": {},
   "source": [
    "# 字符串的格式化"
   ]
  },
  {
   "cell_type": "markdown",
   "metadata": {},
   "source": [
    "- 方法1，使用“%”，类似于C语言；  \n",
    "- 方法2，使用format()。  \n",
    "\n",
    "Python推荐使用**第二种**。"
   ]
  },
  {
   "cell_type": "markdown",
   "metadata": {},
   "source": [
    "## 槽和参数的顺序\n",
    "\n",
    "![槽和参数的顺序](http://static.zybuluo.com/liangxw/v0e7unr0hlei6siwjuut2ai5/image_1bdh040udve11red198r1mrjca49.png)  \n",
    "\n",
    "当需要输出大括号时，用\\\\( \\\\{\\\\{ \\\\)表示\\\\(\\\\{ \\\\)，用\\\\(\\\\}\\\\}\\\\)表示\\\\(\\\\}\\\\)。"
   ]
  },
  {
   "cell_type": "code",
   "execution_count": 39,
   "metadata": {
    "collapsed": false
   },
   "outputs": [
    {
     "name": "stdout",
     "output_type": "stream",
     "text": [
      "{python的版本为2.7}\n"
     ]
    }
   ],
   "source": [
    "print(\"{{{}的版本为{}}}\".format(\"python\", \"2.7\"))"
   ]
  },
  {
   "cell_type": "markdown",
   "metadata": {},
   "source": [
    "## 格式控制信息\n",
    "\n",
    "槽的内部样式为：  \n",
    "**{<参数序号>: <格式控制标记>}**  \n",
    "其中，**格式控制标记**用来控制参数显示时的格式：  \n",
    "![格式控制标记](http://static.zybuluo.com/liangxw/ph2ag177wxe85xo0vk8l7qix/image_1bdh12lgk19jp1k9k144ih2a1esh13.png)"
   ]
  },
  {
   "cell_type": "markdown",
   "metadata": {},
   "source": [
    "### 宽度和填充"
   ]
  },
  {
   "cell_type": "code",
   "execution_count": 4,
   "metadata": {
    "collapsed": false
   },
   "outputs": [
    {
     "name": "stdout",
     "output_type": "stream",
     "text": [
      "Python                        \n",
      "                        Python\n",
      "************Python************\n",
      "Python\n"
     ]
    }
   ],
   "source": [
    "s = 'Python'\n",
    "print(\"{0:30}\".format(s))\n",
    "\n",
    "print(\"{0:>30}\".format(s))\n",
    "print(\"{0:*^30}\".format(s))\n",
    "print(\"{0:3}\".format(s))"
   ]
  },
  {
   "cell_type": "markdown",
   "metadata": {},
   "source": [
    "### 千位分隔符"
   ]
  },
  {
   "cell_type": "code",
   "execution_count": 5,
   "metadata": {
    "collapsed": false
   },
   "outputs": [
    {
     "name": "stdout",
     "output_type": "stream",
     "text": [
      "---1,234,567,890----\n",
      "-----1234567890-----\n",
      "-----12,345.789-----\n"
     ]
    }
   ],
   "source": [
    "n = 1234567890\n",
    "f = 12345.7890\n",
    "print(\"{0:-^20,}\".format(n))\n",
    "print(\"{0:-^20}\".format(n))\n",
    "print(\"{0:-^20,}\".format(f))"
   ]
  },
  {
   "cell_type": "markdown",
   "metadata": {},
   "source": [
    "### 精度"
   ]
  },
  {
   "cell_type": "code",
   "execution_count": 6,
   "metadata": {
    "collapsed": false
   },
   "outputs": [
    {
     "name": "stdout",
     "output_type": "stream",
     "text": [
      "12345.79\n",
      "H1,234,567,890.000HH\n",
      "Pyth\n"
     ]
    }
   ],
   "source": [
    "print(\"{0:.2f}\".format(f))\n",
    "print(\"{0:H^20,.3f}\".format(n))\n",
    "print(\"{0:.4}\".format(s))"
   ]
  },
  {
   "cell_type": "markdown",
   "metadata": {},
   "source": [
    "### 类型\n",
    "\n",
    "- b：整数的二进制形式\n",
    "- c：整数的Unicode字符\n",
    "- d：整数的十进制形式\n",
    "- o：整数的八进制形式\n",
    "- x：整数的小写十六进制形式\n",
    "- X：整数的大写十六进制形式\n"
   ]
  },
  {
   "cell_type": "code",
   "execution_count": 7,
   "metadata": {
    "collapsed": false
   },
   "outputs": [
    {
     "name": "stdout",
     "output_type": "stream",
     "text": [
      "110101001,Ʃ,425,651,1a9,1A9\n"
     ]
    }
   ],
   "source": [
    "print(\"{0:b},{0:c},{0:d},{0:o},{0:x},{0:X}\".format(425))"
   ]
  },
  {
   "cell_type": "markdown",
   "metadata": {},
   "source": [
    "- e: 浮点数对应的小写字母e的指数形式\n",
    "- E：浮点数对应的大写字母E的指数形式\n",
    "- f：浮点数的标准浮点形式\n",
    "- %：浮点数的百分形式"
   ]
  },
  {
   "cell_type": "code",
   "execution_count": 8,
   "metadata": {
    "collapsed": false
   },
   "outputs": [
    {
     "name": "stdout",
     "output_type": "stream",
     "text": [
      "3.140000e+00,3.140000E+00,3.140000,314.000000%\n",
      "3.14e+00,3.14E+00,3.14,314.00%\n"
     ]
    }
   ],
   "source": [
    "print(\"{0:e},{0:E},{0:f},{0:%}\".format(3.14))\n",
    "print(\"{0:.2e},{0:.2E},{0:.2f},{0:.2%}\".format(3.14))"
   ]
  }
 ],
 "metadata": {
  "kernelspec": {
   "display_name": "Python 3",
   "language": "python",
   "name": "python3"
  },
  "language_info": {
   "codemirror_mode": {
    "name": "ipython",
    "version": 3
   },
   "file_extension": ".py",
   "mimetype": "text/x-python",
   "name": "python",
   "nbconvert_exporter": "python",
   "pygments_lexer": "ipython3",
   "version": "3.6.0"
  },
  "toc": {
   "colors": {
    "hover_highlight": "#DAA520",
    "running_highlight": "#FF0000",
    "selected_highlight": "#FFD700"
   },
   "moveMenuLeft": true,
   "nav_menu": {
    "height": "357px",
    "width": "252px"
   },
   "navigate_menu": true,
   "number_sections": true,
   "sideBar": true,
   "threshold": 4,
   "toc_cell": false,
   "toc_section_display": "block",
   "toc_window_display": true
  }
 },
 "nbformat": 4,
 "nbformat_minor": 2
}

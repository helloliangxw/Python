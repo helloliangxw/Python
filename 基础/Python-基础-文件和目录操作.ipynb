{
 "cells": [
  {
   "cell_type": "markdown",
   "metadata": {
    "nbpresent": {
     "id": "06854a4d-b71b-4652-944b-936a79ec5dbe"
    }
   },
   "source": [
    "---\n",
    "title: Python-基础-文件目录操作\n",
    "date: 2017-04-19 16:49:00\n",
    "mathjax: true\n",
    "categories: \"Python-基础\"\n",
    "\n",
    "---"
   ]
  },
  {
   "cell_type": "markdown",
   "metadata": {},
   "source": [
    "# 常用文件编码"
   ]
  },
  {
   "cell_type": "markdown",
   "metadata": {},
   "source": [
    "## ASCII码\n",
    "\n",
    "- 标准化字符集\n",
    "- 每个ASCII码以**1个字节、7个二进制位**（第一个二进制位为0）编码储存\n",
    "- 从0到数字127代表不同的常用符号  \n",
    "- 例如大写A的ASCII码是65，小写a则是97。"
   ]
  },
  {
   "cell_type": "markdown",
   "metadata": {},
   "source": [
    "## Unicode\n",
    "\n",
    "- 跨语言、跨平台进行文本转换和处理\n",
    "- 对每种语言中字符设定统一且唯一的二进制编码\n",
    "- 每个字符**两个字节**长\n",
    "- 65536 个字符的编码空间\n",
    "- “严”：Unicode的十六进制数为4E25"
   ]
  },
  {
   "cell_type": "markdown",
   "metadata": {},
   "source": [
    "## UTF-8编码\n",
    "\n",
    "- **可变长度**（1个字节至4个字节）的Unicode的实现方式\n",
    "- “严”：十六进制数为E4B8A5"
   ]
  },
  {
   "cell_type": "markdown",
   "metadata": {},
   "source": [
    "## GBK编码\n",
    "\n",
    "- 双字节编码"
   ]
  },
  {
   "cell_type": "markdown",
   "metadata": {
    "nbpresent": {
     "id": "1f4cdf11-1d80-4265-81ff-b91e8577136b"
    }
   },
   "source": [
    "# **文本文件读写**"
   ]
  },
  {
   "cell_type": "markdown",
   "metadata": {
    "nbpresent": {
     "id": "6432e633-dc52-4ae4-b7b4-503af5c75148"
    }
   },
   "source": [
    "## 直接读入"
   ]
  },
  {
   "cell_type": "code",
   "execution_count": null,
   "metadata": {
    "collapsed": true,
    "nbpresent": {
     "id": "09cc5c40-3224-46bc-890a-bedc943966f4"
    }
   },
   "outputs": [],
   "source": [
    "file1 = open(\"input.txt\") \n",
    "file2 = open(\"output.txt\",\"w\") \n",
    "\n",
    "while True: \n",
    "    line = file1.readline()\n",
    "    \n",
    "    #这里可以进行逻辑处理 \n",
    "    file2.write(line) \n",
    "    if not line: \n",
    "        break \n",
    "        \n",
    "#记住文件处理完，关闭是个好习惯 \n",
    "file1.close() \n",
    "file2.close() "
   ]
  },
  {
   "cell_type": "markdown",
   "metadata": {
    "nbpresent": {
     "id": "e1bcace8-4423-414a-9727-495ba6559050"
    }
   },
   "source": [
    "**读写模式：**\n",
    "\n",
    "打开模式 | 说明\n",
    ":---:|:---:\n",
    "r | 只读。如果文件不存在，则输出错误\n",
    "w | 为只写（如果文件不存在，则自动创建文件）\n",
    "a | 表示附加到文件末尾\n",
    "rb | 只读二进制文件。如果文件不存在，则输出错误\n",
    "wb | 只写二进制文件，如果文件不存在，则自动创建文件。\n",
    "ab | 附加到二进制文件末尾\n",
    "r+ |读写\n",
    "\n",
    "常用模式如:`rb`,`wb`,`r+b`等等。"
   ]
  },
  {
   "cell_type": "markdown",
   "metadata": {
    "nbpresent": {
     "id": "6f3d9ec6-ea7d-4271-a732-9912959ef40a"
    }
   },
   "source": [
    "**读文件有3种方法：**\n",
    "\n",
    "1. read()\n",
    "    将文本文件所有行读到一个字符串中\n",
    "2. readline()\n",
    "    一行一行的读。\n",
    "    优点：可以在读行过程中跳过特定行。\n",
    "3. readlines()\n",
    "    将文本文件中所有行读到一个list中，文本文件每一行是list的一个元素。 "
   ]
  },
  {
   "cell_type": "markdown",
   "metadata": {
    "nbpresent": {
     "id": "fd1077c1-d2a0-483e-bfb5-6969b8873b20"
    }
   },
   "source": [
    "## 文件迭代器"
   ]
  },
  {
   "cell_type": "code",
   "execution_count": null,
   "metadata": {
    "collapsed": true,
    "nbpresent": {
     "id": "b5a6dcff-2a0d-4b09-a2a2-cd862ed46de3"
    }
   },
   "outputs": [],
   "source": [
    "file2 = open(\"output.txt\",\"w\") \n",
    "for line in open(\"input.txt\"): \n",
    "      #这里可以进行逻辑处理 \n",
    "    file2.write(line)"
   ]
  },
  {
   "cell_type": "markdown",
   "metadata": {
    "nbpresent": {
     "id": "3c6a2656-ae37-46ad-870f-b60b1b29d49f"
    }
   },
   "source": [
    "## 上下文管理器"
   ]
  },
  {
   "cell_type": "code",
   "execution_count": null,
   "metadata": {
    "collapsed": false,
    "nbpresent": {
     "id": "9297f4d5-4345-41e0-a24f-a0332f87ff0f"
    }
   },
   "outputs": [],
   "source": [
    "# with.open自带关闭文本的功能\n",
    "with open('somefile.txt', 'r') as f: \n",
    "    data = f.read() \n",
    "\n",
    "# loop整个文档\n",
    "with open('somefile.txt', 'r') as f: \n",
    "    for line in f: \n",
    "        # 处理每一行\n",
    "\n",
    "# 写入文本 \n",
    "with open('somefile.txt', 'w') as f: \n",
    "    f.write(text1) \n",
    "    f.write(text2) \n",
    "    ... \n",
    "\n",
    "# 把要打印的line写入文件中 \n",
    "with open('somefile.txt', 'w') as f: \n",
    "    print(line1, file = f) \n",
    "    print(line2, file = f)"
   ]
  },
  {
   "cell_type": "markdown",
   "metadata": {},
   "source": [
    "# **二进制文件读写**"
   ]
  },
  {
   "cell_type": "markdown",
   "metadata": {},
   "source": [
    "Python默认读取的都是文本文件。要是想要读取二进制文件，需要把刚刚的`r`改成`rb`。"
   ]
  },
  {
   "cell_type": "code",
   "execution_count": null,
   "metadata": {
    "collapsed": false
   },
   "outputs": [],
   "source": [
    "f = open('EDC.jpg', 'rb')\n",
    "print(f.read())\n",
    "# 输出 '\\xff\\xd8\\xff\\xe1\\x00\\x18Exif\\x00\\x00...' # 十六进制表示的字节"
   ]
  },
  {
   "cell_type": "markdown",
   "metadata": {},
   "source": [
    "简单说就是，任何非标准的文本文件（对于Python 3来说，标准是unicode），你就需要用二进制读入这个文件，然后再用 `.decode('...')`的方法来解码这个二进制文件。"
   ]
  },
  {
   "cell_type": "code",
   "execution_count": null,
   "metadata": {
    "collapsed": true
   },
   "outputs": [],
   "source": [
    "f = open('DegangGuo.txt', 'rb')\n",
    "# 读入郭德纲老师的作文, 但是郭老师用的是\"DeyunCode\"的繁体编码\n",
    "# 那么你读入以后，就需要用它来解码\n",
    "u = f.read().decode('DeyunCode')"
   ]
  },
  {
   "cell_type": "markdown",
   "metadata": {},
   "source": [
    "# **文件和目录操作**\n",
    "\n",
    "在图形界面的操作系统下，这个很简单，就是右键/拖拽等等。\n",
    "但是在Python的代码内该怎么做呢？"
   ]
  },
  {
   "cell_type": "markdown",
   "metadata": {},
   "source": [
    "## 基本操作\n",
    "\n",
    "用Python内置的`os`模块直接调用操作系统提供的接口函数。"
   ]
  },
  {
   "cell_type": "code",
   "execution_count": 27,
   "metadata": {
    "collapsed": false
   },
   "outputs": [],
   "source": [
    "import os\n",
    "# 查看操作系统的名字，如果是`posix`，说明系统是#nix族，如果是`nt`，就是Windows。\n",
    "os.name\n",
    "# 在操作系统中定义的环境变量，全部保存在os.environ这个列表中，可以直接查看\n",
    "os.environ\n",
    "# 当前工作目录\n",
    "os.getcwd()"
   ]
  },
  {
   "cell_type": "markdown",
   "metadata": {},
   "source": [
    "## 操作文件与目录\n",
    "\n",
    "查看、创建和删除目录。"
   ]
  },
  {
   "cell_type": "code",
   "execution_count": 36,
   "metadata": {
    "collapsed": false
   },
   "outputs": [
    {
     "name": "stdout",
     "output_type": "stream",
     "text": [
      "E:\\MyDocuments\\Jupyter\n",
      "E:\\MyDocuments\\Jupyter\n",
      "['.ipynb_checkpoints']\n",
      "['a.txt']\n"
     ]
    }
   ],
   "source": [
    "# 返回当前目录的绝对路径\n",
    "print os.path.abspath('.')\n",
    "print os.getcwd()\n",
    "\n",
    "# 列出当前目录下的所有目录\n",
    "print [x for x in os.listdir('.') if os.path.isdir(x)]\n",
    "\n",
    "# 列出所有的py文件\n",
    "print [y for y in os.listdir('.') if os.path.isfile(y) and os.path.splitext(y)[1]=='.txt']"
   ]
  },
  {
   "cell_type": "code",
   "execution_count": 35,
   "metadata": {
    "collapsed": false
   },
   "outputs": [
    {
     "name": "stdout",
     "output_type": "stream",
     "text": [
      ".\\Pictures\n"
     ]
    }
   ],
   "source": [
    "# 创建目录\n",
    "\n",
    "# 首先把新目录的完整路径表示出来:\n",
    "myPath = os.path.join('.', 'Pictures')\n",
    "print myPath\n",
    "# 这里你得到的是一个字符串，代表了新的文件夹是这个位置：E:\\MyDocuments\\Jupyter\\Pictures\n",
    "# 自己也可以拼起来，但是怕不同操作系统下的区分符问题，最好是用OS接口\n",
    "\n",
    "# 使用mkdir创建：\n",
    "if not os.path.exists(myPath):# 判断目录是否存在\n",
    "    os.mkdir(myPath)\n",
    "    \n",
    "# 删除目录\n",
    "os.rmdir(myPath)"
   ]
  },
  {
   "cell_type": "markdown",
   "metadata": {},
   "source": [
    "同样的道理，要拆分路径时，也不要直接去拆字符串"
   ]
  },
  {
   "cell_type": "code",
   "execution_count": 42,
   "metadata": {
    "collapsed": false
   },
   "outputs": [
    {
     "name": "stdout",
     "output_type": "stream",
     "text": [
      "('C:/Users/EDC/Pictures', 'AJiao.jpg')\n",
      "('C:/Users/EDC/Pictures/AJiao', '.jpg')\n"
     ]
    }
   ],
   "source": [
    "# 把一个路径拆分为两部分，第二部分总是最后级别的目录或文件名\n",
    "print (os.path.split('C:/Users/EDC/Pictures/AJiao.jpg'))\n",
    "\n",
    "# 得到文件扩展名\n",
    "print (os.path.splitext('C:/Users/EDC/Pictures/AJiao.jpg'))"
   ]
  },
  {
   "cell_type": "markdown",
   "metadata": {},
   "source": [
    "操作文件"
   ]
  },
  {
   "cell_type": "code",
   "execution_count": null,
   "metadata": {
    "collapsed": false
   },
   "outputs": [],
   "source": [
    "# 文件重命名：\n",
    "os.rename('JAV-001.avi', '学习资料')\n",
    "\n",
    "# 删除文件\n",
    "os.remove('学习资料')"
   ]
  },
  {
   "cell_type": "markdown",
   "metadata": {},
   "source": [
    "尴尬的是。。复制文件并不存在于os里。。(⊙﹏⊙)b\n",
    "原因是复制这个操作，不是由操作系统提供的系统调用。\n",
    "我们可以用上面的代码，读入一个文件，再写入一个文件，来达到复制的目的。\n",
    "当然，Python作为一个`Glue Language`的调性，总有第三方库来帮我们stay lazy：\n",
    "`Shutil`就是其中一个。基本上可以看做是os的补充。这个库用起来比os爽很多。比较简单易用。\n",
    "它提供`copyfile()`方法，来复制你的文件。"
   ]
  },
  {
   "cell_type": "code",
   "execution_count": 43,
   "metadata": {
    "collapsed": false
   },
   "outputs": [],
   "source": [
    "import shutil  \n",
    "shutil.copyfile('/path/to/file', '/path/to/other/file')  "
   ]
  },
  {
   "cell_type": "markdown",
   "metadata": {},
   "source": [
    "# **序列化和反序列化**"
   ]
  },
  {
   "cell_type": "markdown",
   "metadata": {},
   "source": [
    "什么是序列化？\n",
    "程序运行的过程中，所有变量都是在内存中操作的，程序一旦执行完毕退出后，变量占有的内存就被操作系统回收了。因此我们需要将某些数据持久化存储到磁盘中，下次运行的时候从磁盘中读取相关数据。\n",
    "我们将变量从内存中变成可以存储或传输的过程称之为**序列化**，在Python中叫做`pickling`，在其它语言中也称之为 serialization、marshaling、flattening等等，说的都是一个意思。 反之，则为**反序列化**，称之为`unpickling`，把变量内容从序列化的对象重新读取到内存中。"
   ]
  },
  {
   "cell_type": "markdown",
   "metadata": {},
   "source": [
    "## 使用pickle实现序列化"
   ]
  },
  {
   "cell_type": "code",
   "execution_count": 63,
   "metadata": {
    "collapsed": false
   },
   "outputs": [
    {
     "name": "stdout",
     "output_type": "stream",
     "text": [
      "(dp1\n",
      "S'age'\n",
      "p2\n",
      "I29\n",
      "sS'score'\n",
      "p3\n",
      "I80\n",
      "sS'name'\n",
      "p4\n",
      "S'\\xe6\\x80\\x9d\\xe8\\x81\\xaa'\n",
      "p5\n",
      "s.\n",
      "{'age': 29, 'score': 80, 'name': '\\xe6\\x80\\x9d\\xe8\\x81\\xaa'}\n",
      "-----------------------------------------------------\n",
      "{'age': 29, 'score': 80, 'name': '\\xe6\\x80\\x9d\\xe8\\x81\\xaa'}\n",
      "name is 思聪\n"
     ]
    }
   ],
   "source": [
    "# Python 2和Python 3里面的pickle不一样。\n",
    "# Python 2中cPickle和pickle是分开的，而Python 3中两者已经合并了\n",
    "# 为了保证2，3的和谐，可以用这个方法来保证import正确\n",
    "try:\n",
    "    import cPickle as pickle\n",
    "except ImportError:\n",
    "    import pickle\n",
    "\n",
    "# 此处定义一个dict字典对象\n",
    "d = dict(name='思聪', age=29, score=80)\n",
    "\n",
    "# 调用pickle的dumps函数进行序列化处理\n",
    "d2Pkl = pickle.dumps(d)\n",
    "print (d2Pkl)\n",
    "# 调用pickle的loads函数进行序列化处理\n",
    "pkl2D = pickle.loads(d2Pkl)\n",
    "print (pkl2D)\n",
    "\n",
    "\n",
    "print (\"----------------------------------------------------------------\")\n",
    "\n",
    "\n",
    "\n",
    "# 将内容序列化写入到file文件中\n",
    "# 定义和创建一个file文件对象，注意设定模式为wb\n",
    "f = open('dump.pkl', 'wb')\n",
    "pickle.dump(d, f)\n",
    "f.close() # 最后关闭掉文件资源\n",
    "\n",
    "# 从之前序列化的dump.pkl文件里边读取内容\n",
    "f = open('dump.pkl', 'rb') # 设定文件选项模式为rb\n",
    "d = pickle.load(f) # 调用load做反序列处理过程\n",
    "f.close() # 关闭文件资源\n",
    "\n",
    "print(d)\n",
    "print('name is %s' % d['name'])"
   ]
  },
  {
   "cell_type": "markdown",
   "metadata": {},
   "source": [
    "## 使用JSON实现序列化\n",
    "\n",
    "Python的数据结构跟Json有非常完美的兼容：\n",
    "\n",
    "JSON类型|Python类型\n",
    ":---:|:---:\n",
    "{}|dict\n",
    "[]|list\n",
    "\"string\"|'str'或者u'unicode'\n",
    "1234.56|int或float\n",
    "true/false|True/False\n",
    "null|None\n",
    "\n",
    "如果你有一个比较结构化的数据想要序列化，并且想要人也能看得懂。那么你可以用JSON来做。"
   ]
  },
  {
   "cell_type": "code",
   "execution_count": 61,
   "metadata": {
    "collapsed": false
   },
   "outputs": [
    {
     "name": "stdout",
     "output_type": "stream",
     "text": [
      "{\"age\": 20, \"score\": 80, \"name\": \"\\u5c0f\\u738b\"}\n",
      "{u'age': 20, u'score': 80, u'name': u'\\u5c0f\\u738b'}\n",
      "======================================================\n",
      "{u'age': 20, u'score': 80, u'name': u'\\u5c0f\\u738b'}\n",
      "小王\n"
     ]
    }
   ],
   "source": [
    "import json\n",
    " \n",
    "# 定义dict字典对象\n",
    "d = dict(name='小王', age=20, score=80)\n",
    "\n",
    "# 调用json的dumps函数进行json序列化处理\n",
    "d2Json = json.dumps(d)\n",
    "print d2Json\n",
    "# 调用json的loads函数进行反序列化处理\n",
    "json2D = json.loads(d2Json)\n",
    "print json2D\n",
    "\n",
    "print (\"======================================================\")\n",
    "\n",
    "# 序列化到文件中\n",
    "f = open('dump.json', 'w') # 设定文件选项模式为w\n",
    "json.dump(d,f)\n",
    "f.close\n",
    "# 从文件中反序列化\n",
    "f = open('dump.json', 'r')\n",
    "d = json.load(f)\n",
    "f.close\n",
    "\n",
    "print d\n",
    "print d['name']"
   ]
  }
 ],
 "metadata": {
  "kernelspec": {
   "display_name": "Python 3",
   "language": "python",
   "name": "python3"
  },
  "language_info": {
   "codemirror_mode": {
    "name": "ipython",
    "version": 3
   },
   "file_extension": ".py",
   "mimetype": "text/x-python",
   "name": "python",
   "nbconvert_exporter": "python",
   "pygments_lexer": "ipython3",
   "version": "3.6.0"
  },
  "nbpresent": {
   "slides": {
    "21d77357-1981-4a68-a49e-7fb4c19fde4c": {
     "id": "21d77357-1981-4a68-a49e-7fb4c19fde4c",
     "prev": "aa9c2827-d622-4782-a72d-120d9515de45",
     "regions": {
      "73cd02a2-6040-442d-85f7-8e6538d6f2f0": {
       "attrs": {
        "height": 0.8,
        "width": 0.8,
        "x": 0.1,
        "y": 0.1
       },
       "content": {
        "cell": "37ab04bb-e75e-4274-a239-96e39bc29aad",
        "part": "whole"
       },
       "id": "73cd02a2-6040-442d-85f7-8e6538d6f2f0"
      }
     }
    },
    "43ac58c1-3a96-4524-ad60-f8dd54302962": {
     "id": "43ac58c1-3a96-4524-ad60-f8dd54302962",
     "prev": "daaa3085-9957-4dfa-8367-4aee0476d588",
     "regions": {
      "b6dd16ec-4aec-4127-a916-f3344f6b8e43": {
       "attrs": {
        "height": 0.8,
        "width": 0.8,
        "x": 0.1,
        "y": 0.1
       },
       "content": {
        "cell": "6432e633-dc52-4ae4-b7b4-503af5c75148",
        "part": "whole"
       },
       "id": "b6dd16ec-4aec-4127-a916-f3344f6b8e43"
      }
     }
    },
    "554da8a7-b4ef-4036-9095-08962a454caa": {
     "id": "554da8a7-b4ef-4036-9095-08962a454caa",
     "prev": "621a6ead-8b36-45d1-bcdc-d020c2200643",
     "regions": {
      "4184e2a3-9341-461f-a5ef-c732056cb666": {
       "attrs": {
        "height": 0.8,
        "width": 0.8,
        "x": 0.1,
        "y": 0.1
       },
       "content": {
        "cell": "6f3d9ec6-ea7d-4271-a732-9912959ef40a",
        "part": "whole"
       },
       "id": "4184e2a3-9341-461f-a5ef-c732056cb666"
      }
     }
    },
    "621a6ead-8b36-45d1-bcdc-d020c2200643": {
     "id": "621a6ead-8b36-45d1-bcdc-d020c2200643",
     "prev": "876cbefb-e195-45b5-8ed8-fbcff7e3640a",
     "regions": {
      "217ac592-0842-4bb0-8b5d-27ce8cb367dc": {
       "attrs": {
        "height": 0.8,
        "width": 0.8,
        "x": 0.1,
        "y": 0.1
       },
       "content": {
        "cell": "e1bcace8-4423-414a-9727-495ba6559050",
        "part": "whole"
       },
       "id": "217ac592-0842-4bb0-8b5d-27ce8cb367dc"
      }
     }
    },
    "774af010-8fee-4d4d-bb69-3a24185aad02": {
     "id": "774af010-8fee-4d4d-bb69-3a24185aad02",
     "prev": "d86450d5-d3fd-44f7-8f61-01a6bfb1698c",
     "regions": {
      "43ff2059-1cbd-46d2-9103-25595012f173": {
       "attrs": {
        "height": 0.8,
        "width": 0.8,
        "x": 0.1,
        "y": 0.1
       },
       "content": {
        "cell": "3c6a2656-ae37-46ad-870f-b60b1b29d49f",
        "part": "whole"
       },
       "id": "43ff2059-1cbd-46d2-9103-25595012f173"
      }
     }
    },
    "826ad9e2-3d26-4cd2-b5e7-d2da53b9ccb9": {
     "id": "826ad9e2-3d26-4cd2-b5e7-d2da53b9ccb9",
     "prev": null,
     "regions": {
      "9812f8b3-bd7a-4d5a-ba1b-1d03de09ebc1": {
       "attrs": {
        "height": 0.8,
        "width": 0.8,
        "x": 0.1,
        "y": 0.1
       },
       "content": {
        "cell": "06854a4d-b71b-4652-944b-936a79ec5dbe",
        "part": "whole"
       },
       "id": "9812f8b3-bd7a-4d5a-ba1b-1d03de09ebc1"
      }
     }
    },
    "876cbefb-e195-45b5-8ed8-fbcff7e3640a": {
     "id": "876cbefb-e195-45b5-8ed8-fbcff7e3640a",
     "prev": "43ac58c1-3a96-4524-ad60-f8dd54302962",
     "regions": {
      "cd0f80a9-72dc-40bc-bdfa-06bf9b2385fd": {
       "attrs": {
        "height": 0.8,
        "width": 0.8,
        "x": 0.1,
        "y": 0.1
       },
       "content": {
        "cell": "09cc5c40-3224-46bc-890a-bedc943966f4",
        "part": "whole"
       },
       "id": "cd0f80a9-72dc-40bc-bdfa-06bf9b2385fd"
      }
     }
    },
    "aa9c2827-d622-4782-a72d-120d9515de45": {
     "id": "aa9c2827-d622-4782-a72d-120d9515de45",
     "prev": "774af010-8fee-4d4d-bb69-3a24185aad02",
     "regions": {
      "b515e2b0-a9da-4c22-b61a-5ebe58d593fe": {
       "attrs": {
        "height": 0.8,
        "width": 0.8,
        "x": 0.1,
        "y": 0.1
       },
       "content": {
        "cell": "9297f4d5-4345-41e0-a24f-a0332f87ff0f",
        "part": "whole"
       },
       "id": "b515e2b0-a9da-4c22-b61a-5ebe58d593fe"
      }
     }
    },
    "d86450d5-d3fd-44f7-8f61-01a6bfb1698c": {
     "id": "d86450d5-d3fd-44f7-8f61-01a6bfb1698c",
     "prev": "f48e1f00-f6d9-4baa-a24a-00147f3871c4",
     "regions": {
      "77f32197-ded8-48cf-af02-0401383b1445": {
       "attrs": {
        "height": 0.8,
        "width": 0.8,
        "x": 0.1,
        "y": 0.1
       },
       "content": {
        "cell": "b5a6dcff-2a0d-4b09-a2a2-cd862ed46de3",
        "part": "whole"
       },
       "id": "77f32197-ded8-48cf-af02-0401383b1445"
      }
     }
    },
    "daaa3085-9957-4dfa-8367-4aee0476d588": {
     "id": "daaa3085-9957-4dfa-8367-4aee0476d588",
     "prev": "826ad9e2-3d26-4cd2-b5e7-d2da53b9ccb9",
     "regions": {
      "5bf02229-bcef-4362-953a-31d6a2a89ff8": {
       "attrs": {
        "height": 0.8,
        "width": 0.8,
        "x": 0.1,
        "y": 0.1
       },
       "content": {
        "cell": "1f4cdf11-1d80-4265-81ff-b91e8577136b",
        "part": "whole"
       },
       "id": "5bf02229-bcef-4362-953a-31d6a2a89ff8"
      }
     }
    },
    "f48e1f00-f6d9-4baa-a24a-00147f3871c4": {
     "id": "f48e1f00-f6d9-4baa-a24a-00147f3871c4",
     "prev": "554da8a7-b4ef-4036-9095-08962a454caa",
     "regions": {
      "69f6235d-7c75-47e8-baab-db56e530bc0c": {
       "attrs": {
        "height": 0.8,
        "width": 0.8,
        "x": 0.1,
        "y": 0.1
       },
       "content": {
        "cell": "fd1077c1-d2a0-483e-bfb5-6969b8873b20",
        "part": "whole"
       },
       "id": "69f6235d-7c75-47e8-baab-db56e530bc0c"
      }
     }
    }
   },
   "themes": {
    "default": "9f63e321-f29f-4b73-b965-e486cfdabd5b",
    "theme": {
     "930f46b4-1e4a-4e21-b77e-6270a23af602": {
      "backgrounds": {
       "backgroundColor": {
        "background-color": "backgroundColor",
        "id": "backgroundColor"
       }
      },
      "id": "930f46b4-1e4a-4e21-b77e-6270a23af602",
      "palette": {
       "backgroundColor": {
        "id": "backgroundColor",
        "rgb": [
         43,
         43,
         43
        ]
       },
       "headingColor": {
        "id": "headingColor",
        "rgb": [
         238,
         238,
         238
        ]
       },
       "linkColor": {
        "id": "linkColor",
        "rgb": [
         19,
         218,
         236
        ]
       },
       "mainColor": {
        "id": "mainColor",
        "rgb": [
         238,
         238,
         238
        ]
       }
      },
      "rules": {
       "a": {
        "color": "linkColor"
       },
       "h1": {
        "color": "headingColor",
        "font-family": "Oswald",
        "font-size": 7
       },
       "h2": {
        "color": "headingColor",
        "font-family": "Oswald",
        "font-size": 5
       },
       "h3": {
        "color": "headingColor",
        "font-family": "Oswald",
        "font-size": 3.75
       },
       "h4": {
        "color": "headingColor",
        "font-family": "Oswald",
        "font-size": 3
       },
       "h5": {
        "color": "headingColor",
        "font-family": "Oswald"
       },
       "h6": {
        "color": "headingColor",
        "font-family": "Oswald"
       },
       "h7": {
        "color": "headingColor",
        "font-family": "Oswald"
       },
       "li": {
        "color": "mainColor",
        "font-family": "Lato",
        "font-size": 5
       },
       "p": {
        "color": "mainColor",
        "font-family": "Lato",
        "font-size": 5
       }
      },
      "text-base": {
       "color": "mainColor",
       "font-family": "Lato",
       "font-size": 5
      }
     },
     "9f63e321-f29f-4b73-b965-e486cfdabd5b": {
      "backgrounds": {
       "backgroundColor": {
        "background-color": "backgroundColor",
        "id": "backgroundColor"
       }
      },
      "id": "9f63e321-f29f-4b73-b965-e486cfdabd5b",
      "palette": {
       "backgroundColor": {
        "id": "backgroundColor",
        "rgb": [
         247,
         243,
         222
        ]
       },
       "headingColor": {
        "id": "headingColor",
        "rgb": [
         51,
         51,
         51
        ]
       },
       "linkColor": {
        "id": "linkColor",
        "rgb": [
         139,
         116,
         61
        ]
       },
       "mainColor": {
        "id": "mainColor",
        "rgb": [
         51,
         51,
         51
        ]
       }
      },
      "rules": {
       "a": {
        "color": "linkColor"
       },
       "h1": {
        "color": "headingColor",
        "font-family": "Oswald",
        "font-size": 7
       },
       "h2": {
        "color": "headingColor",
        "font-family": "Oswald",
        "font-size": 5
       },
       "h3": {
        "color": "headingColor",
        "font-family": "Oswald",
        "font-size": 3.75
       },
       "h4": {
        "color": "headingColor",
        "font-family": "Oswald",
        "font-size": 3
       },
       "h5": {
        "color": "headingColor",
        "font-family": "Oswald"
       },
       "h6": {
        "color": "headingColor",
        "font-family": "Oswald"
       },
       "h7": {
        "color": "headingColor",
        "font-family": "Oswald"
       },
       "li": {
        "color": "mainColor",
        "font-family": "Lato",
        "font-size": 5
       },
       "p": {
        "color": "mainColor",
        "font-family": "Lato",
        "font-size": 5
       }
      },
      "text-base": {
       "color": "mainColor",
       "font-family": "Lato",
       "font-size": 5
      }
     }
    }
   }
  },
  "toc": {
   "colors": {
    "hover_highlight": "#DAA520",
    "running_highlight": "#FF0000",
    "selected_highlight": "#FFD700"
   },
   "moveMenuLeft": true,
   "nav_menu": {
    "height": "157px",
    "width": "252px"
   },
   "navigate_menu": true,
   "number_sections": true,
   "sideBar": true,
   "threshold": 4,
   "toc_cell": false,
   "toc_section_display": "block",
   "toc_window_display": true
  }
 },
 "nbformat": 4,
 "nbformat_minor": 1
}

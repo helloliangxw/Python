{
 "cells": [
  {
   "cell_type": "markdown",
   "metadata": {},
   "source": [
    "---\n",
    "title: Python-基础-面向对象-2\n",
    "date: 2017-04-20 09:19:00\n",
    "mathjax: true\n",
    "categories: \"Python-基础\"\n",
    "---"
   ]
  },
  {
   "cell_type": "markdown",
   "metadata": {},
   "source": [
    "# **\\_\\_slot\\_\\_**"
   ]
  },
  {
   "cell_type": "markdown",
   "metadata": {},
   "source": [
    "Python是动态语言，可以对类的实例任意绑定属性。\n",
    "\n",
    "通过`__slot__`就可以限定类的实例能够添加的属性。"
   ]
  },
  {
   "cell_type": "code",
   "execution_count": 8,
   "metadata": {
    "collapsed": false
   },
   "outputs": [],
   "source": [
    "import traceback\n",
    "from types import MethodType\n",
    "\n",
    "class MyClass(object):\n",
    "    __slots__ = ['name', 'set_name']\n",
    "\n",
    "def set_name(self, name):\n",
    "    self.name = name\n",
    "\n",
    "cls = MyClass()"
   ]
  },
  {
   "cell_type": "markdown",
   "metadata": {},
   "source": [
    "`__slots__ = ['name', 'set_name']`表明，实例`cls`只能添加两种属性：`name`和`set_name`："
   ]
  },
  {
   "cell_type": "code",
   "execution_count": 9,
   "metadata": {
    "collapsed": false
   },
   "outputs": [
    {
     "name": "stdout",
     "output_type": "stream",
     "text": [
      "Tom\n",
      "Jerry\n"
     ]
    }
   ],
   "source": [
    "cls.name = 'Tom'\n",
    "cls.set_name = MethodType(set_name, cls)\n",
    "print(cls.name)\n",
    "\n",
    "cls.set_name('Jerry')\n",
    "print(cls.name)"
   ]
  },
  {
   "cell_type": "markdown",
   "metadata": {},
   "source": [
    "当视图绑定其他属性时，会报错："
   ]
  },
  {
   "cell_type": "code",
   "execution_count": 10,
   "metadata": {
    "collapsed": false
   },
   "outputs": [
    {
     "name": "stderr",
     "output_type": "stream",
     "text": [
      "Traceback (most recent call last):\n",
      "  File \"<ipython-input-10-04e8bc9eda97>\", line 2, in <module>\n",
      "    cls.age = 30\n",
      "AttributeError: 'MyClass' object has no attribute 'age'\n"
     ]
    }
   ],
   "source": [
    "try:\n",
    "    cls.age = 30\n",
    "except AttributeError:\n",
    "    traceback.print_exc()"
   ]
  },
  {
   "cell_type": "markdown",
   "metadata": {},
   "source": [
    "**注意：**`__slots__`仅对当前类的实例起作用，对继承的子类是不起作用的："
   ]
  },
  {
   "cell_type": "code",
   "execution_count": 11,
   "metadata": {
    "collapsed": false
   },
   "outputs": [
    {
     "name": "stdout",
     "output_type": "stream",
     "text": [
      "30\n"
     ]
    }
   ],
   "source": [
    "class ExtMyClass(MyClass):\n",
    "    pass\n",
    "\n",
    "ext_cls = ExtMyClass()\n",
    "ext_cls.age = 30\n",
    "print(ext_cls.age)"
   ]
  },
  {
   "cell_type": "markdown",
   "metadata": {},
   "source": [
    "# **@property**"
   ]
  },
  {
   "cell_type": "markdown",
   "metadata": {},
   "source": [
    "`@property`可以将Python定义的函数“当做”属性访问，从而提供更加友好访问方式（相当于`getter`和`setter`）\n",
    "\n",
    "1. 只有`@property`表示只读。\n",
    "2. 同时有`@property`和`@x.setter`表示可读可写。\n",
    "3. 同时有`@property`和`@x.setter`和`@x.deleter`表示可读可写可删除。"
   ]
  },
  {
   "cell_type": "code",
   "execution_count": 41,
   "metadata": {
    "collapsed": false
   },
   "outputs": [],
   "source": [
    "import traceback\n",
    "\n",
    "class Student(object):\n",
    "    \n",
    "    def __init__(self, first_name, last_name):\n",
    "        self._first_name = first_name  \n",
    "        self._last_name = last_name \n",
    "        \n",
    "    \n",
    "    ## 读\n",
    "    @property\n",
    "    def score(self):\n",
    "        return self._score\n",
    "    \n",
    "    ## 写\n",
    "    @score.setter\n",
    "    def score(self, value):\n",
    "        # 对传入的值进行判断\n",
    "        # score只能是int，且在0-100之间\n",
    "        if not isinstance(value, int):\n",
    "            raise ValueError('not int')\n",
    "        elif (value < 0) or (value > 100):\n",
    "            raise ValueError('not between 0 ~ 100')\n",
    "\n",
    "        self._score = value\n",
    "    \n",
    "    @score.deleter #删除  \n",
    "    def score(self):  \n",
    "        del self._score \n",
    "        \n",
    "    \n",
    "    @property #读  \n",
    "    def full_name(self):  \n",
    "        return '%s %s' % (self._first_name,self._last_name)   "
   ]
  },
  {
   "cell_type": "markdown",
   "metadata": {},
   "source": [
    "类`Student`对`score`属性设置了类型检查，只能设置为在0-100之间的整数，其他类型会报错："
   ]
  },
  {
   "cell_type": "code",
   "execution_count": 47,
   "metadata": {
    "collapsed": false
   },
   "outputs": [
    {
     "name": "stdout",
     "output_type": "stream",
     "text": [
      "75\n"
     ]
    },
    {
     "name": "stderr",
     "output_type": "stream",
     "text": [
      "Traceback (most recent call last):\n",
      "  File \"<ipython-input-47-0002bc38e8c2>\", line 6, in <module>\n",
      "    stu.score = 'abc'\n",
      "  File \"<ipython-input-41-9db1a0c27b9c>\", line 21, in score\n",
      "    raise ValueError('not int')\n",
      "ValueError: not int\n",
      "Traceback (most recent call last):\n",
      "  File \"<ipython-input-47-0002bc38e8c2>\", line 11, in <module>\n",
      "    stu.score = 101\n",
      "  File \"<ipython-input-41-9db1a0c27b9c>\", line 23, in score\n",
      "    raise ValueError('not between 0 ~ 100')\n",
      "ValueError: not between 0 ~ 100\n"
     ]
    }
   ],
   "source": [
    "stu = Student(\"pan\", \"jinlian\")\n",
    "stu.score = 75\n",
    "print(stu.score)\n",
    "\n",
    "try:\n",
    "    stu.score = 'abc'\n",
    "except ValueError:\n",
    "    traceback.print_exc()\n",
    "\n",
    "try:\n",
    "    stu.score = 101\n",
    "except:\n",
    "    traceback.print_exc()"
   ]
  },
  {
   "cell_type": "markdown",
   "metadata": {},
   "source": [
    "删除掉`score`属性后，实例stu就不存在`score`属性了："
   ]
  },
  {
   "cell_type": "code",
   "execution_count": 48,
   "metadata": {
    "collapsed": false
   },
   "outputs": [
    {
     "name": "stdout",
     "output_type": "stream",
     "text": [
      "75\n"
     ]
    },
    {
     "ename": "AttributeError",
     "evalue": "'Student' object has no attribute '_score'",
     "output_type": "error",
     "traceback": [
      "\u001b[0;31m---------------------------------------------------------------------------\u001b[0m",
      "\u001b[0;31mAttributeError\u001b[0m                            Traceback (most recent call last)",
      "\u001b[0;32m<ipython-input-48-e77428e32377>\u001b[0m in \u001b[0;36m<module>\u001b[0;34m()\u001b[0m\n\u001b[1;32m      1\u001b[0m \u001b[1;32mprint\u001b[0m \u001b[0mstu\u001b[0m\u001b[1;33m.\u001b[0m\u001b[0mscore\u001b[0m\u001b[1;33m\u001b[0m\u001b[0m\n\u001b[1;32m      2\u001b[0m \u001b[1;32mdel\u001b[0m \u001b[0mstu\u001b[0m\u001b[1;33m.\u001b[0m\u001b[0mscore\u001b[0m\u001b[1;33m\u001b[0m\u001b[0m\n\u001b[0;32m----> 3\u001b[0;31m \u001b[1;32mprint\u001b[0m \u001b[0mstu\u001b[0m\u001b[1;33m.\u001b[0m\u001b[0mscore\u001b[0m\u001b[1;33m\u001b[0m\u001b[0m\n\u001b[0m",
      "\u001b[0;32m<ipython-input-41-9db1a0c27b9c>\u001b[0m in \u001b[0;36mscore\u001b[0;34m(self)\u001b[0m\n\u001b[1;32m     11\u001b[0m     \u001b[1;33m@\u001b[0m\u001b[0mproperty\u001b[0m\u001b[1;33m\u001b[0m\u001b[0m\n\u001b[1;32m     12\u001b[0m     \u001b[1;32mdef\u001b[0m \u001b[0mscore\u001b[0m\u001b[1;33m(\u001b[0m\u001b[0mself\u001b[0m\u001b[1;33m)\u001b[0m\u001b[1;33m:\u001b[0m\u001b[1;33m\u001b[0m\u001b[0m\n\u001b[0;32m---> 13\u001b[0;31m         \u001b[1;32mreturn\u001b[0m \u001b[0mself\u001b[0m\u001b[1;33m.\u001b[0m\u001b[0m_score\u001b[0m\u001b[1;33m\u001b[0m\u001b[0m\n\u001b[0m\u001b[1;32m     14\u001b[0m \u001b[1;33m\u001b[0m\u001b[0m\n\u001b[1;32m     15\u001b[0m     \u001b[1;31m## 写\u001b[0m\u001b[1;33m\u001b[0m\u001b[1;33m\u001b[0m\u001b[0m\n",
      "\u001b[0;31mAttributeError\u001b[0m: 'Student' object has no attribute '_score'"
     ]
    }
   ],
   "source": [
    "print stu.score\n",
    "del stu.score\n",
    "print stu.score"
   ]
  },
  {
   "cell_type": "markdown",
   "metadata": {},
   "source": [
    "另外，由于`full_name`不存在`full_name.setter`，所以该属性为只读属性。尝试修改该属性会报错："
   ]
  },
  {
   "cell_type": "code",
   "execution_count": 49,
   "metadata": {
    "collapsed": false
   },
   "outputs": [
    {
     "name": "stdout",
     "output_type": "stream",
     "text": [
      "pan jinlian\n"
     ]
    },
    {
     "ename": "AttributeError",
     "evalue": "can't set attribute",
     "output_type": "error",
     "traceback": [
      "\u001b[0;31m---------------------------------------------------------------------------\u001b[0m",
      "\u001b[0;31mAttributeError\u001b[0m                            Traceback (most recent call last)",
      "\u001b[0;32m<ipython-input-49-6424f5f489f7>\u001b[0m in \u001b[0;36m<module>\u001b[0;34m()\u001b[0m\n\u001b[1;32m      1\u001b[0m \u001b[1;32mprint\u001b[0m \u001b[0mstu\u001b[0m\u001b[1;33m.\u001b[0m\u001b[0mfull_name\u001b[0m\u001b[1;33m\u001b[0m\u001b[0m\n\u001b[0;32m----> 2\u001b[0;31m \u001b[0mstu\u001b[0m\u001b[1;33m.\u001b[0m\u001b[0mfull_name\u001b[0m \u001b[1;33m=\u001b[0m \u001b[1;34m\"Wu Song\"\u001b[0m\u001b[1;33m\u001b[0m\u001b[0m\n\u001b[0m",
      "\u001b[0;31mAttributeError\u001b[0m: can't set attribute"
     ]
    }
   ],
   "source": [
    "print stu.full_name\n",
    "stu.full_name = \"Wu Song\""
   ]
  },
  {
   "cell_type": "markdown",
   "metadata": {},
   "source": [
    "# **类的定制（魔术方法）**"
   ]
  },
  {
   "cell_type": "markdown",
   "metadata": {},
   "source": [
    "## `__str__`"
   ]
  },
  {
   "cell_type": "markdown",
   "metadata": {},
   "source": [
    "当打印类的一个实例的时候，`__str__`函数被调用："
   ]
  },
  {
   "cell_type": "code",
   "execution_count": 51,
   "metadata": {
    "collapsed": false
   },
   "outputs": [
    {
     "name": "stdout",
     "output_type": "stream",
     "text": [
      "print will call __str__ first.\n",
      "Hello Tom!\n"
     ]
    }
   ],
   "source": [
    "class MyClass:\n",
    "    def __init__(self, name):\n",
    "        self.name = name\n",
    "\n",
    "    def __str__(self):\n",
    "        print('print will call __str__ first.')\n",
    "        return 'Hello ' + self.name + '!'\n",
    "\n",
    "cls = MyClass('Tom')\n",
    "print (cls)"
   ]
  },
  {
   "cell_type": "markdown",
   "metadata": {},
   "source": [
    "## `__iter__`"
   ]
  },
  {
   "cell_type": "markdown",
   "metadata": {},
   "source": [
    "在Python中实现了`__iter__`方法的对象是可迭代的，实现了`next()`方法的对象是迭代器。即要想让一个迭代器工作，至少要实现`__iter__`和`next()`方法。很多时候使用迭代器完成的工作使用列表也可以完成，但是如果有很多值列表就会占用太多的内存，而且使用迭代器也让我们的程序更加通用、优雅、pythonic。\n",
    "\n",
    "如果一个类想被用于`for...in...`循环，类似list或tuple那样，就必须实现一个`__iter__()`方法，该方法返回一个迭代对象，然后，Python的`for`循环就会不断调用该迭代对象的`next()`方法拿到循环的下一个值，直到遇到`StopIteration`错误时退出循环。"
   ]
  },
  {
   "cell_type": "code",
   "execution_count": 67,
   "metadata": {
    "collapsed": false
   },
   "outputs": [
    {
     "name": "stdout",
     "output_type": "stream",
     "text": [
      "1\n",
      "1\n",
      "2\n",
      "3\n",
      "5\n",
      "8\n",
      "13\n",
      "21\n",
      "34\n",
      "55\n"
     ]
    }
   ],
   "source": [
    "class Fib(object):\n",
    "    '''返回斐波那契数列的前十个'''\n",
    "    def __init__(self):\n",
    "        self._1, self._2\n",
    "        self._n = 0\n",
    "\n",
    "    def __iter__(self):\n",
    "        return self\n",
    "\n",
    "    def next(self):\n",
    "        self._1, self._2 = self._2, self._1 + self._2\n",
    "        self._n = self._n + 1\n",
    "        \n",
    "        if self._n > 10:\n",
    "            raise StopIteration()\n",
    "        return self._1\n",
    "\n",
    "    \n",
    "for i in Fib():\n",
    "    print(i)"
   ]
  },
  {
   "cell_type": "markdown",
   "metadata": {},
   "source": [
    "## `__getitem__`"
   ]
  },
  {
   "cell_type": "markdown",
   "metadata": {},
   "source": [
    "如果一个类的实例能够像`list[2]`一样进行下标索引时，就需要实现`__getitem__`方法。"
   ]
  },
  {
   "cell_type": "code",
   "execution_count": 71,
   "metadata": {
    "collapsed": false
   },
   "outputs": [
    {
     "name": "stdout",
     "output_type": "stream",
     "text": [
      "1\n",
      "102334155\n"
     ]
    }
   ],
   "source": [
    "class Fib:\n",
    "    def __getitem__(self, n):\n",
    "\n",
    "        a, b = 0, 1\n",
    "        for i in range(n):\n",
    "            a, b = b, a + b\n",
    "        return a\n",
    "\n",
    "f = Fib()\n",
    "print(f[1])\n",
    "print(f[40])"
   ]
  },
  {
   "cell_type": "markdown",
   "metadata": {},
   "source": [
    "## `__call__`"
   ]
  },
  {
   "cell_type": "markdown",
   "metadata": {},
   "source": [
    "在定义类的时候，实现`__call__`方法，这个类就成为可调用的。\n",
    "\n",
    "换句话说，我们可以把这个类的对象当作函数来使用，相当于重载了括号运算符。"
   ]
  },
  {
   "cell_type": "code",
   "execution_count": 74,
   "metadata": {
    "collapsed": false
   },
   "outputs": [
    {
     "name": "stdout",
     "output_type": "stream",
     "text": [
      "You can call directly.\n"
     ]
    }
   ],
   "source": [
    "class MyClass:\n",
    "    def __call__(self):\n",
    "        print('You can call directly.')\n",
    "\n",
    "cls = MyClass()\n",
    "cls()"
   ]
  },
  {
   "cell_type": "markdown",
   "metadata": {},
   "source": [
    "查看某个实例是否是可调用的："
   ]
  },
  {
   "cell_type": "code",
   "execution_count": 75,
   "metadata": {
    "collapsed": false
   },
   "outputs": [
    {
     "name": "stdout",
     "output_type": "stream",
     "text": [
      "True\n",
      "False\n",
      "False\n",
      "False\n"
     ]
    }
   ],
   "source": [
    "print(callable(max))\n",
    "print(callable([1, 2, 3]))\n",
    "print(callable(None))\n",
    "print(callable('str'))"
   ]
  },
  {
   "cell_type": "markdown",
   "metadata": {},
   "source": [
    "# **枚举类**"
   ]
  },
  {
   "cell_type": "markdown",
   "metadata": {},
   "source": [
    "当我们需要定义常量时，一个办法是用大写变量通过整数来定义，例如月份：\n",
    "\n",
    "```python\n",
    "JAN = 1\n",
    "FEB = 2\n",
    "MAR = 3\n",
    "...\n",
    "NOV = 11\n",
    "DEC = 12\n",
    "```\n",
    "\n",
    "好处是简单，缺点是：类型是`int`，并且仍然是变量。\n",
    "\n",
    "更好的方法是为这样的枚举类型定义一个`class`类型，然后，每个常量都是class的一个唯一实例。Python提供了`Enum`类来实现这个功能："
   ]
  },
  {
   "cell_type": "code",
   "execution_count": 81,
   "metadata": {
    "collapsed": false
   },
   "outputs": [
    {
     "name": "stdout",
     "output_type": "stream",
     "text": [
      "('Jan', <Month.Jan: 1>, 1)\n",
      "('Feb', <Month.Feb: 2>, 2)\n",
      "('Mar', <Month.Mar: 3>, 3)\n",
      "('Apr', <Month.Apr: 4>, 4)\n",
      "('May', <Month.May: 5>, 5)\n",
      "('Jun', <Month.Jun: 6>, 6)\n",
      "('Jul', <Month.Jul: 7>, 7)\n",
      "('Aug', <Month.Aug: 8>, 8)\n",
      "('Sep', <Month.Sep: 9>, 9)\n",
      "('Oct', <Month.Oct: 10>, 10)\n",
      "('Nov', <Month.Nov: 11>, 11)\n",
      "('Dec', <Month.Dec: 12>, 12)\n",
      "Month.Jan\n"
     ]
    }
   ],
   "source": [
    "from enum import Enum\n",
    "\n",
    "Month = Enum('Month', ('Jan', 'Feb', 'Mar', 'Apr', 'May', 'Jun',\\\n",
    "                       'Jul', 'Aug', 'Sep', 'Oct', 'Nov', 'Dec'))\n",
    "\n",
    "for name, member in Month.__members__.items():\n",
    "    print(name, member, member.value)\n",
    "\n",
    "jan = Month.Jan\n",
    "print(jan)\n"
   ]
  },
  {
   "cell_type": "markdown",
   "metadata": {},
   "source": [
    "如果需要更精确地控制枚举类型，可以从`Enum`派生出自定义类："
   ]
  },
  {
   "cell_type": "code",
   "execution_count": 88,
   "metadata": {
    "collapsed": false
   },
   "outputs": [
    {
     "name": "stdout",
     "output_type": "stream",
     "text": [
      "Weekday.Mon\n",
      "1\n",
      "('Sun', <Weekday.Sun: 0>, 0)\n",
      "('Mon', <Weekday.Mon: 1>, 1)\n",
      "('Tue', <Weekday.Tue: 2>, 2)\n",
      "('Wed', <Weekday.Wed: 3>, 3)\n",
      "('Thu', <Weekday.Thu: 4>, 4)\n",
      "('Fri', <Weekday.Fri: 5>, 5)\n",
      "('Sat', <Weekday.Sat: 6>, 6)\n"
     ]
    }
   ],
   "source": [
    "from enum import Enum, unique\n",
    "\n",
    "# @unique装饰器可以帮助我们检查保证没有重复值。\n",
    "@unique\n",
    "class Weekday(Enum):\n",
    "    Sun = 0 # Sun的value被设定为0\n",
    "    Mon = 1\n",
    "    Tue = 2\n",
    "    Wed = 3\n",
    "    Thu = 4\n",
    "    Fri = 5\n",
    "    Sat = 6\n",
    "\n",
    "print  (Weekday.Mon)\n",
    "print  (Weekday.Mon.value)\n",
    "for name, member in Weekday.__members__.items():\n",
    "    print(name, member, member.value)"
   ]
  }
 ],
 "metadata": {
  "kernelspec": {
   "display_name": "Python 3",
   "language": "python",
   "name": "python3"
  },
  "language_info": {
   "codemirror_mode": {
    "name": "ipython",
    "version": 3
   },
   "file_extension": ".py",
   "mimetype": "text/x-python",
   "name": "python",
   "nbconvert_exporter": "python",
   "pygments_lexer": "ipython3",
   "version": "3.6.0"
  },
  "toc": {
   "colors": {
    "hover_highlight": "#DAA520",
    "running_highlight": "#FF0000",
    "selected_highlight": "#FFD700"
   },
   "moveMenuLeft": true,
   "nav_menu": {
    "height": "70px",
    "width": "456px"
   },
   "navigate_menu": true,
   "number_sections": true,
   "sideBar": true,
   "threshold": 4,
   "toc_cell": false,
   "toc_position": {
    "height": "404px",
    "left": "0px",
    "right": "867.2px",
    "top": "106px",
    "width": "212px"
   },
   "toc_section_display": "block",
   "toc_window_display": true
  }
 },
 "nbformat": 4,
 "nbformat_minor": 1
}

{
 "cells": [
  {
   "cell_type": "markdown",
   "metadata": {},
   "source": [
    "---\n",
    "title: Python-基础-函数与递归\n",
    "date: 2017-04-19 17:33:00\n",
    "mathjax: true\n",
    "categories: \"Python-基础\"\n",
    "\n",
    "---"
   ]
  },
  {
   "cell_type": "markdown",
   "metadata": {},
   "source": [
    "# 函数"
   ]
  },
  {
   "cell_type": "markdown",
   "metadata": {},
   "source": [
    "## 函数定义"
   ]
  },
  {
   "cell_type": "code",
   "execution_count": 2,
   "metadata": {
    "collapsed": false
   },
   "outputs": [
    {
     "name": "stdout",
     "output_type": "stream",
     "text": [
      "(1, 2)\n",
      "<class 'tuple'>\n"
     ]
    }
   ],
   "source": [
    "def func(arg1, arg2):\n",
    "    # 返回元组\n",
    "    return arg1, arg2\n",
    "\n",
    "t = func(1, 2)\n",
    "print(t)\n",
    "print(type(t))"
   ]
  },
  {
   "cell_type": "markdown",
   "metadata": {},
   "source": [
    "## 默认参数"
   ]
  },
  {
   "cell_type": "code",
   "execution_count": 6,
   "metadata": {
    "collapsed": false
   },
   "outputs": [
    {
     "name": "stdout",
     "output_type": "stream",
     "text": [
      "(1, 200)\n",
      "(1, 2)\n",
      "(10, 2)\n",
      "(1, 2)\n"
     ]
    }
   ],
   "source": [
    "def func(arg1, arg2 = 200):\n",
    "    return arg1, arg2\n",
    "\n",
    "print(func(1))\n",
    "print(func(1, 2))\n",
    "\n",
    "# 调用时可以改变参数顺序\n",
    "print(func(10, arg2 = 2))\n",
    "print(func(arg2 = 2, arg1 = 1))\n",
    "\n",
    "# 下面这种调用方式会出错\n",
    "# func(arg2 = 2, 10)"
   ]
  },
  {
   "cell_type": "markdown",
   "metadata": {},
   "source": [
    "## 变长参数"
   ]
  },
  {
   "cell_type": "markdown",
   "metadata": {},
   "source": [
    "变长参数必须放在参数列表的最后。  \n",
    "一共有两种形式。  \n",
    "第一种将变长参数包装成tuple："
   ]
  },
  {
   "cell_type": "code",
   "execution_count": 8,
   "metadata": {
    "collapsed": false
   },
   "outputs": [
    {
     "name": "stdout",
     "output_type": "stream",
     "text": [
      "<class 'tuple'>\n",
      "(1, 2, 'abc')\n",
      "1\n"
     ]
    }
   ],
   "source": [
    "\n",
    "def func(name, *args):\n",
    "    # 变长参数自动包装成tuple\n",
    "    print(type(args))\n",
    "    print(args)\n",
    "    print(args[0])\n",
    "\n",
    "func('Tom', 1, 2 ,'abc')"
   ]
  },
  {
   "cell_type": "markdown",
   "metadata": {},
   "source": [
    "第二种将变长参数包装成dict："
   ]
  },
  {
   "cell_type": "code",
   "execution_count": 9,
   "metadata": {
    "collapsed": false
   },
   "outputs": [
    {
     "name": "stdout",
     "output_type": "stream",
     "text": [
      "<class 'dict'>\n",
      "{'China': 'Beijing', 'UK': 'London'}\n",
      "Beijing\n"
     ]
    }
   ],
   "source": [
    "def func(name, **args):\n",
    "    # 变长参数自动包装成dict\n",
    "    print(type(args))\n",
    "    print(args)\n",
    "    print(args['China'])\n",
    "    \n",
    "func('Tom', China='Beijing', UK='London')"
   ]
  },
  {
   "cell_type": "code",
   "execution_count": 10,
   "metadata": {
    "collapsed": false
   },
   "outputs": [
    {
     "name": "stdout",
     "output_type": "stream",
     "text": [
      "1 2 0\n",
      "()\n",
      "{}\n",
      "--------------------------------------\n",
      "1 2 3\n",
      "()\n",
      "{}\n",
      "--------------------------------------\n",
      "1 2 3\n",
      "('a', 'b', 'c')\n",
      "{}\n",
      "--------------------------------------\n",
      "1 2 3\n",
      "('a', 'b')\n",
      "{'China': 'Beijing', 'UK': 'London'}\n",
      "--------------------------------------\n",
      "1 2 3\n",
      "('a', 'b')\n",
      "{'China': 'Beijing', 'UK': 'London'}\n"
     ]
    }
   ],
   "source": [
    "def func(a, b, c = 0, *args0, **args1):\n",
    "    print(a, b, c)\n",
    "    print(args0)\n",
    "    print(args1)\n",
    "\n",
    "func(1, 2)\n",
    "print(\"--------------------------------------\")\n",
    "func(1, 2, 3)\n",
    "print(\"--------------------------------------\")\n",
    "func(1, 2, 3, 'a', 'b', 'c')\n",
    "print(\"--------------------------------------\")\n",
    "func(1, 2, 3, 'a', 'b',  China='Beijing', UK='London')\n",
    "print(\"--------------------------------------\")\n",
    "func(1, 2, 3, *('a', 'b'),  **{'China':'Beijing', 'UK':'London'})"
   ]
  },
  {
   "cell_type": "markdown",
   "metadata": {},
   "source": [
    "## 函数作为变量\n",
    "\n",
    "Python中一切皆对象，因此函数也可以最为变量："
   ]
  },
  {
   "cell_type": "code",
   "execution_count": 11,
   "metadata": {
    "collapsed": false
   },
   "outputs": [
    {
     "name": "stdout",
     "output_type": "stream",
     "text": [
      "aa\n"
     ]
    }
   ],
   "source": [
    "def func(args):\n",
    "    print(args*2)\n",
    "\n",
    "f = func\n",
    "f('a')"
   ]
  },
  {
   "cell_type": "code",
   "execution_count": 12,
   "metadata": {
    "collapsed": false
   },
   "outputs": [
    {
     "name": "stdout",
     "output_type": "stream",
     "text": [
      "[1, 3, 2, 5, 0]\n",
      "[0, 1, 2, 3, 5]\n",
      "[5, 3, 2, 1, 0]\n"
     ]
    }
   ],
   "source": [
    "# 根据比较方法参数cmpMethod，对列表进行排序\n",
    "def theSort(dataList, cmpMethod = None):\n",
    "    if not cmpMethod:\n",
    "        return dataList\n",
    "    else:\n",
    "        return cmpMethod(dataList)\n",
    "\n",
    "    \n",
    "# 从小到大排序（冒泡排序）\n",
    "def bubbleSortAscent(dataList):\n",
    "    length = len(dataList)\n",
    "    for i in range(0, length):\n",
    "        for j in range(i + 1, length):\n",
    "            if dataList[j] < dataList[i]:\n",
    "                temp = dataList[i]\n",
    "                dataList[i] = dataList[j]\n",
    "                dataList[j] = temp\n",
    "    return dataList\n",
    "\n",
    "# 从大到小排序（冒泡排序）\n",
    "def bubbleSortDescent(dataList):\n",
    "    length = len(dataList)\n",
    "    for i in range(0, length):\n",
    "        for j in range(i + 1, length):\n",
    "            if dataList[j] > dataList[i]:\n",
    "                temp = dataList[i]\n",
    "                dataList[i] = dataList[j]\n",
    "                dataList[j] = temp\n",
    "    return dataList\n",
    "\n",
    "print(theSort([1, 3, 2, 5, 0]))\n",
    "print(theSort([1, 3, 2, 5, 0], bubbleSortAscent))\n",
    "print(theSort([1, 3, 2, 5, 0], bubbleSortDescent))"
   ]
  },
  {
   "cell_type": "code",
   "execution_count": 15,
   "metadata": {
    "collapsed": false
   },
   "outputs": [
    {
     "name": "stdout",
     "output_type": "stream",
     "text": [
      "6\n",
      "{1, 3, '2'}\n"
     ]
    }
   ],
   "source": [
    "def Do(datas, method):\n",
    "    return method(datas)\n",
    "\n",
    "print(Do([1, 2, 3], sum))\n",
    "print(Do([1, '2', 3], set))"
   ]
  },
  {
   "cell_type": "markdown",
   "metadata": {},
   "source": [
    "## 命名关键字参数"
   ]
  },
  {
   "cell_type": "code",
   "execution_count": 18,
   "metadata": {
    "collapsed": false
   },
   "outputs": [
    {
     "name": "stdout",
     "output_type": "stream",
     "text": [
      "Beijing London\n"
     ]
    }
   ],
   "source": [
    "def func(a, b, c, *, China, UK):\n",
    "    print(China, UK)\n",
    "\n",
    "func(1, 2, 3, China = 'Beijing', UK = 'London')"
   ]
  },
  {
   "cell_type": "markdown",
   "metadata": {},
   "source": [
    "# 递归"
   ]
  },
  {
   "cell_type": "markdown",
   "metadata": {},
   "source": [
    "函数定义中使用函数自身的方法。  \n",
    "经典例子：阶乘。\n",
    " \n",
    "$$n!=n(n-1)(n-2)...1=\\left\\{\\begin{matrix}\n",
    "1 && n=0 \\\\ \n",
    "n(n-1)! && otherwrise\n",
    "\\end{matrix}\\right.$$\n",
    "\n",
    "其中\\\\(n=0\\\\)称为该递归的**基例**。\n",
    "\n",
    "\n",
    "递归特征：\n",
    "1. 递归不是循环\n",
    "2. （一个或多个）基例不需要递归，否则递归就会无限循环\n",
    "3. 所有的递归链都要以一个基例结尾\n",
    "\n",
    "PS：Python默认“递归深度的最大值”为900，达到900次调用时，程序就会终止。"
   ]
  },
  {
   "cell_type": "markdown",
   "metadata": {},
   "source": [
    "## 阶乘"
   ]
  },
  {
   "cell_type": "code",
   "execution_count": 3,
   "metadata": {
    "collapsed": false
   },
   "outputs": [
    {
     "data": {
      "text/plain": [
       "6"
      ]
     },
     "execution_count": 3,
     "metadata": {},
     "output_type": "execute_result"
    }
   ],
   "source": [
    "def fact(n):\n",
    "    if n==0:\n",
    "        return 1\n",
    "    else:\n",
    "        return fact(n-1) * n\n",
    "\n",
    "fact(3)"
   ]
  },
  {
   "cell_type": "markdown",
   "metadata": {},
   "source": [
    "## 求和"
   ]
  },
  {
   "cell_type": "code",
   "execution_count": 4,
   "metadata": {
    "collapsed": false
   },
   "outputs": [
    {
     "name": "stdout",
     "output_type": "stream",
     "text": [
      "6\n"
     ]
    }
   ],
   "source": [
    "def MySum(i):\n",
    "    if i < 0:\n",
    "        raise ValueError\n",
    "    elif i <= 1:\n",
    "        return i\n",
    "    else:\n",
    "        return i + MySum(i-1)\n",
    "\n",
    "print(MySum(3))"
   ]
  },
  {
   "cell_type": "markdown",
   "metadata": {},
   "source": [
    "## 字符串反转"
   ]
  },
  {
   "cell_type": "code",
   "execution_count": 7,
   "metadata": {
    "collapsed": false
   },
   "outputs": [
    {
     "data": {
      "text/plain": [
       "'987654321'"
      ]
     },
     "execution_count": 7,
     "metadata": {},
     "output_type": "execute_result"
    }
   ],
   "source": [
    "def strReverse(string):\n",
    "    if string == \"\":\n",
    "        return string\n",
    "    else:\n",
    "        return strReverse(string[1:])+string[0]\n",
    "strReverse(\"123456789\")"
   ]
  },
  {
   "cell_type": "markdown",
   "metadata": {},
   "source": [
    "## 斐波那契数列"
   ]
  },
  {
   "cell_type": "code",
   "execution_count": null,
   "metadata": {
    "collapsed": true
   },
   "outputs": [],
   "source": [
    "\n",
    "def fib(n):\n",
    "    if n < 1:\n",
    "        raise ValueError\n",
    "    elif n <= 2:\n",
    "        return 1\n",
    "    else:\n",
    "        return fib(n-1) + fib(n-2)\n",
    "\n",
    "print fib(1), fib(2), fib(3), fib(4), fib(5), fib(6), fib(7)"
   ]
  },
  {
   "cell_type": "markdown",
   "metadata": {},
   "source": [
    "## 汉诺塔问题"
   ]
  },
  {
   "cell_type": "code",
   "execution_count": null,
   "metadata": {
    "collapsed": true
   },
   "outputs": [],
   "source": [
    "\n",
    "def hnt(n, source, target, helper):\n",
    "    if n == 1:\n",
    "        print source + '=>' + target\n",
    "    else:\n",
    "        hnt(n-1, source, helper, target)\n",
    "        print source + '=>' + target\n",
    "        hnt(n-1, helper, target, source)\n",
    "\n",
    "hnt(3, 'A', 'B', 'C')"
   ]
  }
 ],
 "metadata": {
  "kernelspec": {
   "display_name": "Python 3",
   "language": "python",
   "name": "python3"
  },
  "language_info": {
   "codemirror_mode": {
    "name": "ipython",
    "version": 3
   },
   "file_extension": ".py",
   "mimetype": "text/x-python",
   "name": "python",
   "nbconvert_exporter": "python",
   "pygments_lexer": "ipython3",
   "version": "3.6.0"
  },
  "toc": {
   "colors": {
    "hover_highlight": "#DAA520",
    "running_highlight": "#FF0000",
    "selected_highlight": "#FFD700"
   },
   "moveMenuLeft": true,
   "nav_menu": {
    "height": "141px",
    "width": "252px"
   },
   "navigate_menu": true,
   "number_sections": true,
   "sideBar": true,
   "threshold": 4,
   "toc_cell": false,
   "toc_section_display": "block",
   "toc_window_display": true
  }
 },
 "nbformat": 4,
 "nbformat_minor": 2
}

{
 "cells": [
  {
   "cell_type": "markdown",
   "metadata": {},
   "source": [
    "---\n",
    "title: Python-基础-容器\n",
    "date: 2017-04-19 17:31:00\n",
    "mathjax: true\n",
    "categories: \"Python-基础\"\n",
    "\n",
    "---"
   ]
  },
  {
   "cell_type": "markdown",
   "metadata": {},
   "source": [
    "# 容器类型"
   ]
  },
  {
   "cell_type": "markdown",
   "metadata": {},
   "source": [
    "-|list|tuple|dict|set\n",
    ":---:|:---:|:---:|:---:|:---:\n",
    "元素类型|任意|任意|任意|任意\n",
    "能否改变|可以|不可以|可以|可以\n",
    "是否有序|有序|有序|无序|无序"
   ]
  },
  {
   "cell_type": "markdown",
   "metadata": {},
   "source": [
    "# list列表\n",
    "\n",
    "**特点：**\n",
    "\n",
    "1. 元素类型任意\n",
    "2. 支持索引访问\n",
    "3. 元素可以修改\n",
    "\n",
    "**常用方法：**\n",
    "\n",
    "|方法|说明|\n",
    "|:---:|:---:|\n",
    "|append(x)|列表末尾增加元素x|\n",
    "|insert(i, x)|在位置i前添加元素x|\n",
    "|sort()|排序|\n",
    "|count(x)|列表中x的个数|\n",
    "|reverse()|列表反转|\n",
    "|remove(x)|删除列表中第一次出现的元素x|\n",
    "|index(x)|列表中第一次出现x的位置|\n",
    "|pop(i)|取出位置i的元素，并删除这个元素|"
   ]
  },
  {
   "cell_type": "code",
   "execution_count": 1,
   "metadata": {
    "collapsed": false
   },
   "outputs": [
    {
     "name": "stdout",
     "output_type": "stream",
     "text": [
      "<type 'type'>\n",
      "<type 'list'>\n",
      "[2, 2, 'a', (1, 2), {1: 'one', 2: 'two'}]\n"
     ]
    }
   ],
   "source": [
    "# 可以是任意类型\n",
    "theList = [1, 2, 'a', (1, 2), {1:\"one\", 2:\"two\"}]\n",
    "print type(list)\n",
    "print type(theList)\n",
    "theList[0]=2\n",
    "print theList"
   ]
  },
  {
   "cell_type": "code",
   "execution_count": 9,
   "metadata": {
    "collapsed": false
   },
   "outputs": [
    {
     "name": "stdout",
     "output_type": "stream",
     "text": [
      "1\n",
      "{1: 'one', 2: 'two'}\n",
      "(1, 2)\n",
      "[{1: 'one', 2: 'two'}, (1, 2), 'a', 2, 1]\n"
     ]
    }
   ],
   "source": [
    "# 列表引用\n",
    "theList = [1, 2, 'a', (1, 2), {1:\"one\", 2:\"two\"}]\n",
    "print theList[0]\n",
    "print theList[-1]\n",
    "print theList[-2]\n",
    "print theList[::-1] # 列表反转"
   ]
  },
  {
   "cell_type": "code",
   "execution_count": 5,
   "metadata": {
    "collapsed": false
   },
   "outputs": [
    {
     "name": "stdout",
     "output_type": "stream",
     "text": [
      "[1, 2, 'a', (1, 2), {1: 'one', 2: 'two'}, 'china']\n",
      "[1, 2, 'a', (1, 2), {1: 'one', 2: 'two'}, 'china', 10, 20]\n",
      "[1, 2, 'a', (1, 2), {1: 'one', 2: 'two'}, 'china', 10, 20, [30, 40]]\n"
     ]
    }
   ],
   "source": [
    "# 添加元素\n",
    "theList = [1, 2, 'a', (1, 2), {1:\"one\", 2:\"two\"}]\n",
    "\n",
    "theList.append('china') # 添加单个元素\n",
    "print theList\n",
    "\n",
    "theList.extend([10, 20]) # 添加数组\n",
    "print theList\n",
    "\n",
    "theList.append([30, 40]) # 使用append添加数组时，仍然是添加单个元素\n",
    "print theList"
   ]
  },
  {
   "cell_type": "code",
   "execution_count": 7,
   "metadata": {
    "collapsed": false
   },
   "outputs": [
    {
     "name": "stdout",
     "output_type": "stream",
     "text": [
      "[2, 'a', (1, 2), {1: 'one', 2: 'two'}]\n",
      "[2, (1, 2), {1: 'one', 2: 'two'}]\n",
      "[2, (1, 2)]\n"
     ]
    }
   ],
   "source": [
    "# 删除元素\n",
    "theList = [1, 2, 'a', (1, 2), {1:\"one\", 2:\"two\"}]\n",
    "theList.remove(1)\n",
    "print theList\n",
    "theList.remove('a')\n",
    "print theList\n",
    "del(theList[-1])\n",
    "print theList"
   ]
  },
  {
   "cell_type": "code",
   "execution_count": 8,
   "metadata": {
    "collapsed": false
   },
   "outputs": [
    {
     "name": "stdout",
     "output_type": "stream",
     "text": [
      "[100, 2, 'a', (1, 2), {1: 'one', 2: 'two'}]\n"
     ]
    }
   ],
   "source": [
    "# 修改元素\n",
    "theList = [1, 2, 'a', (1, 2), {1:\"one\", 2:\"two\"}]\n",
    "theList[0] = 100\n",
    "print theList"
   ]
  },
  {
   "cell_type": "code",
   "execution_count": 9,
   "metadata": {
    "collapsed": false
   },
   "outputs": [
    {
     "name": "stdout",
     "output_type": "stream",
     "text": [
      "2\n",
      "3\n"
     ]
    }
   ],
   "source": [
    "# 查找元素位置\n",
    "print theList.index('a')\n",
    "print theList.index((1, 2))"
   ]
  },
  {
   "cell_type": "code",
   "execution_count": 12,
   "metadata": {
    "collapsed": false
   },
   "outputs": [
    {
     "name": "stdout",
     "output_type": "stream",
     "text": [
      "1\n",
      "2\n",
      "a\n",
      "(1, 2)\n",
      "{1: 'one', 2: 'two'}\n",
      "--------------------------------------\n",
      "1\n",
      "2\n",
      "a\n",
      "(1, 2)\n",
      "{1: 'one', 2: 'two'}\n"
     ]
    }
   ],
   "source": [
    "# 遍历\n",
    "theList = [1, 2, 'a', (1, 2), {1:\"one\", 2:\"two\"}]\n",
    "for i in theList:\n",
    "    print i\n",
    "\n",
    "print \"--------------------------------------\"\n",
    "\n",
    "for i in range(0, len(theList)):\n",
    "    print theList[i]"
   ]
  },
  {
   "cell_type": "code",
   "execution_count": 10,
   "metadata": {
    "collapsed": false
   },
   "outputs": [
    {
     "name": "stdout",
     "output_type": "stream",
     "text": [
      "empty\n",
      "empty\n",
      "not empty\n"
     ]
    }
   ],
   "source": [
    "# 判断空列表\n",
    "lst = []\n",
    "if not lst:\n",
    "    print \"empty\"\n",
    "    \n",
    "if len(lst) == 0:\n",
    "    print \"empty\"\n",
    "    \n",
    "if lst is None:  # 不能这么写，None什么都不是，[]在内存中也是分配空间了\n",
    "    print \"empty\"\n",
    "else:\n",
    "    print \"not empty\""
   ]
  },
  {
   "cell_type": "code",
   "execution_count": 14,
   "metadata": {
    "collapsed": false
   },
   "outputs": [
    {
     "name": "stdout",
     "output_type": "stream",
     "text": [
      "{'3': 5, '2': 4}\n"
     ]
    }
   ],
   "source": [
    "# 在一个列表中找到两个数，这两个数的和为目标数\n",
    "def TwoSum(number_list, target):\n",
    "    for i in range(len(number_list)-1):\n",
    "        for j in range(len(number_list)-1):\n",
    "            if number_list[i] + number_list[j] == target:\n",
    "                return {str(i) : number_list[i], str(j) : number_list[j]}\n",
    "    return {'-1':-1, '-1':-1}\n",
    "\n",
    "print TwoSum([1, 2, 4, 5, 3, 6], 9)"
   ]
  },
  {
   "cell_type": "markdown",
   "metadata": {},
   "source": [
    "# tuple元组\n",
    "\n",
    "即不可变数组，除了不可变之外，其他特性与list相同（任意类型，有序）\n",
    "\n",
    "特点：\n",
    "1. 元素类型任意\n",
    "2. 支持索引访问\n",
    "3. 元素不可修改\n",
    "\n",
    "元组不可变的意义?**代码更加安全！**"
   ]
  },
  {
   "cell_type": "code",
   "execution_count": 26,
   "metadata": {
    "collapsed": false
   },
   "outputs": [
    {
     "name": "stdout",
     "output_type": "stream",
     "text": [
      "<type 'tuple'>\n",
      "(1, 2, 'a')\n",
      "3\n",
      "0\n"
     ]
    }
   ],
   "source": [
    "t = (1, 2, 'a')\n",
    "print type(t)\n",
    "print t\n",
    "print len(t)\n",
    "print t.index(1)"
   ]
  },
  {
   "cell_type": "markdown",
   "metadata": {},
   "source": [
    "# dict字典\n",
    "\n",
    "无序的键值对\n",
    "\n",
    "注意：**列表**不能作为字典的键！\n",
    "\n",
    "**常用字典方法：**\n",
    "\n",
    "方法名|说明\n",
    ":---:|:---:\n",
    ".keys() |  返回一个包含字典所有Key的列表\n",
    ".values() | 返回一个包含字典所有value的列表\n",
    ".Items() | 返回一一个包含所有键值的列表\n",
    ".clear() | 删除字典中的所有项目\n",
    ".get(key) | 返回字典中key对应的值\n",
    ".pop(key) | 删除并返回字典中key对应的值\n",
    ".update(dict) | 将字典中的键值添加到字典中"
   ]
  },
  {
   "cell_type": "code",
   "execution_count": 2,
   "metadata": {
    "collapsed": false
   },
   "outputs": [
    {
     "name": "stdout",
     "output_type": "stream",
     "text": [
      "<class 'dict'>\n",
      "{1: 'one', 2: 'two', 'three': 3}\n",
      "3\n",
      "one\n"
     ]
    }
   ],
   "source": [
    "d = {1 : 'one', 2 : 'two', 'three' : 3}\n",
    "print(type(d))\n",
    "print(d)\n",
    "print(len(d))\n",
    "print(d[1])"
   ]
  },
  {
   "cell_type": "code",
   "execution_count": 3,
   "metadata": {
    "collapsed": false
   },
   "outputs": [
    {
     "name": "stdout",
     "output_type": "stream",
     "text": [
      "{1: 'one', 2: 'two', 'three': 3, 'China': 'Beijing'}\n"
     ]
    }
   ],
   "source": [
    "# 添加key\n",
    "d['China']='Beijing'\n",
    "print(d)"
   ]
  },
  {
   "cell_type": "code",
   "execution_count": 4,
   "metadata": {
    "collapsed": false
   },
   "outputs": [
    {
     "name": "stdout",
     "output_type": "stream",
     "text": [
      "{1: 'one', 2: 'two'}\n"
     ]
    }
   ],
   "source": [
    "# 删除key\n",
    "d = {1 : 'one', 2 : 'two', 'three' : 3}\n",
    "del(d['three'])\n",
    "print(d)"
   ]
  },
  {
   "cell_type": "code",
   "execution_count": 5,
   "metadata": {
    "collapsed": false
   },
   "outputs": [
    {
     "name": "stdout",
     "output_type": "stream",
     "text": [
      "{1: 'one', 2: 'two', 'three': 3, '3': 3}\n",
      "{1: 'one', 2: 'two', 'three': 333, '3': 3}\n"
     ]
    }
   ],
   "source": [
    "# 修改value\n",
    "d = {1 : 'one', 2 : 'two', 'three' : 3}\n",
    "d['3'] = 3\n",
    "print (d)\n",
    "d['three'] = 333\n",
    "print (d)"
   ]
  },
  {
   "cell_type": "code",
   "execution_count": 6,
   "metadata": {
    "collapsed": false
   },
   "outputs": [
    {
     "name": "stdout",
     "output_type": "stream",
     "text": [
      "True\n",
      "True\n"
     ]
    }
   ],
   "source": [
    "# 判断key是否存在\n",
    "print(1 in d)\n",
    "print('three' in d) "
   ]
  },
  {
   "cell_type": "markdown",
   "metadata": {},
   "source": [
    "## 字典的遍历\n",
    "\n",
    "1. 遍历字典的键key  \n",
    "`for key in dictionaryName.keys(): print.(key)`\n",
    "2. 遍历字典的值value  \n",
    "`for value in dictionaryName.values(): print.(value)`\n",
    "3. 遍历字典的项  \n",
    "`for item in dicitonaryName.items(): print.(item)`\n",
    "4. 遍历字典的key-value  \n",
    "`for item，value in adict.items(): print(item, value)`"
   ]
  },
  {
   "cell_type": "code",
   "execution_count": 32,
   "metadata": {
    "collapsed": false
   },
   "outputs": [
    {
     "name": "stdout",
     "output_type": "stream",
     "text": [
      "1:one\n",
      "2:two\n",
      "three:333\n",
      "3:3\n",
      "--------------------------------------\n",
      "<type 'list'>\n",
      "[1, 2, 'three', '3']\n",
      "--------------------------------------\n",
      "1:one\n",
      "2:two\n",
      "three:333\n",
      "3:3\n"
     ]
    }
   ],
   "source": [
    "# 遍历key\n",
    "for key in d:\n",
    "    print '{0}:{1}'.format(key, d[key])\n",
    "\n",
    "print \"--------------------------------------\"\n",
    "    \n",
    "keys = d.keys()\n",
    "print type(keys)\n",
    "print keys\n",
    "\n",
    "print \"--------------------------------------\"\n",
    "\n",
    "for k, v in d.items():\n",
    "    print '{0}:{1}'.format(k, v)"
   ]
  },
  {
   "cell_type": "code",
   "execution_count": 34,
   "metadata": {
    "collapsed": false
   },
   "outputs": [
    {
     "name": "stdout",
     "output_type": "stream",
     "text": [
      "True\n",
      "True\n"
     ]
    }
   ],
   "source": []
  },
  {
   "cell_type": "markdown",
   "metadata": {},
   "source": [
    "# set集合\n",
    "没有重复元素的数组，能够自动去重"
   ]
  },
  {
   "cell_type": "code",
   "execution_count": 44,
   "metadata": {
    "collapsed": false
   },
   "outputs": [
    {
     "name": "stdout",
     "output_type": "stream",
     "text": [
      "set(['a', 1, 2, 3])\n",
      "set(['a', 1, 2, 3])\n"
     ]
    }
   ],
   "source": [
    "# 自动去重\n",
    "mySet = set([1, 2, 2, 3, 'a'])\n",
    "print mySet\n",
    "mySet = set((1, 2, 2, 3, 'a'))\n",
    "print mySet"
   ]
  },
  {
   "cell_type": "code",
   "execution_count": 109,
   "metadata": {
    "collapsed": false
   },
   "outputs": [
    {
     "name": "stdout",
     "output_type": "stream",
     "text": [
      "set(['a', 1, 2, 3, 11, 'China', 22])\n",
      "set(['a', 1, 2, 3, 11, 'China', 22])\n"
     ]
    }
   ],
   "source": [
    "# 添加元素\n",
    "mySet.add(\"China\") # 添加单个元素\n",
    "print mySet\n",
    "mySet.update([11, 22]) # 添加数组\n",
    "print mySet"
   ]
  },
  {
   "cell_type": "code",
   "execution_count": 115,
   "metadata": {
    "collapsed": false
   },
   "outputs": [
    {
     "name": "stdout",
     "output_type": "stream",
     "text": [
      "set([1, 3, 'China'])\n",
      "set([1, 3])\n"
     ]
    }
   ],
   "source": [
    "# 删除元素\n",
    "mySet = set([1, 2, 2, 3, 'China'])\n",
    "mySet.remove(2)\n",
    "print mySet\n",
    "mySet.remove('China')\n",
    "print mySet"
   ]
  },
  {
   "cell_type": "code",
   "execution_count": 42,
   "metadata": {
    "collapsed": false
   },
   "outputs": [
    {
     "name": "stdout",
     "output_type": "stream",
     "text": [
      "a\n",
      "1\n",
      "2\n",
      "3\n"
     ]
    }
   ],
   "source": [
    "# 遍历\n",
    "for i in mySet:\n",
    "    print i"
   ]
  },
  {
   "cell_type": "code",
   "execution_count": 41,
   "metadata": {
    "collapsed": false
   },
   "outputs": [
    {
     "name": "stdout",
     "output_type": "stream",
     "text": [
      "True\n",
      "True\n"
     ]
    }
   ],
   "source": [
    "# 判断元素是否存在\n",
    "print 1 in mySet\n",
    "print 5 not in mySet"
   ]
  },
  {
   "cell_type": "code",
   "execution_count": 106,
   "metadata": {
    "collapsed": false
   },
   "outputs": [
    {
     "name": "stdout",
     "output_type": "stream",
     "text": [
      "-------------------并集-------------------\n",
      "set([1, 2, 3, 4, 5])\n",
      "set([1, 2, 3, 4, 5])\n",
      "-------------------交集-------------------\n",
      "set([2, 3, 4])\n",
      "set([2, 3, 4])\n",
      "-------------------差集-------------------\n",
      "set([1])\n",
      "set([1])\n",
      "-------------------对称差-------------------\n",
      "set([1, 5])\n",
      "set([1, 5])\n"
     ]
    }
   ],
   "source": [
    "# 求并集和交集\n",
    "set0 = set([1, 2, 3, 4])\n",
    "set1 = set([2, 3, 4, 5])\n",
    "print \"-------------------并集-------------------\"\n",
    "print set0.union(set1)\n",
    "print set0 | set1\n",
    "print \"-------------------交集-------------------\"\n",
    "print set0.intersection(set1)\n",
    "print set0 & set1\n",
    "print \"-------------------差集-------------------\"\n",
    "print set0.difference(set1)\n",
    "print set0 - set1\n",
    "print \"-------------------对称差-------------------\"\n",
    "# (A | B) - (A & B)，去掉相同的部分\n",
    "print set0 ^ set1\n",
    "print set0.symmetric_difference(set1)"
   ]
  },
  {
   "cell_type": "markdown",
   "metadata": {},
   "source": [
    "# 切片"
   ]
  },
  {
   "cell_type": "code",
   "execution_count": 45,
   "metadata": {
    "collapsed": false
   },
   "outputs": [
    {
     "name": "stdout",
     "output_type": "stream",
     "text": [
      "[0, 1, 2, 3, 4, 5, 6, 7, 8, 9]\n",
      "--------------------------------------\n",
      "[0, 1, 2, 3, 4, 5, 6, 7, 8, 9]\n",
      "[2, 3, 4]\n",
      "[5, 6, 7, 8, 9]\n",
      "[0, 3, 6, 9]\n",
      "[9, 8, 7, 6, 5, 4, 3, 2, 1, 0]\n",
      "[0, 1, 2, 3, 4, 5, 6, 7, 8]\n",
      "[7, 8]\n",
      "[9, 8]\n",
      "--------------------------------------\n",
      "[0, 1, 2, 3, 4, 5, 6, 7, 8, 9]\n"
     ]
    }
   ],
   "source": [
    "lst = range(10)\n",
    "print lst\n",
    "print \"--------------------------------------\"\n",
    "#[start:end:step]\n",
    "# start缺省为0，end缺省为末尾，step缺省为1\n",
    "print lst[::]\n",
    "print lst[2:5]\n",
    "print lst[5:]\n",
    "print lst[0:10:3]\n",
    "print lst[::-1] # 快速反转\n",
    "print lst[:-1:]\n",
    "print lst[-3:-1]\n",
    "print lst[-1:-3:-1]\n",
    "print \"--------------------------------------\"\n",
    "print lst # 切片不会改变原数组"
   ]
  },
  {
   "cell_type": "markdown",
   "metadata": {},
   "source": [
    "# 列表推导\n",
    "\n",
    "Python 3.x支持dict和set的列表推导。"
   ]
  },
  {
   "cell_type": "code",
   "execution_count": 132,
   "metadata": {
    "collapsed": false
   },
   "outputs": [
    {
     "name": "stdout",
     "output_type": "stream",
     "text": [
      "[0, 0, 0, 0, 0, 0, 0, 0, 0, 0]\n"
     ]
    }
   ],
   "source": [
    "lst = [0] * 10\n",
    "print lst"
   ]
  },
  {
   "cell_type": "code",
   "execution_count": 134,
   "metadata": {
    "collapsed": false
   },
   "outputs": [
    {
     "name": "stdout",
     "output_type": "stream",
     "text": [
      "[0, 10, 20, 30, 40, 50, 60, 70, 80, 90]\n"
     ]
    }
   ],
   "source": [
    "lst = [i * 10 for i in range(10)]\n",
    "print lst"
   ]
  },
  {
   "cell_type": "code",
   "execution_count": 46,
   "metadata": {
    "collapsed": false
   },
   "outputs": [
    {
     "name": "stdout",
     "output_type": "stream",
     "text": [
      "[[0, 0, 0], [0, 0, 0], [0, 0, 0]]\n",
      "[[22, 0, 0], [22, 0, 0], [22, 0, 0]]\n",
      "--------------------------------------\n",
      "[[0, 0, 0], [0, 0, 0], [0, 0, 0]]\n",
      "[[22, 0, 0], [0, 0, 0], [0, 0, 0]]\n"
     ]
    }
   ],
   "source": [
    "# 注意有坑\n",
    "# 第一维的*3是复制\n",
    "# 第二维的*3是引用，即对第一行引用了三次，浅拷贝\n",
    "lst_2d = [ [0] * 3 ] * 3\n",
    "print lst_2d\n",
    "lst_2d[0][0] = 22\n",
    "print lst_2d # 坑\n",
    "\n",
    "print \"--------------------------------------\"\n",
    "\n",
    "# 填坑\n",
    "lst_2d = [ [0] * 3 for i in range(3)]\n",
    "print lst_2d\n",
    "lst_2d[0][0] = 22\n",
    "print lst_2d"
   ]
  },
  {
   "cell_type": "markdown",
   "metadata": {},
   "source": [
    "# 生成器\n",
    "\n",
    "> 用于解决惰性计算。用到时才计算，用不到就不计算\n",
    "\n",
    "问题的提出\n",
    "- 创建一个巨大的列表而仅仅需要访问其中少量几个元素\n",
    "- 如果列表元素可以按照某种算法推算出来，是否可以在循环的过程中不断推算出后续的元素？这样就不必创建完整的list，从而节省大量的空间。\n",
    "\n",
    "\n",
    "**构造生成器**：\n",
    "- 列表推导时用()替换[]\n",
    "- 使用yield\n",
    "\n",
    "**遍历**：\n",
    "- 使用next或者for循环\n"
   ]
  },
  {
   "cell_type": "code",
   "execution_count": 145,
   "metadata": {
    "collapsed": false
   },
   "outputs": [
    {
     "name": "stdout",
     "output_type": "stream",
     "text": [
      "0 1 4 9 16 25 36 49 64 81\n"
     ]
    }
   ],
   "source": [
    "# 平方表\n",
    "# 方法1：必须先计算0-10000的平方，需要大量耗时\n",
    "squareTable = []\n",
    "for i in range(10000):\n",
    "    squareTable.append(i ** 2)\n",
    "\n",
    "for i in range(10):\n",
    "    print squareTable[i],"
   ]
  },
  {
   "cell_type": "code",
   "execution_count": 47,
   "metadata": {
    "collapsed": false
   },
   "outputs": [
    {
     "name": "stdout",
     "output_type": "stream",
     "text": [
      "<type 'generator'>\n",
      "0 1 4 9 16 25 36 49 64 81\n"
     ]
    }
   ],
   "source": [
    "# 方法2：\n",
    "# 先定义一个生成器，无需耗费时间计算0-10000的平方\n",
    "squareTableGenerator = (x ** 2 for x in range(1000))\n",
    "print type(squareTableGenerator)\n",
    "\n",
    "# 调用时再计算\n",
    "for i in range(10):\n",
    "    print next(squareTableGenerator),"
   ]
  },
  {
   "cell_type": "code",
   "execution_count": 48,
   "metadata": {
    "collapsed": false
   },
   "outputs": [
    {
     "name": "stdout",
     "output_type": "stream",
     "text": [
      "<type 'generator'>\n",
      "1\n",
      "1\n",
      "2\n",
      "3\n",
      "5\n",
      "--------------------------------------\n",
      "1\n",
      "1\n",
      "2\n",
      "3\n",
      "5\n",
      "--------------------------------------\n"
     ]
    },
    {
     "name": "stderr",
     "output_type": "stream",
     "text": [
      "Traceback (most recent call last):\n",
      "  File \"<ipython-input-48-5692bab5785c>\", line 27, in <module>\n",
      "    print(next(f))\n",
      "StopIteration\n"
     ]
    }
   ],
   "source": [
    "def fib(limit):\n",
    "    n, a, b = 0, 0, 1\n",
    "    while n < limit:\n",
    "        yield b\n",
    "        a, b = b, a + b\n",
    "        n += 1\n",
    "\n",
    "import traceback\n",
    "f = fib(5)\n",
    "\n",
    "print(type(f))\n",
    "\n",
    "print(next(f))\n",
    "print(next(f))\n",
    "print(next(f))\n",
    "print(next(f))\n",
    "print(next(f))\n",
    "\n",
    "print \"--------------------------------------\"\n",
    "\n",
    "for i in fib(5):\n",
    "    print(i)\n",
    "\n",
    "print \"--------------------------------------\"  \n",
    "\n",
    "try:\n",
    "    print(next(f))\n",
    "except StopIteration:\n",
    "    traceback.print_exc()\n",
    "    \n"
   ]
  },
  {
   "cell_type": "markdown",
   "metadata": {},
   "source": [
    "# 迭代器\n",
    "\n",
    "- 可以直接作用于for循环的对象统称为**可迭代对象**Iterable\n",
    "- 可以被`next()`函数调用并不断返回下一个值的对象称为**迭代器**Iterator\n",
    "\n",
    "集合数据类型如list、dict、str等是Iterable但不是Iterator，不过可以通过`iter()`函数获得一个Iterator对象。\n"
   ]
  },
  {
   "cell_type": "code",
   "execution_count": 163,
   "metadata": {
    "collapsed": false
   },
   "outputs": [
    {
     "name": "stdout",
     "output_type": "stream",
     "text": [
      "True\n",
      "True\n",
      "False\n",
      "True\n",
      "<type 'generator'>\n",
      "True\n",
      "0 1 2 3 4 5 6 7 8 9\n"
     ]
    }
   ],
   "source": [
    "from collections import Iterable\n",
    "from collections import Iterator\n",
    "\n",
    "# 判断是不是可迭代\n",
    "# 可迭代的都可以用for来循环\n",
    "print isinstance([], Iterable)\n",
    "print isinstance({}, Iterable)\n",
    "print isinstance(123, Iterable)\n",
    "print isinstance('', Iterable)\n",
    "\n",
    "g = (x for x in range(10))\n",
    "print type(g)\n",
    "print isinstance(g, Iterable)\n",
    "for i in g:\n",
    "    print i,"
   ]
  },
  {
   "cell_type": "code",
   "execution_count": 166,
   "metadata": {
    "collapsed": false
   },
   "outputs": [
    {
     "name": "stdout",
     "output_type": "stream",
     "text": [
      "False\n",
      "True\n"
     ]
    }
   ],
   "source": [
    "# 判断是不是迭代器\n",
    "print isinstance([], Iterator)\n",
    "\n",
    "# 生成器也是迭代器\n",
    "g = (x for x in range(10))\n",
    "print isinstance(g, Iterator)"
   ]
  }
 ],
 "metadata": {
  "anaconda-cloud": {},
  "kernelspec": {
   "display_name": "Python 3",
   "language": "python",
   "name": "python3"
  },
  "language_info": {
   "codemirror_mode": {
    "name": "ipython",
    "version": 3
   },
   "file_extension": ".py",
   "mimetype": "text/x-python",
   "name": "python",
   "nbconvert_exporter": "python",
   "pygments_lexer": "ipython3",
   "version": "3.6.0"
  },
  "toc": {
   "colors": {
    "hover_highlight": "#DAA520",
    "running_highlight": "#FF0000",
    "selected_highlight": "#FFD700"
   },
   "moveMenuLeft": true,
   "nav_menu": {
    "height": "159px",
    "width": "252px"
   },
   "navigate_menu": true,
   "number_sections": true,
   "sideBar": true,
   "threshold": 4,
   "toc_cell": false,
   "toc_section_display": "block",
   "toc_window_display": true
  }
 },
 "nbformat": 4,
 "nbformat_minor": 1
}

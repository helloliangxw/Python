{
 "cells": [
  {
   "cell_type": "markdown",
   "metadata": {},
   "source": [
    "---\n",
    "title: Python-基础-容器\n",
    "date: 2017-04-19 17:12:00\n",
    "mathjax: true\n",
    "categories: \"Python-基础\"\n",
    "---   "
   ]
  },
  {
   "cell_type": "markdown",
   "metadata": {},
   "source": [
    "# 元组"
   ]
  },
  {
   "cell_type": "markdown",
   "metadata": {},
   "source": [
    "元组之间的元素用逗号隔开："
   ]
  },
  {
   "cell_type": "code",
   "execution_count": 1,
   "metadata": {
    "collapsed": true
   },
   "outputs": [],
   "source": [
    "t1 = 123, 456, \"hello\"\n",
    "# 空元组\n",
    "t2 = ()\n",
    "# 单元素元组\n",
    "t3 = 123,\n",
    "# 包含元组的元组ASZ\n",
    "t4 = 123, (456, \"hello\")"
   ]
  },
  {
   "cell_type": "markdown",
   "metadata": {},
   "source": [
    "特点：\n",
    "1. 元素类型任意\n",
    "2. 支持索引访问\n",
    "3. 元素不可修改\n",
    "\n",
    "元组不可变的意义?**代码更加安全！**"
   ]
  },
  {
   "cell_type": "markdown",
   "metadata": {},
   "source": [
    "# 列表"
   ]
  },
  {
   "cell_type": "markdown",
   "metadata": {},
   "source": [
    "特点：\n",
    "1. 元素类型任意\n",
    "2. 支持索引访问\n",
    "3. 元素可以修改\n",
    "\n",
    "与元组的不同之处就是：**元组元素不可修改，而列表元素可以修改！**"
   ]
  },
  {
   "cell_type": "markdown",
   "metadata": {},
   "source": [
    "## 常用方法\n",
    "\n",
    "|方法|说明|\n",
    "|:---:|:---:|\n",
    "|append(x)|列表末尾增加元素x|\n",
    "|insert(i, x)|在位置i前添加元素x|\n",
    "|sort()|排序|\n",
    "|count(x)|列表中x的个数|\n",
    "|reverse()|列表反转|\n",
    "|remove(x)|删除列表中第一次出现的元素x|\n",
    "|index(x)|列表中第一次出现x的位置|\n",
    "|pop(i)|取出位置i的元素，并删除这个元素|"
   ]
  },
  {
   "cell_type": "code",
   "execution_count": null,
   "metadata": {
    "collapsed": true
   },
   "outputs": [],
   "source": []
  },
  {
   "cell_type": "code",
   "execution_count": null,
   "metadata": {
    "collapsed": true
   },
   "outputs": [],
   "source": []
  }
 ],
 "metadata": {
  "kernelspec": {
   "display_name": "Python 3",
   "language": "python",
   "name": "python3"
  },
  "language_info": {
   "codemirror_mode": {
    "name": "ipython",
    "version": 3
   },
   "file_extension": ".py",
   "mimetype": "text/x-python",
   "name": "python",
   "nbconvert_exporter": "python",
   "pygments_lexer": "ipython3",
   "version": "3.6.0"
  },
  "toc": {
   "colors": {
    "hover_highlight": "#DAA520",
    "running_highlight": "#FF0000",
    "selected_highlight": "#FFD700"
   },
   "moveMenuLeft": true,
   "nav_menu": {
    "height": "66px",
    "width": "252px"
   },
   "navigate_menu": true,
   "number_sections": true,
   "sideBar": true,
   "threshold": 4,
   "toc_cell": false,
   "toc_section_display": "block",
   "toc_window_display": true
  }
 },
 "nbformat": 4,
 "nbformat_minor": 2
}

{
 "cells": [
  {
   "cell_type": "markdown",
   "metadata": {},
   "source": [
    "---\n",
    "title: Numpy入门\n",
    "date: 2017-04-17 10:10:00\n",
    "mathjax: true\n",
    "categories: \"Python第三方库\"\n",
    "tags:\n",
    "    - Numpy\n",
    "---"
   ]
  },
  {
   "cell_type": "markdown",
   "metadata": {},
   "source": [
    "# N维数组对象ndarray"
   ]
  },
  {
   "cell_type": "markdown",
   "metadata": {},
   "source": [
    "## ndarray对象的属性\n",
    "\n",
    "属性 | 说明\n",
    ":---:|:---:\n",
    ".ndim | 维度的数量\n",
    ".shape | ndarray对象的尺度，对于矩阵，n行m列\n",
    ".size | ndarray对象元素的个数，相当于.shape中n\\*m的值\n",
    ".dtype | ndarray对象的元素类型\n",
    ".itemsize | ndarray对象中每个元素的大小，以字节为单位"
   ]
  },
  {
   "cell_type": "code",
   "execution_count": 8,
   "metadata": {
    "collapsed": false
   },
   "outputs": [
    {
     "name": "stdout",
     "output_type": "stream",
     "text": [
      "[[1 2 3]\n",
      " [4 5 6]]\n",
      "2 (2, 3) 6 int32 4\n"
     ]
    }
   ],
   "source": [
    "import numpy as np\n",
    "\n",
    "a = np.array([ [1, 2, 3], [4, 5, 6] ] )\n",
    "print(a)\n",
    "print(a.ndim, a.shape, a.size, a.dtype, a.itemsize)"
   ]
  },
  {
   "cell_type": "markdown",
   "metadata": {},
   "source": [
    "## 元素类型\n",
    "\n",
    "数据类型 | 说明\n",
    ":---:|:---:\n",
    "bool | 布尔类型，True或False\n",
    "intc | 与C语言中的int类型一致，一般是int32或int64\n",
    "intp | 用于索引的整数，与C语言中ssize_t一致，int32或int64\n",
    "int8 | 字节长度的整数，取值：[‐128, 127]\n",
    "int16 | 16位长度的整数，取值：[‐32768, 32767]\n",
    "int32 | 32位长度的整数，取值：[‐2 31 , 2 31 ‐1]\n",
    "int64 | 64位长度的整数，取值：[‐2 63 , 2 63 ‐1]\n",
    "uint8 | 8位无符号整数，取值：[0, 255]\n",
    "uint16 | 16位无符号整数，取值：[0, 65535]\n",
    "uint32 | 32位无符号整数，取值：[0, 2 32 ‐1]\n",
    "uint64 | 32位无符号整数，取值：[0, 2 64 ‐1]\n",
    "float16 | 16位半精度浮点数：1位符号位，5位指数，10位尾数，**(符号)尾数 \\\\(*10^{指数}\\\\)**\n",
    "float32 | 32位半精度浮点数：1位符号位，8位指数，23位尾数\n",
    "float64 | 64位半精度浮点数：1位符号位，11位指数，52位尾数\n",
    "complex64 | 复数类型，实部和虚部都是32位浮点数\n",
    "complex128 | 复数类型，实部和虚部都是64位浮点数\n",
    "\n",
    "**ndarray为什么要支持这么多种元素类型？**  \n",
    "\n",
    "- 科学计算涉及数据较多，对**存储和性能**都有较高要求\n",
    "- 对元素类型精细定义，有助于NumPy**合理使用存储空间并优化性能**\n",
    "- 对元素类型精细定义，有助于程序员对程序规模进行**合理评估**"
   ]
  },
  {
   "cell_type": "markdown",
   "metadata": {},
   "source": [
    "# ndarray的创建"
   ]
  },
  {
   "cell_type": "markdown",
   "metadata": {},
   "source": [
    "## 通过列表、元组等创建"
   ]
  },
  {
   "cell_type": "code",
   "execution_count": 13,
   "metadata": {
    "collapsed": false
   },
   "outputs": [
    {
     "name": "stdout",
     "output_type": "stream",
     "text": [
      "[1 2 3] int32\n",
      "[[1 2]\n",
      " [3 4]] int32\n",
      "[ 20.  21.] float64\n"
     ]
    }
   ],
   "source": [
    "a = np.array([1, 2, 3])\n",
    "# 列表和元组可以共同使用，只需要元素个数相同\n",
    "b = np.array([ [1, 2], (3, 4) ])\n",
    "c = np.array([20, 21], dtype = np.float)\n",
    "print(a, a.dtype)\n",
    "print(b, b.dtype)\n",
    "print(c, c.dtype)"
   ]
  },
  {
   "cell_type": "markdown",
   "metadata": {},
   "source": [
    "当np.array()不指定dtype时，NumPy将根据数据情况关联一个dtype类型。"
   ]
  },
  {
   "cell_type": "markdown",
   "metadata": {},
   "source": [
    "## 通过NumPy函数创建\n",
    "\n",
    "函数 | 说明\n",
    ":---:|:---:\n",
    "np.arange(n) | 类似range()函数，返回ndarray类型，元素从0到n‐1\n",
    "np.ones(shape) | 根据shape生成一个全1数组，shape是元组类型\n",
    "np.zeros(shape) | 根据shape生成一个全0数组，shape是元组类型\n",
    "np.full(shape,val) | 根据shape生成一个数组，每个元素值都是val\n",
    "np.eye(n) | 创建一个正方的n*n单位矩阵，对角线为1，其余为0"
   ]
  },
  {
   "cell_type": "code",
   "execution_count": 14,
   "metadata": {
    "collapsed": false
   },
   "outputs": [
    {
     "name": "stdout",
     "output_type": "stream",
     "text": [
      "[ 0  1  2  3  4  5  6  7  8  9 10 11]\n"
     ]
    }
   ],
   "source": [
    "a = np.arange(12)\n",
    "print(a)"
   ]
  },
  {
   "cell_type": "code",
   "execution_count": 16,
   "metadata": {
    "collapsed": false
   },
   "outputs": [
    {
     "name": "stdout",
     "output_type": "stream",
     "text": [
      "[[ 1.  1.  1.]\n",
      " [ 1.  1.  1.]]\n"
     ]
    }
   ],
   "source": [
    "a = np.ones((2, 3))\n",
    "print(a)"
   ]
  },
  {
   "cell_type": "code",
   "execution_count": 17,
   "metadata": {
    "collapsed": false
   },
   "outputs": [
    {
     "name": "stdout",
     "output_type": "stream",
     "text": [
      "[[ 0.  0.  0.]\n",
      " [ 0.  0.  0.]]\n"
     ]
    }
   ],
   "source": [
    "a = np.zeros((2, 3))\n",
    "print(a)"
   ]
  },
  {
   "cell_type": "code",
   "execution_count": 20,
   "metadata": {
    "collapsed": false
   },
   "outputs": [
    {
     "name": "stdout",
     "output_type": "stream",
     "text": [
      "[[ 21.  21.  21.]\n",
      " [ 21.  21.  21.]]\n"
     ]
    }
   ],
   "source": [
    "a = np.full((2, 3), 21, dtype = np.float)\n",
    "print(a)"
   ]
  },
  {
   "cell_type": "code",
   "execution_count": 22,
   "metadata": {
    "collapsed": false
   },
   "outputs": [
    {
     "name": "stdout",
     "output_type": "stream",
     "text": [
      "[[ 1.  0.  0.  0.]\n",
      " [ 0.  1.  0.  0.]\n",
      " [ 0.  0.  1.  0.]\n",
      " [ 0.  0.  0.  1.]]\n"
     ]
    }
   ],
   "source": [
    "a = np.eye(4)\n",
    "print(a)"
   ]
  },
  {
   "cell_type": "markdown",
   "metadata": {},
   "source": [
    "函数 | 说明\n",
    ":---:|:---:\n",
    "np.linspace(start, end, n) | 根据起止数据等间距地填充数据，形成长度为n的数组\n",
    "np.concatenate((a, b)) | 将两个或多个数组合并成一个新的数组"
   ]
  },
  {
   "cell_type": "code",
   "execution_count": 41,
   "metadata": {
    "collapsed": false
   },
   "outputs": [
    {
     "name": "stdout",
     "output_type": "stream",
     "text": [
      "[  1.   4.   7.  10.]\n"
     ]
    }
   ],
   "source": [
    "# 每个元素之间的间距为(end-start)/(n-1)\n",
    "a = np.linspace(1, 10, 4)\n",
    "print(a)"
   ]
  },
  {
   "cell_type": "code",
   "execution_count": 91,
   "metadata": {
    "collapsed": false
   },
   "outputs": [
    {
     "name": "stdout",
     "output_type": "stream",
     "text": [
      "[ 1.    3.25  5.5   7.75]\n"
     ]
    }
   ],
   "source": [
    "# endpoint为False时，表示end不在最后生成的数组中\n",
    "# 每个元素之间的间距为(end-start)/n\n",
    "b = np.linspace(1, 10, 4, endpoint = False)\n",
    "print(b)"
   ]
  },
  {
   "cell_type": "code",
   "execution_count": 43,
   "metadata": {
    "collapsed": false
   },
   "outputs": [
    {
     "name": "stdout",
     "output_type": "stream",
     "text": [
      "[  1.     4.     7.    10.     1.     2.75   4.5    6.25]\n"
     ]
    }
   ],
   "source": [
    "c = np.concatenate((a, b))\n",
    "print(c)"
   ]
  },
  {
   "cell_type": "markdown",
   "metadata": {},
   "source": [
    "函数 | 说明\n",
    ":---:|:---:\n",
    "np.ones_like(a) | 根据数组a的形状生成一个全1数组\n",
    "np.zeros_like(a) | 根据数组a的形状生成一个全0数组\n",
    "np.full_like(a,val) | 根据数组a的形状生成一个数组，每个元素值都是val"
   ]
  },
  {
   "cell_type": "code",
   "execution_count": 29,
   "metadata": {
    "collapsed": false
   },
   "outputs": [
    {
     "name": "stdout",
     "output_type": "stream",
     "text": [
      "(4, 4)\n"
     ]
    }
   ],
   "source": [
    "a = np.ones((4, 4))\n",
    "print(a.shape)"
   ]
  },
  {
   "cell_type": "code",
   "execution_count": 26,
   "metadata": {
    "collapsed": false
   },
   "outputs": [
    {
     "name": "stdout",
     "output_type": "stream",
     "text": [
      "[[ 1.  1.  1.  1.]\n",
      " [ 1.  1.  1.  1.]\n",
      " [ 1.  1.  1.  1.]\n",
      " [ 1.  1.  1.  1.]]\n"
     ]
    }
   ],
   "source": [
    "b = np.ones_like(a)\n",
    "print(b)"
   ]
  },
  {
   "cell_type": "code",
   "execution_count": 27,
   "metadata": {
    "collapsed": false
   },
   "outputs": [
    {
     "name": "stdout",
     "output_type": "stream",
     "text": [
      "[[ 0.  0.  0.  0.]\n",
      " [ 0.  0.  0.  0.]\n",
      " [ 0.  0.  0.  0.]\n",
      " [ 0.  0.  0.  0.]]\n"
     ]
    }
   ],
   "source": [
    "b = np.zeros_like(a)\n",
    "print(b)"
   ]
  },
  {
   "cell_type": "code",
   "execution_count": 28,
   "metadata": {
    "collapsed": false
   },
   "outputs": [
    {
     "name": "stdout",
     "output_type": "stream",
     "text": [
      "[[ 6.  6.  6.  6.]\n",
      " [ 6.  6.  6.  6.]\n",
      " [ 6.  6.  6.  6.]\n",
      " [ 6.  6.  6.  6.]]\n"
     ]
    }
   ],
   "source": [
    "b = np.full_like(a, 6)\n",
    "print(b)"
   ]
  },
  {
   "cell_type": "markdown",
   "metadata": {},
   "source": [
    "# ndarray数组的变换"
   ]
  },
  {
   "cell_type": "markdown",
   "metadata": {},
   "source": [
    "## 维度变换"
   ]
  },
  {
   "cell_type": "markdown",
   "metadata": {},
   "source": [
    "方法 | 说明\n",
    ":---:|:---:\n",
    ".reshape(shape) | 不改变数组元素，返回一个shape形状的数组，**原数组不变**\n",
    ".resize(shape) | 与.reshape()功能一致，但**修改原数组**\n",
    ".swapaxes(ax1,ax2) | 将数组n个维度中两个维度进行调换\n",
    ".flatten() | 对数组进行降维，返回折叠后的一维数组，原数组不变"
   ]
  },
  {
   "cell_type": "code",
   "execution_count": 65,
   "metadata": {
    "collapsed": false
   },
   "outputs": [
    {
     "name": "stdout",
     "output_type": "stream",
     "text": [
      "[[[1 1 1 1]\n",
      "  [2 2 2 2]\n",
      "  [3 3 3 3]]\n",
      "\n",
      " [[4 4 4 4]\n",
      "  [5 5 5 5]\n",
      "  [6 6 6 6]]]\n"
     ]
    }
   ],
   "source": [
    "# 三维数组，为层*行*列\n",
    "a = np.array([ \n",
    "                [[1, 1, 1, 1], [2, 2, 2, 2], [3, 3, 3, 3]],\n",
    "                [[4, 4, 4, 4], [5, 5, 5, 5], [6, 6, 6, 6]] \n",
    "             ], dtype = np.int32)\n",
    "print(a)"
   ]
  },
  {
   "cell_type": "code",
   "execution_count": 66,
   "metadata": {
    "collapsed": false
   },
   "outputs": [
    {
     "name": "stdout",
     "output_type": "stream",
     "text": [
      "[[1 1 1 1 2 2 2 2]\n",
      " [3 3 3 3 4 4 4 4]\n",
      " [5 5 5 5 6 6 6 6]]\n",
      "[[[1 1 1 1]\n",
      "  [2 2 2 2]\n",
      "  [3 3 3 3]]\n",
      "\n",
      " [[4 4 4 4]\n",
      "  [5 5 5 5]\n",
      "  [6 6 6 6]]]\n"
     ]
    }
   ],
   "source": [
    "b = a.reshape((3, 8))\n",
    "print(b)\n",
    "print(a)"
   ]
  },
  {
   "cell_type": "code",
   "execution_count": 78,
   "metadata": {
    "collapsed": false
   },
   "outputs": [
    {
     "name": "stdout",
     "output_type": "stream",
     "text": [
      "[[1 1 1 1 2 2 2 2]\n",
      " [3 3 3 3 4 4 4 4]\n",
      " [5 5 5 5 6 6 6 6]]\n",
      "[[1 1 1 1 2 2]\n",
      " [2 2 3 3 3 3]\n",
      " [4 4 4 4 5 5]\n",
      " [5 5 6 6 6 6]]\n"
     ]
    }
   ],
   "source": [
    "# 修改原数组\n",
    "a.resize((3, 8))\n",
    "print(a)\n",
    "a.shape = (4, 6)\n",
    "print(a)"
   ]
  },
  {
   "cell_type": "code",
   "execution_count": 68,
   "metadata": {
    "collapsed": false
   },
   "outputs": [
    {
     "name": "stdout",
     "output_type": "stream",
     "text": [
      "[1 1 1 1 2 2 2 2 3 3 3 3 4 4 4 4 5 5 5 5 6 6 6 6]\n"
     ]
    }
   ],
   "source": [
    "b = a.flatten()\n",
    "print(b)"
   ]
  },
  {
   "cell_type": "markdown",
   "metadata": {},
   "source": [
    "## 元素类型变换"
   ]
  },
  {
   "cell_type": "code",
   "execution_count": 72,
   "metadata": {
    "collapsed": false
   },
   "outputs": [
    {
     "name": "stdout",
     "output_type": "stream",
     "text": [
      "int32\n"
     ]
    }
   ],
   "source": [
    "print(a.dtype)"
   ]
  },
  {
   "cell_type": "code",
   "execution_count": 70,
   "metadata": {
    "collapsed": false
   },
   "outputs": [
    {
     "name": "stdout",
     "output_type": "stream",
     "text": [
      "[[ 1.  1.  1.  1.  2.  2.  2.  2.]\n",
      " [ 3.  3.  3.  3.  4.  4.  4.  4.]\n",
      " [ 5.  5.  5.  5.  6.  6.  6.  6.]]\n",
      "float64\n"
     ]
    }
   ],
   "source": [
    "# astype()方法一定会创建新的数组（原始数据的一个拷贝），即使两个类型一致\n",
    "b = a.astype(np.float)\n",
    "print(b)\n",
    "print(b.dtype)"
   ]
  },
  {
   "cell_type": "markdown",
   "metadata": {},
   "source": [
    "## 向列表的转换"
   ]
  },
  {
   "cell_type": "code",
   "execution_count": 73,
   "metadata": {
    "collapsed": false
   },
   "outputs": [
    {
     "name": "stdout",
     "output_type": "stream",
     "text": [
      "[[1 1 1 1 2 2 2 2]\n",
      " [3 3 3 3 4 4 4 4]\n",
      " [5 5 5 5 6 6 6 6]]\n"
     ]
    }
   ],
   "source": [
    "print(a)"
   ]
  },
  {
   "cell_type": "code",
   "execution_count": 75,
   "metadata": {
    "collapsed": false
   },
   "outputs": [
    {
     "name": "stdout",
     "output_type": "stream",
     "text": [
      "[[1, 1, 1, 1, 2, 2, 2, 2], [3, 3, 3, 3, 4, 4, 4, 4], [5, 5, 5, 5, 6, 6, 6, 6]]\n",
      "<class 'numpy.ndarray'>\n"
     ]
    }
   ],
   "source": [
    "print(a.tolist())\n",
    "print(type(a))"
   ]
  },
  {
   "cell_type": "markdown",
   "metadata": {},
   "source": [
    "# ndarray数组的索引与切片"
   ]
  },
  {
   "cell_type": "markdown",
   "metadata": {},
   "source": [
    "- 索引  \n",
    "获取数组中**特定位置**元素的过程\n",
    "- 切片  \n",
    "获取数组元素**子集**的过程"
   ]
  },
  {
   "cell_type": "markdown",
   "metadata": {},
   "source": [
    "## 一维数组"
   ]
  },
  {
   "cell_type": "code",
   "execution_count": 116,
   "metadata": {
    "collapsed": false
   },
   "outputs": [
    {
     "name": "stdout",
     "output_type": "stream",
     "text": [
      "[  0.   3.   6.   9.  12.  15.  18.  21.  24.  27.  30.  33.  36.  39.  42.\n",
      "  45.  48.  51.]\n"
     ]
    }
   ],
   "source": [
    "a = np.linspace(0, 51, 18)\n",
    "print(a)"
   ]
  },
  {
   "cell_type": "code",
   "execution_count": 117,
   "metadata": {
    "collapsed": false
   },
   "outputs": [
    {
     "name": "stdout",
     "output_type": "stream",
     "text": [
      "6.0\n",
      "48.0\n"
     ]
    }
   ],
   "source": [
    "print(a[2])\n",
    "print(a[-2])"
   ]
  },
  {
   "cell_type": "code",
   "execution_count": 118,
   "metadata": {
    "collapsed": false
   },
   "outputs": [
    {
     "name": "stdout",
     "output_type": "stream",
     "text": [
      "[  0.   6.  12.]\n",
      "[ 30.  24.  18.  12.]\n",
      "[  0.   9.  18.  27.  36.  45.]\n"
     ]
    }
   ],
   "source": [
    "# 起始编号:终止编号(不含):步长\n",
    "print(a[0:6:2])\n",
    "print(a[10:2:-2])\n",
    "print(a[::3])"
   ]
  },
  {
   "cell_type": "markdown",
   "metadata": {},
   "source": [
    "## 多维数组"
   ]
  },
  {
   "cell_type": "code",
   "execution_count": 120,
   "metadata": {
    "collapsed": false
   },
   "outputs": [
    {
     "name": "stdout",
     "output_type": "stream",
     "text": [
      "[[[ 0  1  2  3]\n",
      "  [ 4  5  6  7]\n",
      "  [ 8  9 10 11]]\n",
      "\n",
      " [[12 13 14 15]\n",
      "  [16 17 18 19]\n",
      "  [20 21 22 23]]]\n"
     ]
    }
   ],
   "source": [
    "a = np.arange(24).reshape((2, 3, 4))\n",
    "print(a)"
   ]
  },
  {
   "cell_type": "code",
   "execution_count": 109,
   "metadata": {
    "collapsed": false
   },
   "outputs": [
    {
     "name": "stdout",
     "output_type": "stream",
     "text": [
      "23\n",
      "9\n"
     ]
    }
   ],
   "source": [
    "print(a[1, 2, 3])\n",
    "print(a[-2, 2, -3])"
   ]
  },
  {
   "cell_type": "code",
   "execution_count": 110,
   "metadata": {
    "collapsed": false
   },
   "outputs": [
    {
     "name": "stdout",
     "output_type": "stream",
     "text": [
      "[ 7 19]\n"
     ]
    }
   ],
   "source": [
    "print(a[:, 1, 3])"
   ]
  },
  {
   "cell_type": "code",
   "execution_count": 113,
   "metadata": {
    "collapsed": false
   },
   "outputs": [
    {
     "name": "stdout",
     "output_type": "stream",
     "text": [
      "[[ 7 11]\n",
      " [19 23]]\n"
     ]
    }
   ],
   "source": [
    "print(a[:, 1:3, 3])"
   ]
  },
  {
   "cell_type": "code",
   "execution_count": 114,
   "metadata": {
    "collapsed": false
   },
   "outputs": [
    {
     "name": "stdout",
     "output_type": "stream",
     "text": [
      "[[[ 4  5  6  7]\n",
      "  [ 8  9 10 11]]\n",
      "\n",
      " [[16 17 18 19]\n",
      "  [20 21 22 23]]]\n"
     ]
    }
   ],
   "source": [
    "print(a[:, 1:3, :])"
   ]
  },
  {
   "cell_type": "code",
   "execution_count": 121,
   "metadata": {
    "collapsed": false
   },
   "outputs": [
    {
     "name": "stdout",
     "output_type": "stream",
     "text": [
      "[[[ 0  2]\n",
      "  [ 4  6]\n",
      "  [ 8 10]]\n",
      "\n",
      " [[12 14]\n",
      "  [16 18]\n",
      "  [20 22]]]\n"
     ]
    }
   ],
   "source": [
    "print(a[:, :, ::2])"
   ]
  },
  {
   "cell_type": "markdown",
   "metadata": {},
   "source": [
    "# ndarray数组的运算"
   ]
  },
  {
   "cell_type": "code",
   "execution_count": null,
   "metadata": {
    "collapsed": true
   },
   "outputs": [],
   "source": []
  },
  {
   "cell_type": "code",
   "execution_count": null,
   "metadata": {
    "collapsed": true
   },
   "outputs": [],
   "source": []
  },
  {
   "cell_type": "code",
   "execution_count": null,
   "metadata": {
    "collapsed": true
   },
   "outputs": [],
   "source": []
  },
  {
   "cell_type": "code",
   "execution_count": null,
   "metadata": {
    "collapsed": true
   },
   "outputs": [],
   "source": []
  },
  {
   "cell_type": "code",
   "execution_count": null,
   "metadata": {
    "collapsed": true
   },
   "outputs": [],
   "source": []
  },
  {
   "cell_type": "code",
   "execution_count": null,
   "metadata": {
    "collapsed": true
   },
   "outputs": [],
   "source": []
  },
  {
   "cell_type": "code",
   "execution_count": null,
   "metadata": {
    "collapsed": true
   },
   "outputs": [],
   "source": [
    "%timeit a.argmax()"
   ]
  },
  {
   "cell_type": "code",
   "execution_count": null,
   "metadata": {
    "collapsed": true
   },
   "outputs": [],
   "source": [
    "import numpy as np\n",
    "\n",
    "a = np.random.random((3, 5))\n",
    "print(a)\n",
    "\n",
    "a.argmax()"
   ]
  }
 ],
 "metadata": {
  "kernelspec": {
   "display_name": "Python 3",
   "language": "python",
   "name": "python3"
  },
  "language_info": {
   "codemirror_mode": {
    "name": "ipython",
    "version": 3
   },
   "file_extension": ".py",
   "mimetype": "text/x-python",
   "name": "python",
   "nbconvert_exporter": "python",
   "pygments_lexer": "ipython3",
   "version": "3.6.0"
  },
  "toc": {
   "colors": {
    "hover_highlight": "#DAA520",
    "running_highlight": "#FF0000",
    "selected_highlight": "#FFD700"
   },
   "moveMenuLeft": true,
   "nav_menu": {
    "height": "12px",
    "width": "252px"
   },
   "navigate_menu": true,
   "number_sections": true,
   "sideBar": true,
   "threshold": 4,
   "toc_cell": false,
   "toc_section_display": "block",
   "toc_window_display": true
  }
 },
 "nbformat": 4,
 "nbformat_minor": 2
}

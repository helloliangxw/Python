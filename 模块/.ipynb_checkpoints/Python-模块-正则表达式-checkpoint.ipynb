{
 "cells": [
  {
   "cell_type": "markdown",
   "metadata": {},
   "source": [
    "---\n",
    "title: Python-模块-正则表达式\n",
    "date: 2017-04-20 09:21:00\n",
    "mathjax: true\n",
    "categories: \"Python-模块\"\n",
    "---"
   ]
  },
  {
   "cell_type": "markdown",
   "metadata": {},
   "source": [
    "# 常用字符和语法"
   ]
  },
  {
   "cell_type": "markdown",
   "metadata": {},
   "source": [
    "下图列出了Python支持的正则表达式元字符和语法：   \n",
    "![Python支持的正则表达式元字符和语法](http://static.zybuluo.com/liangxw/i3duvnmm6908ptvm2unm7h1s/pyre_ebb9ce1c-e5e8-4219-a8ae-7ee620d5f9f1.png)"
   ]
  },
  {
   "cell_type": "markdown",
   "metadata": {},
   "source": [
    "# 分组"
   ]
  },
  {
   "cell_type": "code",
   "execution_count": 14,
   "metadata": {
    "collapsed": false
   },
   "outputs": [
    {
     "name": "stdout",
     "output_type": "stream",
     "text": [
      "Doe, John: 555-1212\n",
      "Doe\n",
      "John\n",
      "555-1212\n"
     ]
    }
   ],
   "source": [
    "import re\n",
    "contactInfo = 'Doe, John: 555-1212'\n",
    "m = re.search(r'(\\w+), (\\w+): (\\S+)', contactInfo)\n",
    "\n",
    "for i in range(4):\n",
    "    print (m.group(i))"
   ]
  }
 ],
 "metadata": {
  "kernelspec": {
   "display_name": "Python 3",
   "language": "python",
   "name": "python3"
  },
  "language_info": {
   "codemirror_mode": {
    "name": "ipython",
    "version": 3
   },
   "file_extension": ".py",
   "mimetype": "text/x-python",
   "name": "python",
   "nbconvert_exporter": "python",
   "pygments_lexer": "ipython3",
   "version": "3.6.0"
  },
  "toc": {
   "colors": {
    "hover_highlight": "#DAA520",
    "running_highlight": "#FF0000",
    "selected_highlight": "#FFD700"
   },
   "moveMenuLeft": true,
   "nav_menu": {
    "height": "84px",
    "width": "252px"
   },
   "navigate_menu": true,
   "number_sections": true,
   "sideBar": true,
   "threshold": 4,
   "toc_cell": false,
   "toc_section_display": "block",
   "toc_window_display": true
  }
 },
 "nbformat": 4,
 "nbformat_minor": 1
}

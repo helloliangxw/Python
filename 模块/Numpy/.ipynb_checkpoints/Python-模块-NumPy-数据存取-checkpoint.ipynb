{
 "cells": [
  {
   "cell_type": "markdown",
   "metadata": {
    "collapsed": true
   },
   "source": [
    "---\n",
    "title: Python-模块-NumPy-数据存取\n",
    "date: 2017-04-17 20:07:00\n",
    "mathjax: true\n",
    "categories: \"Python-模块\"\n",
    "---"
   ]
  },
  {
   "cell_type": "markdown",
   "metadata": {},
   "source": [
    "# 一维和二维数据的存取"
   ]
  },
  {
   "cell_type": "markdown",
   "metadata": {
    "collapsed": true
   },
   "source": [
    "## 保存\n",
    "\n",
    "```python\n",
    "np.savetxt(fname, array, fmt='%.18e', delimiter=None)\n",
    "```\n",
    "\n",
    "- fname  \n",
    "文件、字符串或产生器，可以是.gz或.bz2的压缩文件\n",
    "- array  \n",
    "存入文件的数组\n",
    "- fmt  \n",
    "写入文件的格式，例如：%d %.2f %.18e\n",
    "- delimiter  \n",
    "分割字符串，默认是任何空格"
   ]
  },
  {
   "cell_type": "code",
   "execution_count": 2,
   "metadata": {
    "collapsed": false
   },
   "outputs": [],
   "source": [
    "import numpy as np\n",
    "\n",
    "a = np.arange(100).reshape(5, 20)\n",
    "np.savetxt('a.csv', a, fmt='%d', delimiter=',')"
   ]
  },
  {
   "cell_type": "markdown",
   "metadata": {
    "collapsed": true
   },
   "source": [
    "## 读取-loadtxt\n",
    "\n",
    "```python\n",
    "np.loadtxt(fname, dtype=np.float, delimiter=None, unpack=False)\n",
    "```\n",
    "\n",
    "- fname  \n",
    "文件、字符串或产生器，可以是.gz或.bz2的压缩文件\n",
    "- dtype\n",
    "数据类型，可选\n",
    "- delimiter  \n",
    "分割字符串，默认是任何空格\n",
    "- unpack  \n",
    "如果True，每一列将分别写入不同变量"
   ]
  },
  {
   "cell_type": "code",
   "execution_count": 6,
   "metadata": {
    "collapsed": false
   },
   "outputs": [
    {
     "name": "stdout",
     "output_type": "stream",
     "text": [
      "[[  0.   1.   2.   3.   4.   5.   6.   7.   8.   9.  10.  11.  12.  13.\n",
      "   14.  15.  16.  17.  18.  19.]\n",
      " [ 20.  21.  22.  23.  24.  25.  26.  27.  28.  29.  30.  31.  32.  33.\n",
      "   34.  35.  36.  37.  38.  39.]\n",
      " [ 40.  41.  42.  43.  44.  45.  46.  47.  48.  49.  50.  51.  52.  53.\n",
      "   54.  55.  56.  57.  58.  59.]\n",
      " [ 60.  61.  62.  63.  64.  65.  66.  67.  68.  69.  70.  71.  72.  73.\n",
      "   74.  75.  76.  77.  78.  79.]\n",
      " [ 80.  81.  82.  83.  84.  85.  86.  87.  88.  89.  90.  91.  92.  93.\n",
      "   94.  95.  96.  97.  98.  99.]]\n"
     ]
    }
   ],
   "source": [
    "b = np.loadtxt('a.csv', dtype = np.float, delimiter=',')\n",
    "print(b)"
   ]
  },
  {
   "cell_type": "code",
   "execution_count": 7,
   "metadata": {
    "collapsed": false
   },
   "outputs": [
    {
     "name": "stdout",
     "output_type": "stream",
     "text": [
      "[[  0.  20.  40.  60.  80.]\n",
      " [  1.  21.  41.  61.  81.]\n",
      " [  2.  22.  42.  62.  82.]\n",
      " [  3.  23.  43.  63.  83.]\n",
      " [  4.  24.  44.  64.  84.]\n",
      " [  5.  25.  45.  65.  85.]\n",
      " [  6.  26.  46.  66.  86.]\n",
      " [  7.  27.  47.  67.  87.]\n",
      " [  8.  28.  48.  68.  88.]\n",
      " [  9.  29.  49.  69.  89.]\n",
      " [ 10.  30.  50.  70.  90.]\n",
      " [ 11.  31.  51.  71.  91.]\n",
      " [ 12.  32.  52.  72.  92.]\n",
      " [ 13.  33.  53.  73.  93.]\n",
      " [ 14.  34.  54.  74.  94.]\n",
      " [ 15.  35.  55.  75.  95.]\n",
      " [ 16.  36.  56.  76.  96.]\n",
      " [ 17.  37.  57.  77.  97.]\n",
      " [ 18.  38.  58.  78.  98.]\n",
      " [ 19.  39.  59.  79.  99.]]\n"
     ]
    }
   ],
   "source": [
    "b = np.loadtxt('a.csv', dtype = np.float, delimiter=',', unpack=True)\n",
    "print(b)"
   ]
  },
  {
   "cell_type": "markdown",
   "metadata": {},
   "source": [
    "## 读取-genfromtxt\n",
    "\n",
    "\n",
    "np.genfromtxt()和np.loadtxt()函数类似：\n",
    "\n",
    "```python\n",
    "np.genfromtxt(fname, delimiter=\"\", dtype=str, filling_values = [10])\n",
    "```\n",
    "\n",
    "但是，np.genfromtxt()提供了对缺失值的处理。  \n",
    "假设有一张有缺失值的csv的表：\n",
    "\n",
    "1|2|-\n",
    ":---:|:---:|:---:\n",
    "5|-|6\n",
    "-|-|9\n",
    "\n",
    "可以使用np.genfromtxt()对每一列的缺失值进行填充："
   ]
  },
  {
   "cell_type": "code",
   "execution_count": 26,
   "metadata": {
    "collapsed": false
   },
   "outputs": [
    {
     "name": "stdout",
     "output_type": "stream",
     "text": [
      "[[  1.   2.  30.]\n",
      " [  5.  20.   6.]\n",
      " [ 10.  20.   9.]]\n",
      "[[   1.    2.  999.]\n",
      " [   5.  999.    6.]\n",
      " [ 999.  999.    9.]]\n"
     ]
    }
   ],
   "source": [
    "import numpy as np\n",
    "# 对每一列填充不同的值\n",
    "a = np.genfromtxt('a_nan.csv', delimiter=',', dtype = np.float, filling_values=[10, 20, 30])\n",
    "print(a)\n",
    "\n",
    "# 所有的缺失值填充相同的值\n",
    "b = np.genfromtxt('a_nan.csv', delimiter=',', dtype = np.float, filling_values=999)\n",
    "print(b)"
   ]
  },
  {
   "cell_type": "markdown",
   "metadata": {
    "collapsed": true
   },
   "source": [
    "# 多维数据的存取"
   ]
  },
  {
   "cell_type": "markdown",
   "metadata": {},
   "source": [
    "## 保存\n",
    "\n",
    "```python\n",
    "a.tofile(fname, sep='', format='%s')\n",
    "```\n",
    "\n",
    "- fname  \n",
    "文件、字符串\n",
    "- sep  \n",
    "数据分割字符串，**如果是空串，写入文件为二进制**\n",
    "- format  \n",
    "写入数据的格式"
   ]
  },
  {
   "cell_type": "code",
   "execution_count": 11,
   "metadata": {
    "collapsed": true
   },
   "outputs": [],
   "source": [
    "a = np.arange(18).reshape(3, 6)\n",
    "a.tofile('a.dat', sep = '', format = '%d')"
   ]
  },
  {
   "cell_type": "markdown",
   "metadata": {},
   "source": [
    "## 读取\n",
    "\n",
    "```python\n",
    "np.fromfile(fname, dtype=float, count=-1, sep='')\n",
    "```\n",
    "\n",
    "- fname  \n",
    "文件、字符串\n",
    "- dtype  \n",
    "读取的数据类型\n",
    "- count  \n",
    "读入元素个数，‐1表示读入整个文件\n",
    "- sep  \n",
    "数据分割字符串，**如果是空串，读入文件为二进制**"
   ]
  },
  {
   "cell_type": "code",
   "execution_count": 14,
   "metadata": {
    "collapsed": false
   },
   "outputs": [
    {
     "name": "stdout",
     "output_type": "stream",
     "text": [
      "[ 0  1  2  3  4  5  6  7  8  9 10 11 12 13 14 15 16 17]\n"
     ]
    }
   ],
   "source": [
    "b = np.fromfile('a.dat', dtype = np.int32, sep = '')\n",
    "print(b)"
   ]
  },
  {
   "cell_type": "markdown",
   "metadata": {},
   "source": [
    "> 注意：a.tofile()和np.fromfile()需要配合使用，并且需要知道存入文件时数组的**维度和元素类型**。可以通过元数据文件来存储额外信息。"
   ]
  },
  {
   "cell_type": "markdown",
   "metadata": {},
   "source": [
    "# 便捷文件存取"
   ]
  },
  {
   "cell_type": "markdown",
   "metadata": {},
   "source": [
    "保存：\n",
    "```python\n",
    "np.save(fname, array) 或 np.savez(fname, array)\n",
    "```\n",
    "\n",
    "- fname  \n",
    "文件名，以.npy为扩展名，压缩扩展名为.npz\n",
    "- array  \n",
    "数组变量\n",
    "\n",
    "读取:\n",
    "```python\n",
    "np.load(fname)\n",
    "```\n",
    "\n",
    "- fname  \n",
    "文件名，以.npy为扩展名，压缩扩展名为.npz"
   ]
  },
  {
   "cell_type": "code",
   "execution_count": 19,
   "metadata": {
    "collapsed": false
   },
   "outputs": [
    {
     "name": "stdout",
     "output_type": "stream",
     "text": [
      "[[ 0  1  2  3  4  5]\n",
      " [ 6  7  8  9 10 11]\n",
      " [12 13 14 15 16 17]]\n"
     ]
    }
   ],
   "source": [
    "a = np.arange(18).reshape(3, 6)\n",
    "np.save('a.npy', a)\n",
    "b = np.load('a.npy')\n",
    "print(b)"
   ]
  },
  {
   "cell_type": "markdown",
   "metadata": {},
   "source": [
    "如果我们用文本方式打开a.npy文件：\n",
    "```\n",
    "揘UMPY\u0001 F {'descr': '<i4', 'fortran_order': False, 'shape': (3, 6), }          \n",
    "    \u0001   \u0002   \u0003   \u0004   \u0005   \u0006   \u0007   \b   \t   \n",
    "   \u000b",
    "   \f",
    "   \n",
    "   \u000e   \u000f   \u0010   \u0011   \n",
    "```\n",
    "会发现，npy文件中保存了原来数组的大小和类型。"
   ]
  }
 ],
 "metadata": {
  "kernelspec": {
   "display_name": "Python 3",
   "language": "python",
   "name": "python3"
  },
  "language_info": {
   "codemirror_mode": {
    "name": "ipython",
    "version": 3
   },
   "file_extension": ".py",
   "mimetype": "text/x-python",
   "name": "python",
   "nbconvert_exporter": "python",
   "pygments_lexer": "ipython3",
   "version": "3.6.0"
  },
  "toc": {
   "colors": {
    "hover_highlight": "#DAA520",
    "running_highlight": "#FF0000",
    "selected_highlight": "#FFD700"
   },
   "moveMenuLeft": true,
   "nav_menu": {
    "height": "12px",
    "width": "252px"
   },
   "navigate_menu": true,
   "number_sections": true,
   "sideBar": true,
   "threshold": 4,
   "toc_cell": false,
   "toc_section_display": "block",
   "toc_window_display": true
  }
 },
 "nbformat": 4,
 "nbformat_minor": 2
}

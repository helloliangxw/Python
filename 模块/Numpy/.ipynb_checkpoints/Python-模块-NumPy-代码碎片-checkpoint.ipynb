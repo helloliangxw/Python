{
 "cells": [
  {
   "cell_type": "markdown",
   "metadata": {},
   "source": [
    "---\n",
    "title: Python-模块-NumPy-4\n",
    "date: 2017-04-18 15:38:00\n",
    "mathjax: true\n",
    "categories: \"Python-模块\"\n",
    "tags:\n",
    "    - NumPy\n",
    "---"
   ]
  },
  {
   "cell_type": "markdown",
   "metadata": {},
   "source": [
    "# 交换矩阵的其中两行"
   ]
  },
  {
   "cell_type": "code",
   "execution_count": 11,
   "metadata": {
    "collapsed": false
   },
   "outputs": [
    {
     "name": "stdout",
     "output_type": "stream",
     "text": [
      "[[ 0  1  2  3  4]\n",
      " [ 5  6  7  8  9]\n",
      " [10 11 12 13 14]\n",
      " [15 16 17 18 19]\n",
      " [20 21 22 23 24]]\n"
     ]
    }
   ],
   "source": [
    "import numpy as np\n",
    "a = np.arange(25).reshape(5,5)\n",
    "print(a)"
   ]
  },
  {
   "cell_type": "code",
   "execution_count": 12,
   "metadata": {
    "collapsed": false
   },
   "outputs": [
    {
     "name": "stdout",
     "output_type": "stream",
     "text": [
      "[[ 5  6  7  8  9]\n",
      " [ 0  1  2  3  4]\n",
      " [10 11 12 13 14]\n",
      " [15 16 17 18 19]\n",
      " [20 21 22 23 24]]\n"
     ]
    }
   ],
   "source": [
    "a[[0,1]] = a[[1,0]]\n",
    "print (a)"
   ]
  },
  {
   "cell_type": "markdown",
   "metadata": {},
   "source": [
    "# 找出与给定值最接近的数"
   ]
  },
  {
   "cell_type": "code",
   "execution_count": 34,
   "metadata": {
    "collapsed": false
   },
   "outputs": [
    {
     "name": "stdout",
     "output_type": "stream",
     "text": [
      "[[0 2 4 5]\n",
      " [9 7 6 8]]\n",
      "4\n",
      "9\n",
      "9\n"
     ]
    }
   ],
   "source": [
    "b = np.array([[0,2,4,5],[9,7,6,8]])\n",
    "(m, n) = b.shape\n",
    "print(b)\n",
    "x = 9.1\n",
    "index = np.abs(b-x).argmin()\n",
    "print(index)\n",
    "\n",
    "## 方法1\n",
    "print(b[int(index/n), index - n*int(index/n)])\n",
    "\n",
    "## 方法2\n",
    "print(b.flatten()[index])"
   ]
  },
  {
   "cell_type": "markdown",
   "metadata": {},
   "source": [
    "# 判断是否不全为0"
   ]
  },
  {
   "cell_type": "code",
   "execution_count": 49,
   "metadata": {
    "collapsed": false
   },
   "outputs": [
    {
     "name": "stdout",
     "output_type": "stream",
     "text": [
      "[[0 1 1 0 1 0 1 0 0 0]\n",
      " [1 1 0 1 0 0 1 0 0 0]\n",
      " [1 1 0 1 0 0 1 1 0 0]]\n",
      "[ True False  True  True  True  True  True  True  True  True]\n"
     ]
    }
   ],
   "source": [
    "z = np.random.randint(0,2,(3,10))\n",
    "print(z)\n",
    "not_all_zero = z.any(axis=0)\n",
    "print(is_zero)"
   ]
  },
  {
   "cell_type": "markdown",
   "metadata": {},
   "source": [
    "# 判断是否没有0"
   ]
  },
  {
   "cell_type": "code",
   "execution_count": 48,
   "metadata": {
    "collapsed": false
   },
   "outputs": [
    {
     "name": "stdout",
     "output_type": "stream",
     "text": [
      "[[0 0 0 1 1 0 1 0 1 1]\n",
      " [0 0 1 1 0 0 0 0 1 0]\n",
      " [1 0 0 0 0 1 0 0 1 0]]\n",
      "[False False False False False False False False  True False]\n"
     ]
    }
   ],
   "source": [
    "z = np.random.randint(0,2,(3,10))\n",
    "print(z)\n",
    "has_zero = z.all(axis=0)\n",
    "print(has_zero)"
   ]
  },
  {
   "cell_type": "markdown",
   "metadata": {},
   "source": [
    "# no"
   ]
  },
  {
   "cell_type": "code",
   "execution_count": 61,
   "metadata": {
    "collapsed": false
   },
   "outputs": [
    {
     "name": "stdout",
     "output_type": "stream",
     "text": [
      "[[-1.  -0.6 -0.2  0.2  0.6  1. ]\n",
      " [-1.  -0.6 -0.2  0.2  0.6  1. ]\n",
      " [-1.  -0.6 -0.2  0.2  0.6  1. ]\n",
      " [-1.  -0.6 -0.2  0.2  0.6  1. ]\n",
      " [-1.  -0.6 -0.2  0.2  0.6  1. ]\n",
      " [-1.  -0.6 -0.2  0.2  0.6  1. ]]\n",
      "-------------\n",
      "[[-1.  -1.  -1.  -1.  -1.  -1. ]\n",
      " [-0.6 -0.6 -0.6 -0.6 -0.6 -0.6]\n",
      " [-0.2 -0.2 -0.2 -0.2 -0.2 -0.2]\n",
      " [ 0.2  0.2  0.2  0.2  0.2  0.2]\n",
      " [ 0.6  0.6  0.6  0.6  0.6  0.6]\n",
      " [ 1.   1.   1.   1.   1.   1. ]]\n"
     ]
    }
   ],
   "source": [
    "x,y = np.meshgrid(np.linspace(-1,1,6),np.linspace(-1,1,6))\n",
    "print(x)\n",
    "print(\"-------------\")\n",
    "print(y)"
   ]
  },
  {
   "cell_type": "code",
   "execution_count": 62,
   "metadata": {
    "collapsed": false
   },
   "outputs": [
    {
     "name": "stdout",
     "output_type": "stream",
     "text": [
      "[[ 1.41421356  1.16619038  1.0198039   1.0198039   1.16619038  1.41421356]\n",
      " [ 1.16619038  0.84852814  0.63245553  0.63245553  0.84852814  1.16619038]\n",
      " [ 1.0198039   0.63245553  0.28284271  0.28284271  0.63245553  1.0198039 ]\n",
      " [ 1.0198039   0.63245553  0.28284271  0.28284271  0.63245553  1.0198039 ]\n",
      " [ 1.16619038  0.84852814  0.63245553  0.63245553  0.84852814  1.16619038]\n",
      " [ 1.41421356  1.16619038  1.0198039   1.0198039   1.16619038  1.41421356]]\n"
     ]
    }
   ],
   "source": [
    "D = np.sqrt(x**2+y**2)\n",
    "print(D)"
   ]
  },
  {
   "cell_type": "code",
   "execution_count": 63,
   "metadata": {
    "collapsed": false
   },
   "outputs": [
    {
     "name": "stdout",
     "output_type": "stream",
     "text": [
      "[[ 0.36787944  0.50661699  0.59452055  0.59452055  0.50661699  0.36787944]\n",
      " [ 0.50661699  0.69767633  0.81873075  0.81873075  0.69767633  0.50661699]\n",
      " [ 0.59452055  0.81873075  0.96078944  0.96078944  0.81873075  0.59452055]\n",
      " [ 0.59452055  0.81873075  0.96078944  0.96078944  0.81873075  0.59452055]\n",
      " [ 0.50661699  0.69767633  0.81873075  0.81873075  0.69767633  0.50661699]\n",
      " [ 0.36787944  0.50661699  0.59452055  0.59452055  0.50661699  0.36787944]]\n"
     ]
    }
   ],
   "source": [
    "sigma,mu = 1,0\n",
    "a = np.exp(-(D-mu)**2/(2*sigma**2))\n",
    "print(a)"
   ]
  }
 ],
 "metadata": {
  "kernelspec": {
   "display_name": "Python 3",
   "language": "python",
   "name": "python3"
  },
  "language_info": {
   "codemirror_mode": {
    "name": "ipython",
    "version": 3
   },
   "file_extension": ".py",
   "mimetype": "text/x-python",
   "name": "python",
   "nbconvert_exporter": "python",
   "pygments_lexer": "ipython3",
   "version": "3.6.0"
  },
  "toc": {
   "colors": {
    "hover_highlight": "#DAA520",
    "running_highlight": "#FF0000",
    "selected_highlight": "#FFD700"
   },
   "moveMenuLeft": true,
   "nav_menu": {
    "height": "104px",
    "width": "252px"
   },
   "navigate_menu": true,
   "number_sections": true,
   "sideBar": true,
   "threshold": 4,
   "toc_cell": false,
   "toc_section_display": "block",
   "toc_window_display": true
  }
 },
 "nbformat": 4,
 "nbformat_minor": 1
}

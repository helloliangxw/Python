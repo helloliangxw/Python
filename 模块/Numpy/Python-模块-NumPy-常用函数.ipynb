{
 "cells": [
  {
   "cell_type": "markdown",
   "metadata": {},
   "source": [
    "---\n",
    "title: Python-模块-NumPy-常用函数\n",
    "date: 2017-04-17 20:36:00\n",
    "mathjax: true\n",
    "categories: \"Python-模块\"\n",
    "---"
   ]
  },
  {
   "cell_type": "markdown",
   "metadata": {},
   "source": [
    "# 随机函数"
   ]
  },
  {
   "cell_type": "markdown",
   "metadata": {},
   "source": [
    "函数 | 说明\n",
    ":---:|:---:\n",
    "rand(d0,d1,..,dn) | 根据d0‐dn创建随机数数组，浮点数，[0,1)，均匀分布\n",
    "randn(d0,d1,..,dn) | 根据d0‐dn创建随机数数组，标准正态分布\n",
    "randint(low[,high,shape]) | 根据shape创建随机整数或整数数组，范围是[low, high)\n",
    "seed(s) | 随机数种子，s是给定的种子值"
   ]
  },
  {
   "cell_type": "code",
   "execution_count": 4,
   "metadata": {
    "collapsed": false
   },
   "outputs": [
    {
     "name": "stdout",
     "output_type": "stream",
     "text": [
      "[[ 0.19114922  0.7068554   0.97088057  0.22036382]\n",
      " [ 0.55174823  0.00680082  0.73785489  0.88970624]\n",
      " [ 0.45998671  0.13359651  0.83150316  0.19457805]]\n"
     ]
    }
   ],
   "source": [
    "import numpy as np\n",
    "\n",
    "a = np.random.rand(3, 4)\n",
    "print(a)"
   ]
  },
  {
   "cell_type": "code",
   "execution_count": 8,
   "metadata": {
    "collapsed": false
   },
   "outputs": [
    {
     "name": "stdout",
     "output_type": "stream",
     "text": [
      "[[ 1.12238235  0.27006584  0.63285753  1.08344082]\n",
      " [ 0.75890063 -0.41283425  1.20569367 -0.6684051 ]\n",
      " [-0.9419934   0.40069505 -0.78798551  1.60365521]]\n"
     ]
    }
   ],
   "source": [
    "b = np.random.randn(3, 4)\n",
    "print(b)"
   ]
  },
  {
   "cell_type": "code",
   "execution_count": 9,
   "metadata": {
    "collapsed": false
   },
   "outputs": [
    {
     "name": "stdout",
     "output_type": "stream",
     "text": [
      "[[6 5 7]\n",
      " [8 4 8]]\n"
     ]
    }
   ],
   "source": [
    "c = np.random.randint(3, 10, (2, 3))\n",
    "print(c)"
   ]
  },
  {
   "cell_type": "code",
   "execution_count": 10,
   "metadata": {
    "collapsed": false
   },
   "outputs": [
    {
     "name": "stdout",
     "output_type": "stream",
     "text": [
      "[[4 8 7]\n",
      " [3 4 6]]\n",
      "[[4 8 7]\n",
      " [3 4 6]]\n"
     ]
    }
   ],
   "source": [
    "# 相同的种子，随机数的值相同\n",
    "np.random.seed(10)\n",
    "d = np.random.randint(3, 10, (2, 3))\n",
    "print(d)\n",
    "\n",
    "np.random.seed(10)\n",
    "e = np.random.randint(3, 10, (2, 3))\n",
    "print(e)"
   ]
  },
  {
   "cell_type": "markdown",
   "metadata": {},
   "source": [
    "函数 | 说明\n",
    ":---:|:---:\n",
    "shuffle(a) | 根据数组a的第1轴进行随排列，改变数组a\n",
    "permutation(a) | 根据数组a的第1轴产生一个新的乱序数组，不改变数组a\n",
    "choice(a[,size,replace,p])| 从**一维数组**a中以概率p抽取元素，形成size形状新数组，replace表示是否可以重用元素，默认为False"
   ]
  },
  {
   "cell_type": "code",
   "execution_count": 20,
   "metadata": {
    "collapsed": false
   },
   "outputs": [
    {
     "name": "stdout",
     "output_type": "stream",
     "text": [
      "[[ 0  1  2]\n",
      " [ 3  4  5]\n",
      " [ 6  7  8]\n",
      " [ 9 10 11]\n",
      " [12 13 14]\n",
      " [15 16 17]]\n",
      "[[15 16 17]\n",
      " [ 0  1  2]\n",
      " [ 3  4  5]\n",
      " [12 13 14]\n",
      " [ 6  7  8]\n",
      " [ 9 10 11]]\n"
     ]
    }
   ],
   "source": [
    "# a改变\n",
    "a = np.arange(18).reshape(6, 3)\n",
    "print(a)\n",
    "np.random.shuffle(a)\n",
    "print(a)"
   ]
  },
  {
   "cell_type": "code",
   "execution_count": 21,
   "metadata": {
    "collapsed": false
   },
   "outputs": [
    {
     "name": "stdout",
     "output_type": "stream",
     "text": [
      "[[ 0  1  2]\n",
      " [ 3  4  5]\n",
      " [ 6  7  8]\n",
      " [ 9 10 11]\n",
      " [12 13 14]\n",
      " [15 16 17]]\n",
      "[[ 0  1  2]\n",
      " [ 3  4  5]\n",
      " [ 6  7  8]\n",
      " [ 9 10 11]\n",
      " [12 13 14]\n",
      " [15 16 17]]\n",
      "[[ 0  1  2]\n",
      " [15 16 17]\n",
      " [ 6  7  8]\n",
      " [ 9 10 11]\n",
      " [ 3  4  5]\n",
      " [12 13 14]]\n"
     ]
    }
   ],
   "source": [
    "# a不改变\n",
    "a = np.arange(18).reshape(6, 3)\n",
    "print(a)\n",
    "b = np.random.permutation(a)\n",
    "print(a)\n",
    "print(b)"
   ]
  },
  {
   "cell_type": "code",
   "execution_count": 25,
   "metadata": {
    "collapsed": false
   },
   "outputs": [
    {
     "name": "stdout",
     "output_type": "stream",
     "text": [
      "[[ 6 11 15 13]\n",
      " [ 7 16  6  9]\n",
      " [ 5  4 15  2]]\n"
     ]
    }
   ],
   "source": [
    "a = np.arange(18)\n",
    "b = np.random.choice(a, (3, 4), True, p = a/np.sum(a))\n",
    "print(b)"
   ]
  },
  {
   "cell_type": "markdown",
   "metadata": {},
   "source": [
    "函数 | 说明\n",
    ":---:|:---:\n",
    "uniform(low,high,size) | 产生具有均匀分布的数组,low起始值,high结束值,size形状\n",
    "normal(loc,scale,size) | 产生具有正态分布的数组,loc均值,scale标准差,size形状\n",
    "poisson(lam,size) | 产生具有泊松分布的数组,lam随机事件发生率,size形状"
   ]
  },
  {
   "cell_type": "markdown",
   "metadata": {},
   "source": [
    "# 统计函数"
   ]
  },
  {
   "cell_type": "markdown",
   "metadata": {},
   "source": [
    "函数 | 说明\n",
    ":---:|:---:\n",
    "sum(a, axis=None) | 根据给定轴axis计算数组a相关元素之和，axis整数或元组\n",
    "mean(a, axis=None) | 根据给定轴axis计算数组a相关元素的期望，axis整数或元组\n",
    "average(a,axis=None,weights=None) | 根据给定轴axis计算数组a相关元素的加权平均值\n",
    "std(a, axis=None) | 根据给定轴axis计算数组a相关元素的标准差\n",
    "var(a, axis=None) | 根据给定轴axis计算数组a相关元素的方差\n",
    "\n",
    "**axis=None是统计函数的标配参数**"
   ]
  },
  {
   "cell_type": "code",
   "execution_count": 26,
   "metadata": {
    "collapsed": false
   },
   "outputs": [
    {
     "name": "stdout",
     "output_type": "stream",
     "text": [
      "[[ 0  1  2  3  4]\n",
      " [ 5  6  7  8  9]\n",
      " [10 11 12 13 14]]\n"
     ]
    }
   ],
   "source": [
    "a = np.arange(15).reshape(3, 5)\n",
    "print(a)"
   ]
  },
  {
   "cell_type": "code",
   "execution_count": 27,
   "metadata": {
    "collapsed": false
   },
   "outputs": [
    {
     "name": "stdout",
     "output_type": "stream",
     "text": [
      "[15 18 21 24 27]\n"
     ]
    }
   ],
   "source": [
    "print(np.sum(a, axis=0))"
   ]
  },
  {
   "cell_type": "code",
   "execution_count": 28,
   "metadata": {
    "collapsed": false
   },
   "outputs": [
    {
     "name": "stdout",
     "output_type": "stream",
     "text": [
      "[  2.   7.  12.]\n"
     ]
    }
   ],
   "source": [
    "print(np.mean(a, axis=1))"
   ]
  },
  {
   "cell_type": "code",
   "execution_count": 31,
   "metadata": {
    "collapsed": false
   },
   "outputs": [
    {
     "name": "stdout",
     "output_type": "stream",
     "text": [
      "[ 2.1875  3.1875  4.1875  5.1875  6.1875]\n"
     ]
    }
   ],
   "source": [
    "# axis = 0为列向\n",
    "# 以第2列为例\n",
    "# (1*10+6*5+11*1)/(10+5+1) = 3.1875\n",
    "print(np.average(a, axis = 0, weights = [10, 5, 1]))"
   ]
  },
  {
   "cell_type": "code",
   "execution_count": 29,
   "metadata": {
    "collapsed": false
   },
   "outputs": [
    {
     "name": "stdout",
     "output_type": "stream",
     "text": [
      "4.32049379894 18.6666666667\n"
     ]
    }
   ],
   "source": [
    "print(np.std(a), np.var(a))"
   ]
  },
  {
   "cell_type": "markdown",
   "metadata": {},
   "source": [
    "函数 | 说明\n",
    ":---:|:---:\n",
    "min(a) max(a) | 计算数组a中元素的最小值、最大值\n",
    "argmin(a) argmax(a) | 计算数组a中元素最小值、最大值的降一维后下标\n",
    "unravel_index(index, shape) | 根据shape将一维下标index转换成多维下标\n",
    "ptp(a) | 计算数组a中元素最大值与最小值的差\n",
    "median(a) | 计算数组a中元素的中位数（中值）"
   ]
  },
  {
   "cell_type": "code",
   "execution_count": 32,
   "metadata": {
    "collapsed": false
   },
   "outputs": [
    {
     "name": "stdout",
     "output_type": "stream",
     "text": [
      "[[ 0  1  2  3  4]\n",
      " [ 5  6  7  8  9]\n",
      " [10 11 12 13 14]]\n"
     ]
    }
   ],
   "source": [
    "a = np.arange(15).reshape(3, 5)\n",
    "print(a)"
   ]
  },
  {
   "cell_type": "code",
   "execution_count": 33,
   "metadata": {
    "collapsed": false
   },
   "outputs": [
    {
     "name": "stdout",
     "output_type": "stream",
     "text": [
      "14 [0 1 2 3 4]\n"
     ]
    }
   ],
   "source": [
    "print(np.max(a), np.min(a, axis = 0))"
   ]
  },
  {
   "cell_type": "code",
   "execution_count": 46,
   "metadata": {
    "collapsed": false
   },
   "outputs": [
    {
     "name": "stdout",
     "output_type": "stream",
     "text": [
      "[0 0 0 0 0] [4 4 4] 14\n"
     ]
    }
   ],
   "source": [
    "print(np.argmin(a, axis = 0), np.argmax(a, axis = 1), np.argmax(a))"
   ]
  },
  {
   "cell_type": "code",
   "execution_count": 48,
   "metadata": {
    "collapsed": false
   },
   "outputs": [
    {
     "name": "stdout",
     "output_type": "stream",
     "text": [
      "(array([2], dtype=int64), array([4], dtype=int64))\n"
     ]
    }
   ],
   "source": [
    "print(np.unravel_index([14], (3, 5)))"
   ]
  },
  {
   "cell_type": "code",
   "execution_count": 37,
   "metadata": {
    "collapsed": false
   },
   "outputs": [
    {
     "name": "stdout",
     "output_type": "stream",
     "text": [
      "14\n"
     ]
    }
   ],
   "source": [
    "print(np.ptp(a))"
   ]
  },
  {
   "cell_type": "code",
   "execution_count": 38,
   "metadata": {
    "collapsed": false
   },
   "outputs": [
    {
     "name": "stdout",
     "output_type": "stream",
     "text": [
      "7.0\n"
     ]
    }
   ],
   "source": [
    "print(np.median(a))"
   ]
  },
  {
   "cell_type": "markdown",
   "metadata": {},
   "source": [
    "# 梯度函数"
   ]
  },
  {
   "cell_type": "markdown",
   "metadata": {},
   "source": [
    "函数 | 说明\n",
    ":---:|:---:\n",
    "np.gradient(f) | 计算数组f中元素的梯度，当f为多维时，返回每个维度梯度\n",
    "\n",
    "梯度：连续值之间的变化率，即斜率。  \n",
    "XY坐标系中，连续三个X坐标对应的Y轴值为a、b、c，那么b的梯度是：(c‐a)/2  \n",
    "\n",
    "对于[a, b, c, d]而言，  \n",
    "a的梯度为：(b-a)/1  \n",
    "b的梯度为：(c-a)/2  \n",
    "c的梯度为：(d-b)/2  \n",
    "d的梯度为：(d-c)/1  "
   ]
  },
  {
   "cell_type": "code",
   "execution_count": 51,
   "metadata": {
    "collapsed": false
   },
   "outputs": [
    {
     "name": "stdout",
     "output_type": "stream",
     "text": [
      "[11 10  9 15 18]\n"
     ]
    }
   ],
   "source": [
    "a = np.random.randint(0, 20, (5))\n",
    "print(a)"
   ]
  },
  {
   "cell_type": "code",
   "execution_count": 53,
   "metadata": {
    "collapsed": false
   },
   "outputs": [
    {
     "name": "stdout",
     "output_type": "stream",
     "text": [
      "[-1.  -1.   2.5  4.5  3. ]\n"
     ]
    }
   ],
   "source": [
    "print(np.gradient(a))"
   ]
  },
  {
   "cell_type": "code",
   "execution_count": 54,
   "metadata": {
    "collapsed": false
   },
   "outputs": [
    {
     "name": "stdout",
     "output_type": "stream",
     "text": [
      "[[16  7 11 17 14]\n",
      " [ 7 11  1  0 12]\n",
      " [ 5  4  7 18 12]]\n"
     ]
    }
   ],
   "source": [
    "a = np.random.randint(0, 20, (3, 5))\n",
    "print(a)"
   ]
  },
  {
   "cell_type": "code",
   "execution_count": 56,
   "metadata": {
    "collapsed": false
   },
   "outputs": [
    {
     "name": "stdout",
     "output_type": "stream",
     "text": [
      "[array([[ -9. ,   4. , -10. , -17. ,  -2. ],\n",
      "       [ -5.5,  -1.5,  -2. ,   0.5,  -1. ],\n",
      "       [ -2. ,  -7. ,   6. ,  18. ,   0. ]]), array([[ -9. ,  -2.5,   5. ,   1.5,  -3. ],\n",
      "       [  4. ,  -3. ,  -5.5,   5.5,  12. ],\n",
      "       [ -1. ,   1. ,   7. ,   2.5,  -6. ]])]\n"
     ]
    }
   ],
   "source": [
    "# 结果分别表示，第0维的梯度和第1维的梯度\n",
    "print(np.gradient(a))"
   ]
  }
 ],
 "metadata": {
  "kernelspec": {
   "display_name": "Python 3",
   "language": "python",
   "name": "python3"
  },
  "language_info": {
   "codemirror_mode": {
    "name": "ipython",
    "version": 3
   },
   "file_extension": ".py",
   "mimetype": "text/x-python",
   "name": "python",
   "nbconvert_exporter": "python",
   "pygments_lexer": "ipython3",
   "version": "3.6.0"
  },
  "toc": {
   "colors": {
    "hover_highlight": "#DAA520",
    "running_highlight": "#FF0000",
    "selected_highlight": "#FFD700"
   },
   "moveMenuLeft": true,
   "nav_menu": {
    "height": "66px",
    "width": "252px"
   },
   "navigate_menu": true,
   "number_sections": true,
   "sideBar": true,
   "threshold": 4,
   "toc_cell": false,
   "toc_section_display": "block",
   "toc_window_display": true
  }
 },
 "nbformat": 4,
 "nbformat_minor": 2
}

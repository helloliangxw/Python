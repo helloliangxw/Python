{
 "cells": [
  {
   "cell_type": "markdown",
   "metadata": {},
   "source": [
    "---\n",
    "title: Python-模块-time和datetime\n",
    "date: 2017-04-20 09:24:00\n",
    "mathjax: true\n",
    "categories: \"Python-模块\"\n",
    "---"
   ]
  },
  {
   "cell_type": "markdown",
   "metadata": {},
   "source": [
    "# time"
   ]
  },
  {
   "cell_type": "code",
   "execution_count": 24,
   "metadata": {
    "collapsed": false
   },
   "outputs": [
    {
     "name": "stdout",
     "output_type": "stream",
     "text": [
      "1488184219.92\n",
      "time.struct_time(tm_year=2017, tm_mon=2, tm_mday=27, tm_hour=16, tm_min=30, tm_sec=19, tm_wday=0, tm_yday=58, tm_isdst=0)\n",
      "tick!\n",
      "tick!\n",
      "tick!\n"
     ]
    }
   ],
   "source": [
    "import time\n",
    "\n",
    "print time.time()\n",
    "print time.localtime()\n",
    "\n",
    "for i in range(3):\n",
    "    time.sleep(1) # 单位为s\n",
    "    print \"tick!\""
   ]
  },
  {
   "cell_type": "markdown",
   "metadata": {},
   "source": [
    "# datetime"
   ]
  },
  {
   "cell_type": "code",
   "execution_count": 44,
   "metadata": {
    "collapsed": false
   },
   "outputs": [
    {
     "name": "stdout",
     "output_type": "stream",
     "text": [
      "today is:  2017-02-27\n",
      "time now is:  2017-02-27 16:42:10.219000\n",
      "time now is:  2017-02-27 08:42:10.219000\n"
     ]
    }
   ],
   "source": [
    "import datetime as DT\n",
    "\n",
    "print 'today is: ', DT.date.today()\n",
    "print 'local time now is: ', DT.datetime.now() # 当地时间\n",
    "print 'utc time now is: ', DT.datetime.utcnow()  # utc时间"
   ]
  },
  {
   "cell_type": "markdown",
   "metadata": {},
   "source": [
    "将数字或字符串转化为相应的日期和时间（转换后的类型为日期类型）："
   ]
  },
  {
   "cell_type": "code",
   "execution_count": 36,
   "metadata": {
    "collapsed": false
   },
   "outputs": [
    {
     "name": "stdout",
     "output_type": "stream",
     "text": [
      "2017-02-27\n",
      "16:32:00\n",
      "2017-02-27 16:34:11\n",
      "--------------------------------\n",
      "<type 'datetime.date'>\n",
      "<type 'datetime.time'>\n",
      "<type 'datetime.datetime'>\n"
     ]
    }
   ],
   "source": [
    "import datetime as DT\n",
    "\n",
    "pDate = DT.date(2017, 2, 27)\n",
    "pTime = DT.time(16,32)\n",
    "pDatetime = DT.datetime.strptime('20170227 16:34:11', '%Y%m%d %H:%M:%S')\n",
    "\n",
    "print pDate\n",
    "print pTime\n",
    "print pDatetime\n",
    "print '--------------------------------'\n",
    "print type(pDate)\n",
    "print type(pTime)\n",
    "print type(pDatetime)"
   ]
  },
  {
   "cell_type": "markdown",
   "metadata": {},
   "source": [
    "也可以进行日期之间的计算："
   ]
  },
  {
   "cell_type": "code",
   "execution_count": 46,
   "metadata": {
    "collapsed": false
   },
   "outputs": [
    {
     "name": "stdout",
     "output_type": "stream",
     "text": [
      "0\n",
      "58\n",
      "2017-02-27 17:37:11\n"
     ]
    }
   ],
   "source": [
    "import datetime as DT\n",
    "\n",
    "pDatetime = DT.datetime.strptime('20170227 16:37:11', '%Y%m%d %H:%M:%S')\n",
    "\n",
    "# 计算两个日期之间的天数\n",
    "days = (  DT.datetime.now()-  pDatetime  ).days\n",
    "print days\n",
    "\n",
    "# 计算儒略日\n",
    "DOY = (  pDatetime- DT.datetime(pDatetime.year, 1, 1) ).days + 1\n",
    "print DOY\n",
    "\n",
    "# 计算1h之后的日期\n",
    "aftTime = pDatetime + DT.timedelta(hours=1)\n",
    "print aftTime"
   ]
  }
 ],
 "metadata": {
  "kernelspec": {
   "display_name": "Python 3",
   "language": "python",
   "name": "python3"
  },
  "language_info": {
   "codemirror_mode": {
    "name": "ipython",
    "version": 3
   },
   "file_extension": ".py",
   "mimetype": "text/x-python",
   "name": "python",
   "nbconvert_exporter": "python",
   "pygments_lexer": "ipython3",
   "version": "3.6.0"
  },
  "toc": {
   "colors": {
    "hover_highlight": "#DAA520",
    "running_highlight": "#FF0000",
    "selected_highlight": "#FFD700"
   },
   "moveMenuLeft": true,
   "nav_menu": {
    "height": "84px",
    "width": "252px"
   },
   "navigate_menu": true,
   "number_sections": true,
   "sideBar": true,
   "threshold": 4,
   "toc_cell": false,
   "toc_section_display": "block",
   "toc_window_display": true
  }
 },
 "nbformat": 4,
 "nbformat_minor": 1
}
